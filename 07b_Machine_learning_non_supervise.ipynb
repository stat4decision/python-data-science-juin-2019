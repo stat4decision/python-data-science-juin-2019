{
 "cells": [
  {
   "cell_type": "markdown",
   "metadata": {
    "slideshow": {
     "slide_type": "slide"
    }
   },
   "source": [
    "# L’apprentissage non supervisé\n",
    "\n",
    "## Implémentation d’une méthode de clustering avec Python\n",
    "\n",
    "Dans le cas d’un clustering les données consiste en un bloc de variables x\n",
    "desquelles on va extraire des groupes d’observations.\n",
    "\n",
    "Nous allons appliquer les k-means directement sur les données. Les k-means\n",
    "(k-moyennes) sont donc un algorithme d’apprentissage non supervisé permettant\n",
    "de construire des classes d’observations à partir d’un jeu de données de grande\n",
    "dimension."
   ]
  },
  {
   "cell_type": "markdown",
   "metadata": {
    "slideshow": {
     "slide_type": "slide"
    }
   },
   "source": [
    "## Préparation des données\n",
    "\n",
    "Les données que nous utilisons sont des données sur les communes d’Île-de-\n",
    "France et leur caractéristiques socio-démographiques. \n",
    "\n",
    "Notre objectif est ici de comprendre s’il existe des classes de communes ayant des caractéristiques proches.\n",
    "On obtiendra ainsi une typologie des communes d’Île-de-France et on pourra représenter\n",
    "ces groupes sur une carte.\n",
    "\n",
    "Nous allons préparer ces données qui sont disponibles sur le site du livre. Une\n",
    "description est disponible au début du chapitre 4.m"
   ]
  },
  {
   "cell_type": "code",
   "execution_count": 1,
   "metadata": {
    "slideshow": {
     "slide_type": "subslide"
    }
   },
   "outputs": [],
   "source": [
    "import pandas as pd\n",
    "import numpy as np\n",
    "# on récupère le fichier csv\n",
    "data=pd.read_csv(\"./data/base-dpt.csv\",sep=\";\")\n",
    "# on enlève des variables avec trop de données manquantes\n",
    "data.drop([\"PIMP14\",\"TP6014\"],axis=1,inplace=True)\n",
    "# on enlève les observations avec des données manquantes\n",
    "data.dropna(inplace=True)\n",
    "# on extrait dans un DataFrame la position géographique des comunes\n",
    "position=pd.DataFrame(data[\"geo_point_2d\"])\n",
    "# on crée une colonne longitude en prenant la première partie\n",
    "# de la colonne geo_point_2\n",
    "position[\"longitude\"]=pd.to_numeric(position[\"geo_point_2d\"].str.split(',')\\\n",
    "                                    .str.get(0))\n",
    "# on fait la même chose pour la latitude\n",
    "position[\"latitude\"]=pd.to_numeric(position[\"geo_point_2d\"].str.split(',')\\\n",
    "                                   .str.get(1))\n",
    "# finalement, on sélectionne uniquement les données numériques\n",
    "# pour faire notre K-means et on enlève trois variables inutiles\n",
    "x=data.select_dtypes(np.number).drop([\"CODGEO\",\"REG\",\"DEP\"],axis=1)"
   ]
  },
  {
   "cell_type": "markdown",
   "metadata": {
    "slideshow": {
     "slide_type": "slide"
    }
   },
   "source": [
    "## Validation du modèle et choix du nombre de classes\n",
    "Dans le cas du clustering, il est très difficile de valider le modèle avec des indicateurs\n",
    "statistiques. En effet, on ne peut pas tester la qualité prédictive. Nous allons\n",
    "essayer de faire en sorte d’obtenir des classes les plus homogènes possibles et de\n",
    "minimiser l’inertie. \n",
    "\n",
    "Afin de choisir le nombre de classe à utiliser on peut utiliser un\n",
    "graphique. Elle représente l’inertie par nombre de classes. On recherche un coude\n",
    "dans cette courbe pour décider le nombre à retenir."
   ]
  },
  {
   "cell_type": "code",
   "execution_count": 3,
   "metadata": {
    "slideshow": {
     "slide_type": "subslide"
    }
   },
   "outputs": [],
   "source": [
    "from sklearn.cluster import KMeans\n",
    "import matplotlib.pyplot as plt\n",
    "%matplotlib inline"
   ]
  },
  {
   "cell_type": "code",
   "execution_count": 13,
   "metadata": {
    "slideshow": {
     "slide_type": "fragment"
    }
   },
   "outputs": [],
   "source": [
    "# on crée une liste dans laquelle on stocke les inerties\n",
    "inerties=[]\n",
    "modeles_kmeans=[]\n",
    "# on fait une boucle de 2 à 9 pour tester toutes ces possibiliéts\n",
    "for k in range(2, 10):\n",
    "    # pour chaque k, on crée un modèle et on l’ajuste\n",
    "    modeles_kmeans.append(KMeans(n_clusters=k))\n",
    "    modeles_kmeans[k-2].fit(x)\n",
    "    # on stocke l’inertie associée\n",
    "    inerties.append(kmeans.inertia_)"
   ]
  },
  {
   "cell_type": "code",
   "execution_count": 16,
   "metadata": {},
   "outputs": [
    {
     "data": {
      "text/plain": [
       "KMeans(algorithm='auto', copy_x=True, init='k-means++', max_iter=300,\n",
       "    n_clusters=6, n_init=10, n_jobs=None, precompute_distances='auto',\n",
       "    random_state=None, tol=0.0001, verbose=0)"
      ]
     },
     "execution_count": 16,
     "metadata": {},
     "output_type": "execute_result"
    }
   ],
   "source": [
    "modeles_kmeans[4]"
   ]
  },
  {
   "cell_type": "code",
   "execution_count": 5,
   "metadata": {
    "slideshow": {
     "slide_type": "subslide"
    }
   },
   "outputs": [
    {
     "data": {
      "image/png": "[encoded data removed]",
      "text/plain": [
       "<Figure size 432x288 with 1 Axes>"
      ]
     },
     "metadata": {
      "needs_background": "light"
     },
     "output_type": "display_data"
    }
   ],
   "source": [
    "# on représente le graphique\n",
    "fig=plt.figure(figsize=(6, 4))\n",
    "plt.plot(range(2, 10), inerties)\n",
    "plt.xlabel(\"Nombre de clusters\")\n",
    "plt.ylabel(\"Inertie\")\n",
    "plt.title('Inertie vs nombre de classes')\n",
    "plt.savefig(\"./images/elbow.png\")\n"
   ]
  },
  {
   "cell_type": "markdown",
   "metadata": {
    "slideshow": {
     "slide_type": "fragment"
    }
   },
   "source": [
    "![image](./images/elbow.png)"
   ]
  },
  {
   "cell_type": "markdown",
   "metadata": {
    "slideshow": {
     "slide_type": "slide"
    }
   },
   "source": [
    "## Application des k-means\n",
    "Pour appliquer les k-means sur nos données, on utilisera :"
   ]
  },
  {
   "cell_type": "code",
   "execution_count": 6,
   "metadata": {
    "slideshow": {
     "slide_type": "fragment"
    }
   },
   "outputs": [
    {
     "data": {
      "text/plain": [
       "KMeans(algorithm='auto', copy_x=True, init='k-means++', max_iter=300,\n",
       "    n_clusters=4, n_init=10, n_jobs=None, precompute_distances='auto',\n",
       "    random_state=None, tol=0.0001, verbose=0)"
      ]
     },
     "execution_count": 6,
     "metadata": {},
     "output_type": "execute_result"
    }
   ],
   "source": [
    "from sklearn.cluster import KMeans\n",
    "modele_km = KMeans(n_clusters=4)\n",
    "modele_km.fit(x)"
   ]
  },
  {
   "cell_type": "code",
   "execution_count": 8,
   "metadata": {
    "slideshow": {
     "slide_type": "subslide"
    }
   },
   "outputs": [
    {
     "name": "stdout",
     "output_type": "stream",
     "text": [
      "                           0         1         2          3\n",
      "Nombre d’individus   1063.00     32.00    172.00      10.00\n",
      "P14_POP              2520.14  75067.59  30048.72  177206.80\n",
      "P09_POP              2438.52  73660.69  29077.12  177166.40\n",
      "SUPERF                  9.48      8.29      8.59       8.21\n",
      "NAIS0914              157.02   6120.00   2467.56   12244.80\n",
      "DECE0914               77.66   2127.72    872.23    5637.90\n",
      "P14_MEN               971.20  32671.56  12136.82   90563.71\n",
      "NAISD16                30.86   1192.66    486.42    2333.60\n",
      "DECESD16               17.10    428.94    181.58    1147.60\n",
      "P14_LOG              1065.33  36851.11  13126.00  104668.51\n",
      "P14_RP                971.20  32671.56  12136.82   90563.71\n",
      "P14_RSECOCC            30.34   1688.96    232.42    6173.12\n",
      "P14_LOGVAC             63.78   2490.60    756.76    7931.68\n",
      "P14_RP_PROP           669.37  13125.46   5693.89   29323.08\n",
      "NBMENFISC14           958.26  30785.59  11736.59   82067.90\n",
      "MED14               25363.69  25189.03  22238.60   26142.57\n",
      "P14_EMPLT             756.00  53519.14  12154.64  107240.28\n",
      "P14_EMPLT_SAL         662.39  48372.26  11006.97   92635.95\n",
      "P09_EMPLT             732.02  53240.56  12126.41  108029.47\n",
      "P14_POP1564          1641.37  50433.32  19756.05  123403.33\n",
      "P14_CHOM1564          124.05   5228.42   2034.11   11852.98\n",
      "P14_ACT1564          1253.88  38380.76  14934.71   95412.51\n",
      "ETTOT15               208.70  12275.59   2707.62   31466.20\n",
      "ETAZ15                  5.23     14.66      4.63      27.80\n",
      "ETBE15                  9.37    358.25     95.80     797.40\n",
      "ETFZ15                 25.19    833.16    285.85    1513.10\n",
      "ETGU15                141.75   9936.03   1996.67   25662.30\n",
      "ETGZ15                 35.38   1590.19    462.74    3482.30\n",
      "ETOQ15                 27.15   1133.50    324.67    3465.60\n",
      "ETTEF115               45.59   2785.53    604.03    6722.00\n",
      "ETTEFP1015             12.71    731.22    166.35    1217.90\n"
     ]
    }
   ],
   "source": [
    "# on stocke les classes d’appartenance dans classes\n",
    "classes=modele_km.labels_\n",
    "# on crée un DataFrame avec le nombre d’individus par calsse\n",
    "count=pd.DataFrame(np.unique(classes,return_counts=True)[1],\n",
    "columns=[\"Nombre d’individus\"])\n",
    "# on stocke les centres des classes dans un DataFrame\n",
    "centres=pd.DataFrame(modele_km.cluster_centers_,columns=x.columns)\n",
    "# on affiche le DataFrame avec les deux informations\n",
    "pd.set_option('precision',2)\n",
    "print(pd.concat([count,pd.DataFrame(centres,columns=x.columns)],axis=1).T)\n",
    "pd.reset_option('precision')"
   ]
  },
  {
   "cell_type": "code",
   "execution_count": 11,
   "metadata": {
    "slideshow": {
     "slide_type": "slide"
    }
   },
   "outputs": [
    {
     "data": {
      "image/png": "[encoded data removed]",
      "text/plain": [
       "<Figure size 576x432 with 1 Axes>"
      ]
     },
     "metadata": {
      "needs_background": "light"
     },
     "output_type": "display_data"
    }
   ],
   "source": [
    "# on crée une figure\n",
    "plt.figure(figsize=(8,6))\n",
    "# on fait une boucle sur les classes en définissant des marqueurs par classe\n",
    "markers=[\"+\",\"s\",\"^\",\"v\"]\n",
    "for val, mark in zip(np.unique(classes),markers):\n",
    "    plt.scatter(position[\"latitude\"][classes==val],\n",
    "                position[\"longitude\"][classes==val], marker=mark,\n",
    "                label=\"classe %i\"%(val))\n",
    "plt.title(\"Représentation des classes sur la région Ile-de-France\")\n",
    "plt.legend()\n",
    "plt.savefig(\"./images/idf2.png\")"
   ]
  },
  {
   "cell_type": "markdown",
   "metadata": {
    "slideshow": {
     "slide_type": "fragment"
    }
   },
   "source": [
    "![image](./images/idf2.png)"
   ]
  },
  {
   "cell_type": "markdown",
   "metadata": {
    "slideshow": {
     "slide_type": "subslide"
    }
   },
   "source": [
    "On voit que les quatre classes se répartissent très bien sur l’Ile-de-France avec :\n",
    "- Classe 0 : petites communes éloignées de Paris\n",
    "- Classe 1 : grandes communes de la petite ceinture\n",
    "- Classe 2 : arrondissements extérieurs de Paris (12 à 20)\n",
    "- Classe 3 : communes moyennes moins proches de Paris\n",
    "\n",
    "On pourrait bien entendu ajouter un fond de carte comme nous l’avons fait dans\n",
    "le chapitre 5."
   ]
  },
  {
   "cell_type": "markdown",
   "metadata": {
    "slideshow": {
     "slide_type": "subslide"
    }
   },
   "source": [
    "**Exercice :**\n",
    "    \n",
    "Traitement d'image avec les Kmeans\n",
    "\n",
    "On veut changer le nombre de couleur d'une photo de New York avec les K-means"
   ]
  },
  {
   "cell_type": "markdown",
   "metadata": {
    "slideshow": {
     "slide_type": "slide"
    }
   },
   "source": [
    "## Les méthodes de réduction de dimension\n",
    "\n",
    "Parmi les algorithmes non supervisés, on inclut souvent des méthodes qui permettent de réduire le nombre de dimensions de vos données. Nous allons présenter\n",
    "l’utilisation de trois d’entre elles : l’analyse en composantes principales et deux\n",
    "méthodes non linéaires.\n",
    "\n",
    "Les méthodes de réduction de dimensions se divisent en deux familles : les\n",
    "méthodes linéaires et les méthodes non linéaires."
   ]
  },
  {
   "cell_type": "markdown",
   "metadata": {
    "slideshow": {
     "slide_type": "subslide"
    }
   },
   "source": [
    "### Méthodes linéaires\n",
    "Il s’agit de méthodes d’analyse de données souvent bien connues. On pourra citer :\n",
    "\n",
    "- l’analyse en composantes principales (ACP/PCA)\n",
    "- l’analyse en composantes indépendantes\n",
    "- la décomposition en valeurs singulières\n",
    "- l’analyse factorielle\n",
    "- les analyses multi-tableaux\n",
    "\n",
    "Et pour des données qualitatives :\n",
    "   \n",
    "- l’analyse des correspondances multiples\n",
    "\n",
    "Scikit-Learn possède de nombreuses approches mais nous allons nous concentrer sur une application de l’analyse en composantes principales."
   ]
  },
  {
   "cell_type": "markdown",
   "metadata": {
    "slideshow": {
     "slide_type": "slide"
    }
   },
   "source": [
    "## Application de l'ACP\n",
    "Nous utilisons une base de données d’images : celle du jeu de données Fashion-\n",
    "MNIST qui rassemble des photographies de vêtements (un vêtement par image).\n",
    "Ces données sont directement disponibles dans le package Keras. Nous allons utiliser l’ACP pour réduire la complexité de ces images. \n",
    "\n",
    "Une description des données est disponible au début du chapitre 4."
   ]
  },
  {
   "cell_type": "code",
   "execution_count": 14,
   "metadata": {
    "slideshow": {
     "slide_type": "subslide"
    }
   },
   "outputs": [
    {
     "name": "stderr",
     "output_type": "stream",
     "text": [
      "C:\\Users\\s4d-asus-14\\Anaconda3\\lib\\site-packages\\h5py\\__init__.py:36: FutureWarning: Conversion of the second argument of issubdtype from `float` to `np.floating` is deprecated. In future, it will be treated as `np.float64 == np.dtype(float).type`.\n",
      "  from ._conv import register_converters as _register_converters\n",
      "Using TensorFlow backend.\n"
     ]
    }
   ],
   "source": [
    "%matplotlib inline\n",
    "from sklearn.decomposition import PCA\n",
    "import numpy as np\n",
    "import matplotlib.pyplot as plt\n",
    "from keras.datasets import fashion_mnist"
   ]
  },
  {
   "cell_type": "code",
   "execution_count": 15,
   "metadata": {
    "slideshow": {
     "slide_type": "subslide"
    }
   },
   "outputs": [
    {
     "data": {
      "text/plain": [
       "(60000, 28, 28)"
      ]
     },
     "execution_count": 15,
     "metadata": {},
     "output_type": "execute_result"
    }
   ],
   "source": [
    "# on récupère les données dans 4 arrays\n",
    "(train_img, train_lbl), (test_img, test_lbl)=fashion_mnist.load_data()\n",
    "# ce jeu de données d’apprentissage est composé de 600000 images\n",
    "# ayant 28 x 28 pixels en noir et blanc\n",
    "train_img.shape"
   ]
  },
  {
   "cell_type": "code",
   "execution_count": 17,
   "metadata": {
    "slideshow": {
     "slide_type": "fragment"
    }
   },
   "outputs": [
    {
     "data": {
      "text/plain": [
       "8"
      ]
     },
     "execution_count": 17,
     "metadata": {},
     "output_type": "execute_result"
    }
   ],
   "source": [
    "# l’image 801 a le label 9: chaussure\n",
    "train_lbl[100]"
   ]
  },
  {
   "cell_type": "code",
   "execution_count": 23,
   "metadata": {
    "slideshow": {
     "slide_type": "subslide"
    }
   },
   "outputs": [
    {
     "data": {
      "text/plain": [
       "<matplotlib.image.AxesImage at 0x151801e79b0>"
      ]
     },
     "execution_count": 23,
     "metadata": {},
     "output_type": "execute_result"
    },
    {
     "data": {
      "image/png": "[encoded data removed]",
      "text/plain": [
       "<Figure size 432x288 with 1 Axes>"
      ]
     },
     "metadata": {},
     "output_type": "display_data"
    }
   ],
   "source": [
    "plt.imshow(train_img[150])"
   ]
  },
  {
   "cell_type": "markdown",
   "metadata": {
    "slideshow": {
     "slide_type": "subslide"
    }
   },
   "source": [
    "Nous avons donc récupéré des images de taille 28 par 28 qui sont stockées dans\n",
    "un array avec une image par ligne.\n",
    "\n",
    "L’objectif est de réduire le nombre d’informations nécessaires à l’apprentissage de ces images en vue d’appliquer un modèle prédictif. Nous allons voir comment simplifier ces images en utilisant toutes les données :"
   ]
  },
  {
   "cell_type": "code",
   "execution_count": 19,
   "metadata": {
    "slideshow": {
     "slide_type": "subslide"
    }
   },
   "outputs": [
    {
     "data": {
      "text/plain": [
       "(60000, 24)"
      ]
     },
     "execution_count": 19,
     "metadata": {},
     "output_type": "execute_result"
    }
   ],
   "source": [
    "# on passe les images en deux dimensions\n",
    "img_acp=train_img.reshape(train_img.shape[0],-1)\n",
    "\n",
    "# on crée un modèle d’ACP\n",
    "pca=PCA(n_components=.80)\n",
    "\n",
    "# on réduit le nombre de dimensions avec l’ACP\n",
    "donnees_reduites=pca.fit_transform(img_acp)\n",
    "\n",
    "# Pour capturer 80% de l’information, on utiliser 43 des 784 composantes\n",
    "# on projette les données réduites dans l’espace d’origine\n",
    "projection=pca.inverse_transform(donnees_reduites)\n",
    "\n",
    "donnees_reduites.shape"
   ]
  },
  {
   "cell_type": "code",
   "execution_count": 22,
   "metadata": {
    "slideshow": {
     "slide_type": "subslide"
    }
   },
   "outputs": [
    {
     "data": {
      "image/png": "[encoded data removed]",
      "text/plain": [
       "<Figure size 576x288 with 2 Axes>"
      ]
     },
     "metadata": {},
     "output_type": "display_data"
    }
   ],
   "source": [
    "# on affiche les résultats\n",
    "plt.figure(figsize=(8,4));\n",
    "# image initale\n",
    "plt.subplot(1, 2, 1);\n",
    "plt.imshow(img_acp[150].reshape(28,28))\n",
    "plt.xlabel('%i composantes'%(img_acp.shape[1]))\n",
    "plt.title('Image initiale');\n",
    "# image basée sur l’ACP\n",
    "plt.subplot(1, 2, 2);\n",
    "plt.imshow(projection[150].reshape(28, 28))\n",
    "plt.xlabel('%i composantes' %(donnees_reduites.shape[1]))\n",
    "plt.title('%s de variance expliquée'%(str(pca.n_components*100)+\"%\"))\n",
    "plt.savefig(\"transfo.png\")"
   ]
  },
  {
   "cell_type": "markdown",
   "metadata": {
    "slideshow": {
     "slide_type": "slide"
    }
   },
   "source": [
    "## Aller plus loin\n",
    "\n",
    "De nombreuses autres méthodes de machine learning non supervisé sont disponibles. La documentation de scikit-learn vous aidera à en avoir un aperçu très lare :\n",
    "    \n",
    "- Clustering : \n",
    "\n",
    "http://scikit-learn.org/stable/modules/clustering.html#clustering\n",
    "\n",
    "\n",
    "- Réduction de dimension : \n",
    "\n",
    "http://scikit-learn.org/stable/modules/decomposition.html#decompositions"
   ]
  }
 ],
 "metadata": {
  "celltoolbar": "Slideshow",
  "kernelspec": {
   "display_name": "Python 3",
   "language": "python",
   "name": "python3"
  },
  "language_info": {
   "codemirror_mode": {
    "name": "ipython",
    "version": 3
   },
   "file_extension": ".py",
   "mimetype": "text/x-python",
   "name": "python",
   "nbconvert_exporter": "python",
   "pygments_lexer": "ipython3",
   "version": "3.6.8"
  }
 },
 "nbformat": 4,
 "nbformat_minor": 2
}
