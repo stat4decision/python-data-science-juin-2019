{
 "cells": [
  {
   "cell_type": "markdown",
   "metadata": {
    "slideshow": {
     "slide_type": "slide"
    }
   },
   "source": [
    "# Le data mining vs le machine learning\n",
    "\n",
    "- Data Mining : recherche d’information et de patterns cachés dans une base de données isolée ou en croisant plusieurs bases. C’est l’être humain qui explore et prend des décisions.\n",
    "- Le data mining s’appuie sur des techniques et algorithmes issus de la statistique et de la gestion de bases de données.\n",
    "- Les données exploitées ont souvent une taille considérable.\n"
   ]
  },
  {
   "cell_type": "markdown",
   "metadata": {
    "slideshow": {
     "slide_type": "subslide"
    }
   },
   "source": [
    "# Quelques exemples\n",
    "\n",
    "- Prestation de service : identification des paramètres de prédisposition à la résiliation (churn)\n",
    "- Marketing: identification de segments distincts de consommateurs \n",
    "- Production : identification de paramètres induisant des défaillances\n",
    "- Pharmaceutique: classification de médicaments selon le profil chimique\n"
   ]
  },
  {
   "cell_type": "markdown",
   "metadata": {
    "slideshow": {
     "slide_type": "subslide"
    }
   },
   "source": [
    "# Le machine learning\n",
    "\n",
    "- Machine Learning : Techniques de calcul permettant aux ordinateurs d’apprendre à exécuter des tâches en s’inspirant de patterns perçus sur des données, avec peu d’intervention humaine. Les tâches se résument souvent à de la prédiction.\n",
    "\n",
    "![image](./images/ml1.png)\n",
    "    "
   ]
  },
  {
   "cell_type": "markdown",
   "metadata": {
    "slideshow": {
     "slide_type": "subslide"
    }
   },
   "source": [
    "![image](./images/trend-ml.png)"
   ]
  },
  {
   "cell_type": "markdown",
   "metadata": {
    "slideshow": {
     "slide_type": "subslide"
    }
   },
   "source": [
    "# Les outils\n",
    "\n",
    "![image](./images/poll-ml.png)"
   ]
  },
  {
   "cell_type": "markdown",
   "metadata": {
    "slideshow": {
     "slide_type": "subslide"
    }
   },
   "source": [
    "# Les types de machine learning\n",
    "\n",
    "- Les algorithmes de machine learning peuvent être rassemblés dans 3 groupes principaux :\n",
    "   - L'apprentissage supervisé\n",
    "   - Cible (variable dépendante qualitative ou quantitative)\n",
    "   - Prédicteurs (variables indépendantes)\n",
    "   - Régression, arbre de decision, foret aléatoire, kNN, regression logistique, SVM…\n",
    "\n",
    "- L'apprentissage non supervisé\n",
    "    - Pas de variable dépendante, pas de modélisation\n",
    "    - Classer des individus dans différents groups ou trouver des associations\n",
    "    - Apriori algorithm, K-means.\n",
    "\n",
    "- L'apprentissage par renforcement\n",
    "    - Apprentissage pour prendre des décisions spécifique afin d’aboutir à un but précis\n",
    "    - Markov Decision Process"
   ]
  },
  {
   "cell_type": "markdown",
   "metadata": {
    "slideshow": {
     "slide_type": "slide"
    }
   },
   "source": [
    "# L’analyse de données et le machine learning avec Python\n",
    "\n",
    "Le package la plus adaptée pour faire du data mining et du machine learning est la package **scikit-learn**\n",
    "\n",
    "\n",
    "Ce package propose des fonctions prédéfinies pour un grand nombre de méthodes\n",
    "\n",
    "- La classification : SVM, plus proches voisins, random forest…\n",
    "- Les régressions : linéaire, ridge, Lasso…\n",
    "- Le clustering : k-means…\n",
    "- L’analyse de données :  ACP, DA…\n",
    "\n",
    "Dans le cadre de cette formation, l'objectf n'est pas de décrire la théorie des méthodes mais plutôt de comprendre l'utilisation de Python pour les appliquer."
   ]
  },
  {
   "cell_type": "markdown",
   "metadata": {
    "slideshow": {
     "slide_type": "slide"
    }
   },
   "source": [
    "# L’apprentissage supervisé avec Scikit-Learn\n",
    "Les méthodes d’apprentissage supervisé sont les méthodes actuellement les plus\n",
    "utilisées en data science. Il s’agit d’essayer de prédire une variable cible et d’utiliser\n",
    "différentes méthodes pour arriver à cette fin.\n",
    "Nous allons illustrer ces méthodes de traitement de données avec du code et des\n",
    "cas pratiques."
   ]
  },
  {
   "cell_type": "markdown",
   "metadata": {
    "slideshow": {
     "slide_type": "subslide"
    }
   },
   "source": [
    "### Les données et leur transformation\n",
    "Ce jeu de données est décrit en détail au début du chapitre 4. Pour rappel, il est composé de 3333 individus et de 18 variables. Il est stocké dans un fichier csv, nommé telecom.csv, accessible dans le répertoire Data. On le récupère en utilisant Pandas :"
   ]
  },
  {
   "cell_type": "code",
   "execution_count": 1,
   "metadata": {
    "slideshow": {
     "slide_type": "fragment"
    }
   },
   "outputs": [],
   "source": [
    "import pandas as pd\n",
    "import numpy as np"
   ]
  },
  {
   "cell_type": "code",
   "execution_count": 2,
   "metadata": {
    "slideshow": {
     "slide_type": "fragment"
    }
   },
   "outputs": [],
   "source": [
    "churn=pd.read_csv(\"./data/telecom.csv\")"
   ]
  },
  {
   "cell_type": "code",
   "execution_count": 3,
   "metadata": {},
   "outputs": [
    {
     "data": {
      "text/html": [
       "<div>\n",
       "<style scoped>\n",
       "    .dataframe tbody tr th:only-of-type {\n",
       "        vertical-align: middle;\n",
       "    }\n",
       "\n",
       "    .dataframe tbody tr th {\n",
       "        vertical-align: top;\n",
       "    }\n",
       "\n",
       "    .dataframe thead th {\n",
       "        text-align: right;\n",
       "    }\n",
       "</style>\n",
       "<table border=\"1\" class=\"dataframe\">\n",
       "  <thead>\n",
       "    <tr style=\"text-align: right;\">\n",
       "      <th></th>\n",
       "      <th>State</th>\n",
       "      <th>Account Length</th>\n",
       "      <th>Area Code</th>\n",
       "      <th>Phone</th>\n",
       "      <th>Int'l Plan</th>\n",
       "      <th>VMail Plan</th>\n",
       "      <th>VMail Message</th>\n",
       "      <th>Day Mins</th>\n",
       "      <th>Day Calls</th>\n",
       "      <th>Day Charge</th>\n",
       "      <th>...</th>\n",
       "      <th>Eve Calls</th>\n",
       "      <th>Eve Charge</th>\n",
       "      <th>Night Mins</th>\n",
       "      <th>Night Calls</th>\n",
       "      <th>Night Charge</th>\n",
       "      <th>Intl Mins</th>\n",
       "      <th>Intl Calls</th>\n",
       "      <th>Intl Charge</th>\n",
       "      <th>CustServ Calls</th>\n",
       "      <th>Churn?</th>\n",
       "    </tr>\n",
       "  </thead>\n",
       "  <tbody>\n",
       "    <tr>\n",
       "      <th>0</th>\n",
       "      <td>KS</td>\n",
       "      <td>128</td>\n",
       "      <td>415</td>\n",
       "      <td>382-4657</td>\n",
       "      <td>no</td>\n",
       "      <td>yes</td>\n",
       "      <td>25</td>\n",
       "      <td>265.1</td>\n",
       "      <td>110</td>\n",
       "      <td>45.07</td>\n",
       "      <td>...</td>\n",
       "      <td>99</td>\n",
       "      <td>16.78</td>\n",
       "      <td>244.7</td>\n",
       "      <td>91</td>\n",
       "      <td>11.01</td>\n",
       "      <td>10.0</td>\n",
       "      <td>3</td>\n",
       "      <td>2.70</td>\n",
       "      <td>1</td>\n",
       "      <td>False.</td>\n",
       "    </tr>\n",
       "    <tr>\n",
       "      <th>1</th>\n",
       "      <td>OH</td>\n",
       "      <td>107</td>\n",
       "      <td>415</td>\n",
       "      <td>371-7191</td>\n",
       "      <td>no</td>\n",
       "      <td>yes</td>\n",
       "      <td>26</td>\n",
       "      <td>161.6</td>\n",
       "      <td>123</td>\n",
       "      <td>27.47</td>\n",
       "      <td>...</td>\n",
       "      <td>103</td>\n",
       "      <td>16.62</td>\n",
       "      <td>254.4</td>\n",
       "      <td>103</td>\n",
       "      <td>11.45</td>\n",
       "      <td>13.7</td>\n",
       "      <td>3</td>\n",
       "      <td>3.70</td>\n",
       "      <td>1</td>\n",
       "      <td>False.</td>\n",
       "    </tr>\n",
       "    <tr>\n",
       "      <th>2</th>\n",
       "      <td>NJ</td>\n",
       "      <td>137</td>\n",
       "      <td>415</td>\n",
       "      <td>358-1921</td>\n",
       "      <td>no</td>\n",
       "      <td>no</td>\n",
       "      <td>0</td>\n",
       "      <td>243.4</td>\n",
       "      <td>114</td>\n",
       "      <td>41.38</td>\n",
       "      <td>...</td>\n",
       "      <td>110</td>\n",
       "      <td>10.30</td>\n",
       "      <td>162.6</td>\n",
       "      <td>104</td>\n",
       "      <td>7.32</td>\n",
       "      <td>12.2</td>\n",
       "      <td>5</td>\n",
       "      <td>3.29</td>\n",
       "      <td>0</td>\n",
       "      <td>False.</td>\n",
       "    </tr>\n",
       "    <tr>\n",
       "      <th>3</th>\n",
       "      <td>OH</td>\n",
       "      <td>84</td>\n",
       "      <td>408</td>\n",
       "      <td>375-9999</td>\n",
       "      <td>yes</td>\n",
       "      <td>no</td>\n",
       "      <td>0</td>\n",
       "      <td>299.4</td>\n",
       "      <td>71</td>\n",
       "      <td>50.90</td>\n",
       "      <td>...</td>\n",
       "      <td>88</td>\n",
       "      <td>5.26</td>\n",
       "      <td>196.9</td>\n",
       "      <td>89</td>\n",
       "      <td>8.86</td>\n",
       "      <td>6.6</td>\n",
       "      <td>7</td>\n",
       "      <td>1.78</td>\n",
       "      <td>2</td>\n",
       "      <td>False.</td>\n",
       "    </tr>\n",
       "    <tr>\n",
       "      <th>4</th>\n",
       "      <td>OK</td>\n",
       "      <td>75</td>\n",
       "      <td>415</td>\n",
       "      <td>330-6626</td>\n",
       "      <td>yes</td>\n",
       "      <td>no</td>\n",
       "      <td>0</td>\n",
       "      <td>166.7</td>\n",
       "      <td>113</td>\n",
       "      <td>28.34</td>\n",
       "      <td>...</td>\n",
       "      <td>122</td>\n",
       "      <td>12.61</td>\n",
       "      <td>186.9</td>\n",
       "      <td>121</td>\n",
       "      <td>8.41</td>\n",
       "      <td>10.1</td>\n",
       "      <td>3</td>\n",
       "      <td>2.73</td>\n",
       "      <td>3</td>\n",
       "      <td>False.</td>\n",
       "    </tr>\n",
       "  </tbody>\n",
       "</table>\n",
       "<p>5 rows × 21 columns</p>\n",
       "</div>"
      ],
      "text/plain": [
       "  State  Account Length  Area Code     Phone Int'l Plan VMail Plan  \\\n",
       "0    KS             128        415  382-4657         no        yes   \n",
       "1    OH             107        415  371-7191         no        yes   \n",
       "2    NJ             137        415  358-1921         no         no   \n",
       "3    OH              84        408  375-9999        yes         no   \n",
       "4    OK              75        415  330-6626        yes         no   \n",
       "\n",
       "   VMail Message  Day Mins  Day Calls  Day Charge  ...  Eve Calls  Eve Charge  \\\n",
       "0             25     265.1        110       45.07  ...         99       16.78   \n",
       "1             26     161.6        123       27.47  ...        103       16.62   \n",
       "2              0     243.4        114       41.38  ...        110       10.30   \n",
       "3              0     299.4         71       50.90  ...         88        5.26   \n",
       "4              0     166.7        113       28.34  ...        122       12.61   \n",
       "\n",
       "   Night Mins  Night Calls  Night Charge  Intl Mins  Intl Calls  Intl Charge  \\\n",
       "0       244.7           91         11.01       10.0           3         2.70   \n",
       "1       254.4          103         11.45       13.7           3         3.70   \n",
       "2       162.6          104          7.32       12.2           5         3.29   \n",
       "3       196.9           89          8.86        6.6           7         1.78   \n",
       "4       186.9          121          8.41       10.1           3         2.73   \n",
       "\n",
       "   CustServ Calls  Churn?  \n",
       "0               1  False.  \n",
       "1               1  False.  \n",
       "2               0  False.  \n",
       "3               2  False.  \n",
       "4               3  False.  \n",
       "\n",
       "[5 rows x 21 columns]"
      ]
     },
     "execution_count": 3,
     "metadata": {},
     "output_type": "execute_result"
    }
   ],
   "source": [
    "churn.head()"
   ]
  },
  {
   "cell_type": "markdown",
   "metadata": {
    "slideshow": {
     "slide_type": "subslide"
    }
   },
   "source": [
    "## Les données\n",
    "\n",
    "Ce jeu de données n’a pas de données manquantes et nous allons devoir effectuer\n",
    "quelques transformations pour l’adapter à nos traitements. Nous voyons par exemple qu’il est composé de trois colonnes object.\n",
    "\n",
    "Nous pouvons afficher les statistiques descriptives pour les colonnes object :"
   ]
  },
  {
   "cell_type": "code",
   "execution_count": 4,
   "metadata": {
    "slideshow": {
     "slide_type": "subslide"
    }
   },
   "outputs": [
    {
     "data": {
      "text/html": [
       "<div>\n",
       "<style scoped>\n",
       "    .dataframe tbody tr th:only-of-type {\n",
       "        vertical-align: middle;\n",
       "    }\n",
       "\n",
       "    .dataframe tbody tr th {\n",
       "        vertical-align: top;\n",
       "    }\n",
       "\n",
       "    .dataframe thead th {\n",
       "        text-align: right;\n",
       "    }\n",
       "</style>\n",
       "<table border=\"1\" class=\"dataframe\">\n",
       "  <thead>\n",
       "    <tr style=\"text-align: right;\">\n",
       "      <th></th>\n",
       "      <th>count</th>\n",
       "      <th>unique</th>\n",
       "      <th>top</th>\n",
       "      <th>freq</th>\n",
       "    </tr>\n",
       "  </thead>\n",
       "  <tbody>\n",
       "    <tr>\n",
       "      <th>State</th>\n",
       "      <td>3333</td>\n",
       "      <td>51</td>\n",
       "      <td>WV</td>\n",
       "      <td>106</td>\n",
       "    </tr>\n",
       "    <tr>\n",
       "      <th>Phone</th>\n",
       "      <td>3333</td>\n",
       "      <td>3333</td>\n",
       "      <td>367-8156</td>\n",
       "      <td>1</td>\n",
       "    </tr>\n",
       "    <tr>\n",
       "      <th>Int'l Plan</th>\n",
       "      <td>3333</td>\n",
       "      <td>2</td>\n",
       "      <td>no</td>\n",
       "      <td>3010</td>\n",
       "    </tr>\n",
       "    <tr>\n",
       "      <th>VMail Plan</th>\n",
       "      <td>3333</td>\n",
       "      <td>2</td>\n",
       "      <td>no</td>\n",
       "      <td>2411</td>\n",
       "    </tr>\n",
       "    <tr>\n",
       "      <th>Churn?</th>\n",
       "      <td>3333</td>\n",
       "      <td>2</td>\n",
       "      <td>False.</td>\n",
       "      <td>2850</td>\n",
       "    </tr>\n",
       "  </tbody>\n",
       "</table>\n",
       "</div>"
      ],
      "text/plain": [
       "           count unique       top  freq\n",
       "State       3333     51        WV   106\n",
       "Phone       3333   3333  367-8156     1\n",
       "Int'l Plan  3333      2        no  3010\n",
       "VMail Plan  3333      2        no  2411\n",
       "Churn?      3333      2    False.  2850"
      ]
     },
     "execution_count": 4,
     "metadata": {},
     "output_type": "execute_result"
    }
   ],
   "source": [
    "churn.describe(include=\"object\").transpose()"
   ]
  },
  {
   "cell_type": "markdown",
   "metadata": {
    "slideshow": {
     "slide_type": "slide"
    }
   },
   "source": [
    "## Transformation des données\n",
    "\n",
    "On voit que les données sont toutes binaires. \n",
    "\n",
    "Pour les variables binaires, il nous suffit de les recoder avec Scikit-Learn pour obtenir des données exploitables. Par\n",
    "ailleurs, il existe une autre variable qualitative dans notre jeu de données, Area Code,\n",
    "qui est numérique mais avec trois modalités :"
   ]
  },
  {
   "cell_type": "code",
   "execution_count": 5,
   "metadata": {
    "slideshow": {
     "slide_type": "fragment"
    }
   },
   "outputs": [
    {
     "data": {
      "text/plain": [
       "415    1655\n",
       "510     840\n",
       "408     838\n",
       "Name: Area Code, dtype: int64"
      ]
     },
     "execution_count": 5,
     "metadata": {},
     "output_type": "execute_result"
    }
   ],
   "source": [
    "churn[\"Area Code\"].value_counts()"
   ]
  },
  {
   "cell_type": "code",
   "execution_count": 6,
   "metadata": {},
   "outputs": [
    {
     "data": {
      "text/html": [
       "<div>\n",
       "<style scoped>\n",
       "    .dataframe tbody tr th:only-of-type {\n",
       "        vertical-align: middle;\n",
       "    }\n",
       "\n",
       "    .dataframe tbody tr th {\n",
       "        vertical-align: top;\n",
       "    }\n",
       "\n",
       "    .dataframe thead th {\n",
       "        text-align: right;\n",
       "    }\n",
       "</style>\n",
       "<table border=\"1\" class=\"dataframe\">\n",
       "  <thead>\n",
       "    <tr style=\"text-align: right;\">\n",
       "      <th></th>\n",
       "      <th>408</th>\n",
       "      <th>415</th>\n",
       "      <th>510</th>\n",
       "    </tr>\n",
       "  </thead>\n",
       "  <tbody>\n",
       "    <tr>\n",
       "      <th>0</th>\n",
       "      <td>0</td>\n",
       "      <td>1</td>\n",
       "      <td>0</td>\n",
       "    </tr>\n",
       "    <tr>\n",
       "      <th>1</th>\n",
       "      <td>0</td>\n",
       "      <td>1</td>\n",
       "      <td>0</td>\n",
       "    </tr>\n",
       "    <tr>\n",
       "      <th>2</th>\n",
       "      <td>0</td>\n",
       "      <td>1</td>\n",
       "      <td>0</td>\n",
       "    </tr>\n",
       "    <tr>\n",
       "      <th>3</th>\n",
       "      <td>1</td>\n",
       "      <td>0</td>\n",
       "      <td>0</td>\n",
       "    </tr>\n",
       "    <tr>\n",
       "      <th>4</th>\n",
       "      <td>0</td>\n",
       "      <td>1</td>\n",
       "      <td>0</td>\n",
       "    </tr>\n",
       "    <tr>\n",
       "      <th>5</th>\n",
       "      <td>0</td>\n",
       "      <td>0</td>\n",
       "      <td>1</td>\n",
       "    </tr>\n",
       "    <tr>\n",
       "      <th>6</th>\n",
       "      <td>0</td>\n",
       "      <td>0</td>\n",
       "      <td>1</td>\n",
       "    </tr>\n",
       "    <tr>\n",
       "      <th>7</th>\n",
       "      <td>0</td>\n",
       "      <td>1</td>\n",
       "      <td>0</td>\n",
       "    </tr>\n",
       "    <tr>\n",
       "      <th>8</th>\n",
       "      <td>1</td>\n",
       "      <td>0</td>\n",
       "      <td>0</td>\n",
       "    </tr>\n",
       "    <tr>\n",
       "      <th>9</th>\n",
       "      <td>0</td>\n",
       "      <td>1</td>\n",
       "      <td>0</td>\n",
       "    </tr>\n",
       "    <tr>\n",
       "      <th>10</th>\n",
       "      <td>0</td>\n",
       "      <td>1</td>\n",
       "      <td>0</td>\n",
       "    </tr>\n",
       "    <tr>\n",
       "      <th>11</th>\n",
       "      <td>0</td>\n",
       "      <td>1</td>\n",
       "      <td>0</td>\n",
       "    </tr>\n",
       "    <tr>\n",
       "      <th>12</th>\n",
       "      <td>1</td>\n",
       "      <td>0</td>\n",
       "      <td>0</td>\n",
       "    </tr>\n",
       "    <tr>\n",
       "      <th>13</th>\n",
       "      <td>0</td>\n",
       "      <td>0</td>\n",
       "      <td>1</td>\n",
       "    </tr>\n",
       "    <tr>\n",
       "      <th>14</th>\n",
       "      <td>0</td>\n",
       "      <td>1</td>\n",
       "      <td>0</td>\n",
       "    </tr>\n",
       "    <tr>\n",
       "      <th>15</th>\n",
       "      <td>0</td>\n",
       "      <td>1</td>\n",
       "      <td>0</td>\n",
       "    </tr>\n",
       "    <tr>\n",
       "      <th>16</th>\n",
       "      <td>1</td>\n",
       "      <td>0</td>\n",
       "      <td>0</td>\n",
       "    </tr>\n",
       "    <tr>\n",
       "      <th>17</th>\n",
       "      <td>0</td>\n",
       "      <td>0</td>\n",
       "      <td>1</td>\n",
       "    </tr>\n",
       "    <tr>\n",
       "      <th>18</th>\n",
       "      <td>0</td>\n",
       "      <td>0</td>\n",
       "      <td>1</td>\n",
       "    </tr>\n",
       "    <tr>\n",
       "      <th>19</th>\n",
       "      <td>0</td>\n",
       "      <td>1</td>\n",
       "      <td>0</td>\n",
       "    </tr>\n",
       "    <tr>\n",
       "      <th>20</th>\n",
       "      <td>0</td>\n",
       "      <td>1</td>\n",
       "      <td>0</td>\n",
       "    </tr>\n",
       "    <tr>\n",
       "      <th>21</th>\n",
       "      <td>1</td>\n",
       "      <td>0</td>\n",
       "      <td>0</td>\n",
       "    </tr>\n",
       "    <tr>\n",
       "      <th>22</th>\n",
       "      <td>0</td>\n",
       "      <td>1</td>\n",
       "      <td>0</td>\n",
       "    </tr>\n",
       "    <tr>\n",
       "      <th>23</th>\n",
       "      <td>0</td>\n",
       "      <td>1</td>\n",
       "      <td>0</td>\n",
       "    </tr>\n",
       "    <tr>\n",
       "      <th>24</th>\n",
       "      <td>0</td>\n",
       "      <td>0</td>\n",
       "      <td>1</td>\n",
       "    </tr>\n",
       "    <tr>\n",
       "      <th>25</th>\n",
       "      <td>0</td>\n",
       "      <td>1</td>\n",
       "      <td>0</td>\n",
       "    </tr>\n",
       "    <tr>\n",
       "      <th>26</th>\n",
       "      <td>1</td>\n",
       "      <td>0</td>\n",
       "      <td>0</td>\n",
       "    </tr>\n",
       "    <tr>\n",
       "      <th>27</th>\n",
       "      <td>1</td>\n",
       "      <td>0</td>\n",
       "      <td>0</td>\n",
       "    </tr>\n",
       "    <tr>\n",
       "      <th>28</th>\n",
       "      <td>0</td>\n",
       "      <td>1</td>\n",
       "      <td>0</td>\n",
       "    </tr>\n",
       "    <tr>\n",
       "      <th>29</th>\n",
       "      <td>0</td>\n",
       "      <td>0</td>\n",
       "      <td>1</td>\n",
       "    </tr>\n",
       "    <tr>\n",
       "      <th>...</th>\n",
       "      <td>...</td>\n",
       "      <td>...</td>\n",
       "      <td>...</td>\n",
       "    </tr>\n",
       "    <tr>\n",
       "      <th>3303</th>\n",
       "      <td>0</td>\n",
       "      <td>1</td>\n",
       "      <td>0</td>\n",
       "    </tr>\n",
       "    <tr>\n",
       "      <th>3304</th>\n",
       "      <td>0</td>\n",
       "      <td>0</td>\n",
       "      <td>1</td>\n",
       "    </tr>\n",
       "    <tr>\n",
       "      <th>3305</th>\n",
       "      <td>0</td>\n",
       "      <td>1</td>\n",
       "      <td>0</td>\n",
       "    </tr>\n",
       "    <tr>\n",
       "      <th>3306</th>\n",
       "      <td>1</td>\n",
       "      <td>0</td>\n",
       "      <td>0</td>\n",
       "    </tr>\n",
       "    <tr>\n",
       "      <th>3307</th>\n",
       "      <td>1</td>\n",
       "      <td>0</td>\n",
       "      <td>0</td>\n",
       "    </tr>\n",
       "    <tr>\n",
       "      <th>3308</th>\n",
       "      <td>0</td>\n",
       "      <td>1</td>\n",
       "      <td>0</td>\n",
       "    </tr>\n",
       "    <tr>\n",
       "      <th>3309</th>\n",
       "      <td>1</td>\n",
       "      <td>0</td>\n",
       "      <td>0</td>\n",
       "    </tr>\n",
       "    <tr>\n",
       "      <th>3310</th>\n",
       "      <td>0</td>\n",
       "      <td>1</td>\n",
       "      <td>0</td>\n",
       "    </tr>\n",
       "    <tr>\n",
       "      <th>3311</th>\n",
       "      <td>0</td>\n",
       "      <td>1</td>\n",
       "      <td>0</td>\n",
       "    </tr>\n",
       "    <tr>\n",
       "      <th>3312</th>\n",
       "      <td>1</td>\n",
       "      <td>0</td>\n",
       "      <td>0</td>\n",
       "    </tr>\n",
       "    <tr>\n",
       "      <th>3313</th>\n",
       "      <td>1</td>\n",
       "      <td>0</td>\n",
       "      <td>0</td>\n",
       "    </tr>\n",
       "    <tr>\n",
       "      <th>3314</th>\n",
       "      <td>0</td>\n",
       "      <td>1</td>\n",
       "      <td>0</td>\n",
       "    </tr>\n",
       "    <tr>\n",
       "      <th>3315</th>\n",
       "      <td>0</td>\n",
       "      <td>1</td>\n",
       "      <td>0</td>\n",
       "    </tr>\n",
       "    <tr>\n",
       "      <th>3316</th>\n",
       "      <td>0</td>\n",
       "      <td>0</td>\n",
       "      <td>1</td>\n",
       "    </tr>\n",
       "    <tr>\n",
       "      <th>3317</th>\n",
       "      <td>0</td>\n",
       "      <td>1</td>\n",
       "      <td>0</td>\n",
       "    </tr>\n",
       "    <tr>\n",
       "      <th>3318</th>\n",
       "      <td>0</td>\n",
       "      <td>1</td>\n",
       "      <td>0</td>\n",
       "    </tr>\n",
       "    <tr>\n",
       "      <th>3319</th>\n",
       "      <td>0</td>\n",
       "      <td>1</td>\n",
       "      <td>0</td>\n",
       "    </tr>\n",
       "    <tr>\n",
       "      <th>3320</th>\n",
       "      <td>0</td>\n",
       "      <td>0</td>\n",
       "      <td>1</td>\n",
       "    </tr>\n",
       "    <tr>\n",
       "      <th>3321</th>\n",
       "      <td>0</td>\n",
       "      <td>1</td>\n",
       "      <td>0</td>\n",
       "    </tr>\n",
       "    <tr>\n",
       "      <th>3322</th>\n",
       "      <td>1</td>\n",
       "      <td>0</td>\n",
       "      <td>0</td>\n",
       "    </tr>\n",
       "    <tr>\n",
       "      <th>3323</th>\n",
       "      <td>0</td>\n",
       "      <td>1</td>\n",
       "      <td>0</td>\n",
       "    </tr>\n",
       "    <tr>\n",
       "      <th>3324</th>\n",
       "      <td>0</td>\n",
       "      <td>1</td>\n",
       "      <td>0</td>\n",
       "    </tr>\n",
       "    <tr>\n",
       "      <th>3325</th>\n",
       "      <td>1</td>\n",
       "      <td>0</td>\n",
       "      <td>0</td>\n",
       "    </tr>\n",
       "    <tr>\n",
       "      <th>3326</th>\n",
       "      <td>0</td>\n",
       "      <td>1</td>\n",
       "      <td>0</td>\n",
       "    </tr>\n",
       "    <tr>\n",
       "      <th>3327</th>\n",
       "      <td>0</td>\n",
       "      <td>1</td>\n",
       "      <td>0</td>\n",
       "    </tr>\n",
       "    <tr>\n",
       "      <th>3328</th>\n",
       "      <td>0</td>\n",
       "      <td>1</td>\n",
       "      <td>0</td>\n",
       "    </tr>\n",
       "    <tr>\n",
       "      <th>3329</th>\n",
       "      <td>0</td>\n",
       "      <td>1</td>\n",
       "      <td>0</td>\n",
       "    </tr>\n",
       "    <tr>\n",
       "      <th>3330</th>\n",
       "      <td>0</td>\n",
       "      <td>0</td>\n",
       "      <td>1</td>\n",
       "    </tr>\n",
       "    <tr>\n",
       "      <th>3331</th>\n",
       "      <td>0</td>\n",
       "      <td>0</td>\n",
       "      <td>1</td>\n",
       "    </tr>\n",
       "    <tr>\n",
       "      <th>3332</th>\n",
       "      <td>0</td>\n",
       "      <td>1</td>\n",
       "      <td>0</td>\n",
       "    </tr>\n",
       "  </tbody>\n",
       "</table>\n",
       "<p>3333 rows × 3 columns</p>\n",
       "</div>"
      ],
      "text/plain": [
       "      408  415  510\n",
       "0       0    1    0\n",
       "1       0    1    0\n",
       "2       0    1    0\n",
       "3       1    0    0\n",
       "4       0    1    0\n",
       "5       0    0    1\n",
       "6       0    0    1\n",
       "7       0    1    0\n",
       "8       1    0    0\n",
       "9       0    1    0\n",
       "10      0    1    0\n",
       "11      0    1    0\n",
       "12      1    0    0\n",
       "13      0    0    1\n",
       "14      0    1    0\n",
       "15      0    1    0\n",
       "16      1    0    0\n",
       "17      0    0    1\n",
       "18      0    0    1\n",
       "19      0    1    0\n",
       "20      0    1    0\n",
       "21      1    0    0\n",
       "22      0    1    0\n",
       "23      0    1    0\n",
       "24      0    0    1\n",
       "25      0    1    0\n",
       "26      1    0    0\n",
       "27      1    0    0\n",
       "28      0    1    0\n",
       "29      0    0    1\n",
       "...   ...  ...  ...\n",
       "3303    0    1    0\n",
       "3304    0    0    1\n",
       "3305    0    1    0\n",
       "3306    1    0    0\n",
       "3307    1    0    0\n",
       "3308    0    1    0\n",
       "3309    1    0    0\n",
       "3310    0    1    0\n",
       "3311    0    1    0\n",
       "3312    1    0    0\n",
       "3313    1    0    0\n",
       "3314    0    1    0\n",
       "3315    0    1    0\n",
       "3316    0    0    1\n",
       "3317    0    1    0\n",
       "3318    0    1    0\n",
       "3319    0    1    0\n",
       "3320    0    0    1\n",
       "3321    0    1    0\n",
       "3322    1    0    0\n",
       "3323    0    1    0\n",
       "3324    0    1    0\n",
       "3325    1    0    0\n",
       "3326    0    1    0\n",
       "3327    0    1    0\n",
       "3328    0    1    0\n",
       "3329    0    1    0\n",
       "3330    0    0    1\n",
       "3331    0    0    1\n",
       "3332    0    1    0\n",
       "\n",
       "[3333 rows x 3 columns]"
      ]
     },
     "execution_count": 6,
     "metadata": {},
     "output_type": "execute_result"
    }
   ],
   "source": [
    "pd.get_dummies(churn[\"Area Code\"])"
   ]
  },
  {
   "cell_type": "code",
   "execution_count": 7,
   "metadata": {},
   "outputs": [
    {
     "data": {
      "text/plain": [
       "array([[0., 1., 0.],\n",
       "       [0., 1., 0.],\n",
       "       [0., 1., 0.],\n",
       "       ...,\n",
       "       [0., 0., 1.],\n",
       "       [0., 0., 1.],\n",
       "       [0., 1., 0.]])"
      ]
     },
     "execution_count": 7,
     "metadata": {},
     "output_type": "execute_result"
    }
   ],
   "source": [
    "from sklearn.preprocessing import LabelEncoder, OneHotEncoder,Imputer\n",
    "\n",
    "# on crée un objet qui recode les colonnes en binaire\n",
    "onehot_area = OneHotEncoder(sparse=False,categories='auto')\n",
    "# on stocke les paramètres de la transformation et on transforme les données\n",
    "onehot_area.fit_transform(np.array(churn[\"Area Code\"]).reshape(-1, 1))"
   ]
  },
  {
   "cell_type": "code",
   "execution_count": 8,
   "metadata": {},
   "outputs": [
    {
     "name": "stdout",
     "output_type": "stream",
     "text": [
      "[[1. 0. 0.]\n",
      " [0. 1. 0.]]\n"
     ]
    },
    {
     "data": {
      "text/plain": [
       "array([[408],\n",
       "       [415]], dtype=int64)"
      ]
     },
     "execution_count": 8,
     "metadata": {},
     "output_type": "execute_result"
    }
   ],
   "source": [
    "# on applique la transformation sur de nouvelles données\n",
    "resultat = onehot_area.transform(np.array([408,415]).reshape(-1, 1))\n",
    "print(resultat)\n",
    "# on effectue la transformation inverse pour récupérer le format initial\n",
    "onehot_area.inverse_transform(resultat)"
   ]
  },
  {
   "cell_type": "code",
   "execution_count": 9,
   "metadata": {},
   "outputs": [
    {
     "data": {
      "text/plain": [
       "[array([408, 415, 510], dtype=int64)]"
      ]
     },
     "execution_count": 9,
     "metadata": {},
     "output_type": "execute_result"
    }
   ],
   "source": [
    "onehot_area.categories_"
   ]
  },
  {
   "cell_type": "markdown",
   "metadata": {
    "slideshow": {
     "slide_type": "slide"
    }
   },
   "source": [
    "## La préparation des données\n",
    "\n",
    "Nous allons utiliser le processus de traitement classique pour transformer nos\n",
    "données avec Scikit-Learn. Dans ce cas, nous n’avons pas de données manquantes,\n",
    "nous travaillons donc sur la transformation des variables qualitatives."
   ]
  },
  {
   "cell_type": "code",
   "execution_count": 10,
   "metadata": {
    "slideshow": {
     "slide_type": "fragment"
    }
   },
   "outputs": [],
   "source": [
    "from sklearn.preprocessing import LabelEncoder, OneHotEncoder,Imputer\n",
    "from sklearn.impute import SimpleImputer\n",
    "from sklearn.compose import ColumnTransformer "
   ]
  },
  {
   "cell_type": "markdown",
   "metadata": {
    "slideshow": {
     "slide_type": "slide"
    }
   },
   "source": [
    "## Prédire l’attrition des clients\n",
    "Lorsqu’on veut prédire une variable binaire, on devra avoir une colonne du type\n",
    "binaire. On préfère généralement un codage 0/1 afin de garder un type entier simple à gérer. \n",
    "\n",
    "Les variables explicatives x auront été préparées de manière intelligente afin de bien appliquer nos modèles.\n",
    "\n",
    "On crée donc x et y :"
   ]
  },
  {
   "cell_type": "code",
   "execution_count": 11,
   "metadata": {},
   "outputs": [
    {
     "data": {
      "text/plain": [
       "Index(['State', 'Account Length', 'Area Code', 'Phone', 'Int'l Plan',\n",
       "       'VMail Plan', 'VMail Message', 'Day Mins', 'Day Calls', 'Day Charge',\n",
       "       'Eve Mins', 'Eve Calls', 'Eve Charge', 'Night Mins', 'Night Calls',\n",
       "       'Night Charge', 'Intl Mins', 'Intl Calls', 'Intl Charge',\n",
       "       'CustServ Calls', 'Churn?'],\n",
       "      dtype='object')"
      ]
     },
     "execution_count": 11,
     "metadata": {},
     "output_type": "execute_result"
    }
   ],
   "source": [
    "churn.columns"
   ]
  },
  {
   "cell_type": "code",
   "execution_count": 12,
   "metadata": {
    "slideshow": {
     "slide_type": "fragment"
    }
   },
   "outputs": [],
   "source": [
    "list_var_x = ['VMail Message', 'Day Mins', 'Day Calls', 'Day Charge',\n",
    "       'Eve Mins', 'Eve Calls', 'Eve Charge', 'Night Mins', 'Night Calls',\n",
    "       'Night Charge', 'Intl Mins', 'Intl Calls', 'Intl Charge',\n",
    "       'CustServ Calls']\n",
    "\n",
    "x = churn[list_var_x]"
   ]
  },
  {
   "cell_type": "code",
   "execution_count": 13,
   "metadata": {},
   "outputs": [],
   "source": [
    "y = churn[\"Churn?\"]"
   ]
  },
  {
   "cell_type": "code",
   "execution_count": 14,
   "metadata": {},
   "outputs": [
    {
     "data": {
      "text/html": [
       "<div>\n",
       "<style scoped>\n",
       "    .dataframe tbody tr th:only-of-type {\n",
       "        vertical-align: middle;\n",
       "    }\n",
       "\n",
       "    .dataframe tbody tr th {\n",
       "        vertical-align: top;\n",
       "    }\n",
       "\n",
       "    .dataframe thead th {\n",
       "        text-align: right;\n",
       "    }\n",
       "</style>\n",
       "<table border=\"1\" class=\"dataframe\">\n",
       "  <thead>\n",
       "    <tr style=\"text-align: right;\">\n",
       "      <th></th>\n",
       "      <th>State</th>\n",
       "      <th>Account Length</th>\n",
       "      <th>Area Code</th>\n",
       "      <th>Phone</th>\n",
       "      <th>Int'l Plan</th>\n",
       "      <th>VMail Plan</th>\n",
       "      <th>VMail Message</th>\n",
       "      <th>minutes</th>\n",
       "      <th>Day Calls</th>\n",
       "      <th>Day Charge</th>\n",
       "      <th>...</th>\n",
       "      <th>Eve Calls</th>\n",
       "      <th>Eve Charge</th>\n",
       "      <th>Night Mins</th>\n",
       "      <th>Night Calls</th>\n",
       "      <th>Night Charge</th>\n",
       "      <th>Intl Mins</th>\n",
       "      <th>Intl Calls</th>\n",
       "      <th>Intl Charge</th>\n",
       "      <th>CustServ Calls</th>\n",
       "      <th>Churn?</th>\n",
       "    </tr>\n",
       "  </thead>\n",
       "  <tbody>\n",
       "    <tr>\n",
       "      <th>0</th>\n",
       "      <td>KS</td>\n",
       "      <td>128</td>\n",
       "      <td>415</td>\n",
       "      <td>382-4657</td>\n",
       "      <td>no</td>\n",
       "      <td>yes</td>\n",
       "      <td>25</td>\n",
       "      <td>265.1</td>\n",
       "      <td>110</td>\n",
       "      <td>45.07</td>\n",
       "      <td>...</td>\n",
       "      <td>99</td>\n",
       "      <td>16.78</td>\n",
       "      <td>244.7</td>\n",
       "      <td>91</td>\n",
       "      <td>11.01</td>\n",
       "      <td>10.0</td>\n",
       "      <td>3</td>\n",
       "      <td>2.70</td>\n",
       "      <td>1</td>\n",
       "      <td>False.</td>\n",
       "    </tr>\n",
       "    <tr>\n",
       "      <th>1</th>\n",
       "      <td>OH</td>\n",
       "      <td>107</td>\n",
       "      <td>415</td>\n",
       "      <td>371-7191</td>\n",
       "      <td>no</td>\n",
       "      <td>yes</td>\n",
       "      <td>26</td>\n",
       "      <td>161.6</td>\n",
       "      <td>123</td>\n",
       "      <td>27.47</td>\n",
       "      <td>...</td>\n",
       "      <td>103</td>\n",
       "      <td>16.62</td>\n",
       "      <td>254.4</td>\n",
       "      <td>103</td>\n",
       "      <td>11.45</td>\n",
       "      <td>13.7</td>\n",
       "      <td>3</td>\n",
       "      <td>3.70</td>\n",
       "      <td>1</td>\n",
       "      <td>False.</td>\n",
       "    </tr>\n",
       "    <tr>\n",
       "      <th>2</th>\n",
       "      <td>NJ</td>\n",
       "      <td>137</td>\n",
       "      <td>415</td>\n",
       "      <td>358-1921</td>\n",
       "      <td>no</td>\n",
       "      <td>no</td>\n",
       "      <td>0</td>\n",
       "      <td>243.4</td>\n",
       "      <td>114</td>\n",
       "      <td>41.38</td>\n",
       "      <td>...</td>\n",
       "      <td>110</td>\n",
       "      <td>10.30</td>\n",
       "      <td>162.6</td>\n",
       "      <td>104</td>\n",
       "      <td>7.32</td>\n",
       "      <td>12.2</td>\n",
       "      <td>5</td>\n",
       "      <td>3.29</td>\n",
       "      <td>0</td>\n",
       "      <td>False.</td>\n",
       "    </tr>\n",
       "    <tr>\n",
       "      <th>3</th>\n",
       "      <td>OH</td>\n",
       "      <td>84</td>\n",
       "      <td>408</td>\n",
       "      <td>375-9999</td>\n",
       "      <td>yes</td>\n",
       "      <td>no</td>\n",
       "      <td>0</td>\n",
       "      <td>299.4</td>\n",
       "      <td>71</td>\n",
       "      <td>50.90</td>\n",
       "      <td>...</td>\n",
       "      <td>88</td>\n",
       "      <td>5.26</td>\n",
       "      <td>196.9</td>\n",
       "      <td>89</td>\n",
       "      <td>8.86</td>\n",
       "      <td>6.6</td>\n",
       "      <td>7</td>\n",
       "      <td>1.78</td>\n",
       "      <td>2</td>\n",
       "      <td>False.</td>\n",
       "    </tr>\n",
       "    <tr>\n",
       "      <th>4</th>\n",
       "      <td>OK</td>\n",
       "      <td>75</td>\n",
       "      <td>415</td>\n",
       "      <td>330-6626</td>\n",
       "      <td>yes</td>\n",
       "      <td>no</td>\n",
       "      <td>0</td>\n",
       "      <td>166.7</td>\n",
       "      <td>113</td>\n",
       "      <td>28.34</td>\n",
       "      <td>...</td>\n",
       "      <td>122</td>\n",
       "      <td>12.61</td>\n",
       "      <td>186.9</td>\n",
       "      <td>121</td>\n",
       "      <td>8.41</td>\n",
       "      <td>10.1</td>\n",
       "      <td>3</td>\n",
       "      <td>2.73</td>\n",
       "      <td>3</td>\n",
       "      <td>False.</td>\n",
       "    </tr>\n",
       "  </tbody>\n",
       "</table>\n",
       "<p>5 rows × 21 columns</p>\n",
       "</div>"
      ],
      "text/plain": [
       "  State  Account Length  Area Code     Phone Int'l Plan VMail Plan  \\\n",
       "0    KS             128        415  382-4657         no        yes   \n",
       "1    OH             107        415  371-7191         no        yes   \n",
       "2    NJ             137        415  358-1921         no         no   \n",
       "3    OH              84        408  375-9999        yes         no   \n",
       "4    OK              75        415  330-6626        yes         no   \n",
       "\n",
       "   VMail Message  minutes  Day Calls  Day Charge  ...  Eve Calls  Eve Charge  \\\n",
       "0             25    265.1        110       45.07  ...         99       16.78   \n",
       "1             26    161.6        123       27.47  ...        103       16.62   \n",
       "2              0    243.4        114       41.38  ...        110       10.30   \n",
       "3              0    299.4         71       50.90  ...         88        5.26   \n",
       "4              0    166.7        113       28.34  ...        122       12.61   \n",
       "\n",
       "   Night Mins  Night Calls  Night Charge  Intl Mins  Intl Calls  Intl Charge  \\\n",
       "0       244.7           91         11.01       10.0           3         2.70   \n",
       "1       254.4          103         11.45       13.7           3         3.70   \n",
       "2       162.6          104          7.32       12.2           5         3.29   \n",
       "3       196.9           89          8.86        6.6           7         1.78   \n",
       "4       186.9          121          8.41       10.1           3         2.73   \n",
       "\n",
       "   CustServ Calls  Churn?  \n",
       "0               1  False.  \n",
       "1               1  False.  \n",
       "2               0  False.  \n",
       "3               2  False.  \n",
       "4               3  False.  \n",
       "\n",
       "[5 rows x 21 columns]"
      ]
     },
     "execution_count": 14,
     "metadata": {},
     "output_type": "execute_result"
    }
   ],
   "source": [
    "# on peut facilement renommer une colonne\n",
    "dico_rename_col = {'Day Mins':\"minutes\"}\n",
    "churn.rename(columns=dico_rename_col).head()"
   ]
  },
  {
   "cell_type": "markdown",
   "metadata": {
    "slideshow": {
     "slide_type": "slide"
    }
   },
   "source": [
    "## Séparation des données\n",
    "\n",
    "Pour la séparation, on utilise la fonction train_test_split() de Scikit-Learn.\n",
    "\n",
    "Cette fonction permet de créer automatiquement autant de structures que nécessaire\n",
    "à partir de nos données. \n",
    "\n",
    "Elle utilise une randomisation des individus et ensuite une séparation en fonction d’un paramètre du type test_size :"
   ]
  },
  {
   "cell_type": "code",
   "execution_count": 15,
   "metadata": {
    "slideshow": {
     "slide_type": "fragment"
    }
   },
   "outputs": [],
   "source": [
    "# on importe la fonction\n",
    "from sklearn.model_selection import train_test_split\n",
    "x_train, x_test, y_train, y_test = train_test_split(x,y,test_size = 0.3,stratify= y)"
   ]
  },
  {
   "cell_type": "markdown",
   "metadata": {
    "slideshow": {
     "slide_type": "subslide"
    }
   },
   "source": [
    "Dans certains cas, il peut arriver qu’il y ait une forte disparité de distribution des\n",
    "modalités entre les proportions d’acceptation et de refus. On peut vouloir faire en\n",
    "sorte que les répartitions des modalités de y soient égales dans les différents échantillons,\n",
    "on pourra alors utiliser une stratification. On va utiliser une stratification en\n",
    "prenant y comme base pour effectuer la stratification :"
   ]
  },
  {
   "cell_type": "code",
   "execution_count": 16,
   "metadata": {
    "slideshow": {
     "slide_type": "fragment"
    }
   },
   "outputs": [
    {
     "data": {
      "text/plain": [
       "False.    0.855086\n",
       "True.     0.144914\n",
       "Name: Churn?, dtype: float64"
      ]
     },
     "execution_count": 16,
     "metadata": {},
     "output_type": "execute_result"
    }
   ],
   "source": [
    "y.value_counts(normalize=True)"
   ]
  },
  {
   "cell_type": "markdown",
   "metadata": {
    "slideshow": {
     "slide_type": "subslide"
    }
   },
   "source": [
    "Ainsi les deux échantillons _train et _test ont la même distribution"
   ]
  },
  {
   "cell_type": "code",
   "execution_count": 17,
   "metadata": {
    "slideshow": {
     "slide_type": "fragment"
    }
   },
   "outputs": [
    {
     "data": {
      "text/plain": [
       "False.    0.855\n",
       "True.     0.145\n",
       "Name: Churn?, dtype: float64"
      ]
     },
     "execution_count": 17,
     "metadata": {},
     "output_type": "execute_result"
    }
   ],
   "source": [
    "y_test.value_counts(normalize=True)"
   ]
  },
  {
   "cell_type": "code",
   "execution_count": 18,
   "metadata": {
    "slideshow": {
     "slide_type": "fragment"
    }
   },
   "outputs": [
    {
     "data": {
      "text/plain": [
       "False.    0.855122\n",
       "True.     0.144878\n",
       "Name: Churn?, dtype: float64"
      ]
     },
     "execution_count": 18,
     "metadata": {},
     "output_type": "execute_result"
    }
   ],
   "source": [
    "y_train.value_counts(normalize=True)"
   ]
  },
  {
   "cell_type": "markdown",
   "metadata": {
    "slideshow": {
     "slide_type": "slide"
    }
   },
   "source": [
    "## Le choix et l’ajustement de l’algorithme"
   ]
  },
  {
   "cell_type": "markdown",
   "metadata": {},
   "source": [
    "Tout au long de ce Notebook, nous allons essayer d'ajouter un nouveau modèle, il s'agit du modèle GBM\n",
    "```python\n",
    "from sklearn.ensemble import GradientBoostingClassifier\n",
    "```"
   ]
  },
  {
   "cell_type": "code",
   "execution_count": 19,
   "metadata": {
    "slideshow": {
     "slide_type": "fragment"
    }
   },
   "outputs": [],
   "source": [
    "from sklearn.neighbors import KNeighborsClassifier\n",
    "from sklearn.ensemble import RandomForestClassifier\n",
    "from sklearn.ensemble import GradientBoostingClassifier"
   ]
  },
  {
   "cell_type": "markdown",
   "metadata": {
    "slideshow": {
     "slide_type": "fragment"
    }
   },
   "source": [
    "Ensuite, on crée un objet à partir de la classe du modèle en lui fournissant les\n",
    "hyperparamètres dont il a besoin :"
   ]
  },
  {
   "cell_type": "code",
   "execution_count": 20,
   "metadata": {
    "slideshow": {
     "slide_type": "fragment"
    }
   },
   "outputs": [],
   "source": [
    "modele_rf=RandomForestClassifier(n_estimators=100)\n",
    "modele_knn=KNeighborsClassifier(n_neighbors=5)"
   ]
  },
  {
   "cell_type": "markdown",
   "metadata": {
    "slideshow": {
     "slide_type": "subslide"
    }
   },
   "source": [
    "Dans ce cas, on prend les hyperparamètres par défaut.\n",
    "\n",
    "On peut ensuite ajuster notre modèle en utilisant les données :"
   ]
  },
  {
   "cell_type": "code",
   "execution_count": 21,
   "metadata": {
    "slideshow": {
     "slide_type": "fragment"
    }
   },
   "outputs": [],
   "source": [
    "modele_rf.fit(x_train,y_train)\n",
    "modele_knn.fit(x_train,y_train)\n",
    "pass"
   ]
  },
  {
   "cell_type": "markdown",
   "metadata": {
    "slideshow": {
     "slide_type": "subslide"
    }
   },
   "source": [
    "Une fois qu’on a estimé les paramètres du modèle, on va pouvoir extraire des\n",
    "informations. De nouveaux attributs de chaque classe apparaissent, ils se terminent par le symbole underscore _ :"
   ]
  },
  {
   "cell_type": "code",
   "execution_count": 22,
   "metadata": {
    "slideshow": {
     "slide_type": "fragment"
    }
   },
   "outputs": [
    {
     "data": {
      "text/plain": [
       "array([0.04901733, 0.1433261 , 0.04878793, 0.15023643, 0.08234964,\n",
       "       0.04068536, 0.08028005, 0.05243338, 0.04565279, 0.04992769,\n",
       "       0.04673657, 0.03101876, 0.04876138, 0.13078658])"
      ]
     },
     "execution_count": 22,
     "metadata": {},
     "output_type": "execute_result"
    }
   ],
   "source": [
    "modele_rf.feature_importances_"
   ]
  },
  {
   "cell_type": "markdown",
   "metadata": {
    "slideshow": {
     "slide_type": "subslide"
    }
   },
   "source": [
    "Ce qui va nous intéresse avant tout, c’est de prédire avec notre modèle. Pour cela nous allons utiliser la méthode .predict() :"
   ]
  },
  {
   "cell_type": "code",
   "execution_count": 23,
   "metadata": {
    "slideshow": {
     "slide_type": "fragment"
    }
   },
   "outputs": [],
   "source": [
    "y_predict_rf = modele_rf.predict(x_test)\n",
    "y_predict_knn = modele_knn.predict(x_test)"
   ]
  },
  {
   "cell_type": "markdown",
   "metadata": {
    "slideshow": {
     "slide_type": "fragment"
    }
   },
   "source": [
    "On obtient ainsi une valeur prédite pour les éléments de notre échantillon de\n",
    "validation."
   ]
  },
  {
   "cell_type": "markdown",
   "metadata": {
    "slideshow": {
     "slide_type": "slide"
    }
   },
   "source": [
    "## Les indicateurs pour valider un modèle\n",
    "La partie validation d’un modèle d’apprentissage supervisé est extrêmement\n",
    "importante. L’objectif d’un modèle d’apprentissage supervisé est de prédire une\n",
    "valeur la plus proche possible de la réalité. Nous différencions trois types d’indices\n",
    "en fonction du type de variable cible. Tous les indicateurs de qualité du modèle sont\n",
    "stockés dans le module *metrics* de Scikit-Learn."
   ]
  },
  {
   "cell_type": "markdown",
   "metadata": {
    "slideshow": {
     "slide_type": "subslide"
    }
   },
   "source": [
    "## Le pourcentage de bien classés\n",
    "Il s’agit de l’indicateur le plus connu. On le nomme accuracy. Il est calculé à partir du rapport entre le nombre d’individus bien classés et le nombre total d’individus dans l’échantillon."
   ]
  },
  {
   "cell_type": "code",
   "execution_count": 24,
   "metadata": {
    "slideshow": {
     "slide_type": "fragment"
    }
   },
   "outputs": [
    {
     "name": "stdout",
     "output_type": "stream",
     "text": [
      "Pourcentage de bien classés pour le modèle RF : 0.921\n",
      "Pourcentage de bien classés pour le modèle kNN :0.891\n"
     ]
    }
   ],
   "source": [
    "from sklearn.metrics import accuracy_score, recall_score\n",
    "\n",
    "accuracy_modele_rf = accuracy_score(y_test,y_predict_rf)\n",
    "accuracy_modele_knn = accuracy_score(y_test,y_predict_knn)\n",
    "print(\"Pourcentage de bien classés pour le modèle RF : %.3f\" %(accuracy_modele_rf))\n",
    "print(\"Pourcentage de bien classés pour le modèle kNN :%.3f\" %(accuracy_modele_knn))\n",
    "\n",
    "#recall_modele_rf=recall_score(y_test,y_predict_rf)\n",
    "#recall_modele_knn=recall_score(y_test,y_predict_knn)\n",
    "#print(\"Rappel pour le modèle RF : %.3f\" %(recall_modele_rf))\n",
    "#print(\"Rappel pour le modèle kNN :%.3f\" %(recall_modele_knn))"
   ]
  },
  {
   "cell_type": "markdown",
   "metadata": {
    "slideshow": {
     "slide_type": "subslide"
    }
   },
   "source": [
    "## La matrice de confusion\n",
    "Il s’agit d’un autre indicateur important pour juger de la qualité d’un modèle, il n’est pas défini par une seule valeur mais par une matrice dans laquelle on peut lire le croisement entre les valeurs observées et les valeurs prédites à partir du modèle. \n",
    "\n",
    "Pour calculer cette matrice, on pourra utiliser :"
   ]
  },
  {
   "cell_type": "code",
   "execution_count": 25,
   "metadata": {
    "slideshow": {
     "slide_type": "fragment"
    }
   },
   "outputs": [
    {
     "name": "stdout",
     "output_type": "stream",
     "text": [
      "Matrice de confusion pour le modèle RF :\n",
      "[[847   8]\n",
      " [ 71  74]]\n",
      "Matrice de confusion pour le modèle kNN :\n",
      "[[841  14]\n",
      " [ 95  50]]\n"
     ]
    }
   ],
   "source": [
    "from sklearn.metrics import confusion_matrix\n",
    "confusion_matrix_rf=confusion_matrix(y_test,y_predict_rf)\n",
    "confusion_matrix_knn=confusion_matrix(y_test,y_predict_knn)\n",
    "print(\"Matrice de confusion pour le modèle RF :\",\n",
    "confusion_matrix_rf, sep=\"\\n\")\n",
    "print(\"Matrice de confusion pour le modèle kNN :\",\n",
    "confusion_matrix_knn, sep=\"\\n\")"
   ]
  },
  {
   "cell_type": "markdown",
   "metadata": {
    "slideshow": {
     "slide_type": "subslide"
    }
   },
   "source": [
    "## Le rappel (recall), la précision et le f1-score\n",
    "\n",
    "Scikit-Learn possède des fonctions pour chacun de ces indicateurs, mais il peut\n",
    "être intéressant d’utiliser une autre fonction qui les affiche pour chaque classe :\n",
    "\n",
    "tp / (tp + fn)"
   ]
  },
  {
   "cell_type": "code",
   "execution_count": 26,
   "metadata": {
    "slideshow": {
     "slide_type": "subslide"
    }
   },
   "outputs": [
    {
     "name": "stdout",
     "output_type": "stream",
     "text": [
      "Rapport pour le modèle RF :\n",
      "              precision    recall  f1-score   support\n",
      "\n",
      "      False.       0.92      0.99      0.96       855\n",
      "       True.       0.90      0.51      0.65       145\n",
      "\n",
      "    accuracy                           0.92      1000\n",
      "   macro avg       0.91      0.75      0.80      1000\n",
      "weighted avg       0.92      0.92      0.91      1000\n",
      "\n"
     ]
    }
   ],
   "source": [
    "from sklearn.metrics import classification_report\n",
    "print(\"Rapport pour le modèle RF :\",\n",
    "      classification_report(y_test,y_predict_rf) ,sep=\"\\n\")"
   ]
  },
  {
   "cell_type": "code",
   "execution_count": 27,
   "metadata": {
    "slideshow": {
     "slide_type": "subslide"
    }
   },
   "outputs": [
    {
     "name": "stdout",
     "output_type": "stream",
     "text": [
      "Rapport pour le modèle kNN :\n",
      "              precision    recall  f1-score   support\n",
      "\n",
      "      False.       0.90      0.98      0.94       855\n",
      "       True.       0.78      0.34      0.48       145\n",
      "\n",
      "    accuracy                           0.89      1000\n",
      "   macro avg       0.84      0.66      0.71      1000\n",
      "weighted avg       0.88      0.89      0.87      1000\n",
      "\n"
     ]
    }
   ],
   "source": [
    "print(\"Rapport pour le modèle kNN :\",\n",
    "      classification_report(y_test,y_predict_knn) ,sep=\"\\n\")"
   ]
  },
  {
   "cell_type": "code",
   "execution_count": 28,
   "metadata": {
    "slideshow": {
     "slide_type": "subslide"
    }
   },
   "outputs": [],
   "source": [
    "# ajouter le 3ème modèle"
   ]
  },
  {
   "cell_type": "markdown",
   "metadata": {
    "slideshow": {
     "slide_type": "subslide"
    }
   },
   "source": [
    "## L’aire sous la courbe ROC\n",
    "La courbe ROC est un indicateur important mais on préfère souvent une valeur plutôt\n",
    "qu’une courbe afin de comparer nos modèles. Pour cela, on utilise l’aire sous la courbe\n",
    "ROC (AUC). Cette aire est calculée directement à partir de la courbe ROC. Ainsi, un\n",
    "modèle aléatoire aura une AUC de 0.5 et un modèle parfait aura une AUC de 1."
   ]
  },
  {
   "cell_type": "code",
   "execution_count": 29,
   "metadata": {
    "slideshow": {
     "slide_type": "fragment"
    }
   },
   "outputs": [
    {
     "name": "stdout",
     "output_type": "stream",
     "text": [
      "Aire sous la courbe ROC pour le modèle RF : 0.8706513409961685\n",
      "Aire sous la courbe ROC pour le modèle kNN : 0.6866102036700947\n"
     ]
    }
   ],
   "source": [
    "from sklearn.metrics import roc_auc_score\n",
    "auc_modele_rf=roc_auc_score(y_test, modele_rf.predict_proba(x_test)[:,1])\n",
    "auc_modele_knn=roc_auc_score(y_test,modele_knn.predict_proba(x_test)[:,1])\n",
    "\n",
    "print(\"Aire sous la courbe ROC pour le modèle RF :\" ,auc_modele_rf)\n",
    "print(\"Aire sous la courbe ROC pour le modèle kNN :\" ,auc_modele_knn)"
   ]
  },
  {
   "cell_type": "markdown",
   "metadata": {
    "slideshow": {
     "slide_type": "subslide"
    }
   },
   "source": [
    "## La validation croisée\n",
    "Jusqu’ici nous avons utilisé des indicateurs basés sur une seule occurrence de test. Ceci veut dire qu’on ne teste notre modèle que sur un seul échantillon.\n",
    "\n",
    "Une approche alternative souvent utilisée est la validation croisée. Celle-ci est en fait basée sur la répétition de l’estimation et de la validation sur des données différentes.\n",
    "\n",
    "Pour obtenir ce cv-score, on utilise :"
   ]
  },
  {
   "cell_type": "code",
   "execution_count": 30,
   "metadata": {
    "slideshow": {
     "slide_type": "fragment"
    }
   },
   "outputs": [
    {
     "name": "stdout",
     "output_type": "stream",
     "text": [
      "AUC pour RF : 0.861 (+/- 0.064)\n",
      "AUC pour kNN : 0.680 (+/- 0.115)\n"
     ]
    }
   ],
   "source": [
    "from sklearn.model_selection import cross_val_score\n",
    "\n",
    "scores_rf = cross_val_score(modele_rf, x_train, y_train, cv=5, scoring='roc_auc')\n",
    "scores_knn = cross_val_score(modele_knn, x_train, y_train, cv=5, scoring='roc_auc')\n",
    "\n",
    "print(\"AUC pour RF : %.3f (+/- %.3f)\"% (scores_rf.mean(), scores_rf.std() * 2))\n",
    "print(\"AUC pour kNN : %.3f (+/- %.3f)\"% (scores_knn.mean(),scores_knn.std() * 2))"
   ]
  },
  {
   "cell_type": "markdown",
   "metadata": {
    "slideshow": {
     "slide_type": "subslide"
    }
   },
   "source": [
    "## L’ajustement des hyperparamètres d’un modèle\n",
    "\n",
    "L’une des tâches du data scientist est de trouver le meilleur modèle possible. La\n",
    "plupart des modèles de machine learning ont des hyperparamètres. Il s’agit de paramètres\n",
    "du modèle qui sont définis en amont de l’ajustement.\n",
    "\n",
    "Scikit-Learn propose une classe GridSearchCV permettant d’implémenter cette\n",
    "recherche d’hyperparamètres :"
   ]
  },
  {
   "cell_type": "code",
   "execution_count": 31,
   "metadata": {
    "slideshow": {
     "slide_type": "fragment"
    }
   },
   "outputs": [],
   "source": [
    "from sklearn.model_selection import GridSearchCV"
   ]
  },
  {
   "cell_type": "markdown",
   "metadata": {
    "slideshow": {
     "slide_type": "subslide"
    }
   },
   "source": [
    "On va donc devoir définir les hyperparamètres que l’on souhaite tester. Pour cela,\n",
    "on utilisera un dictionnaire d’hyperparamètres, par exemple :"
   ]
  },
  {
   "cell_type": "code",
   "execution_count": 32,
   "metadata": {
    "slideshow": {
     "slide_type": "fragment"
    }
   },
   "outputs": [],
   "source": [
    "dico_param = {\"max_depth\":[3,5,7,10], \"n_estimators\":[10,20,50,100]}"
   ]
  },
  {
   "cell_type": "markdown",
   "metadata": {
    "slideshow": {
     "slide_type": "fragment"
    }
   },
   "source": [
    "On va encore utiliser l’accuracy pour valider notre modèle. Finalement, nous allons\n",
    "utiliser une validation croisée à cinq groupes pour valider les résultats.\n",
    "Le nouvel objet est le suivant :"
   ]
  },
  {
   "cell_type": "code",
   "execution_count": 33,
   "metadata": {
    "slideshow": {
     "slide_type": "fragment"
    }
   },
   "outputs": [],
   "source": [
    "recherche_hyper = GridSearchCV(RandomForestClassifier(), \n",
    "                               dico_param, \n",
    "                               scoring=\"accuracy\",cv=5)"
   ]
  },
  {
   "cell_type": "markdown",
   "metadata": {
    "slideshow": {
     "slide_type": "fragment"
    }
   },
   "source": [
    "Une fois qu’on a créé cet objet, on peut lui joindre les données afin d’estimer les\n",
    "meilleurs paramètres du modèle.\n",
    "\n",
    "Cette étape peut être très longue."
   ]
  },
  {
   "cell_type": "code",
   "execution_count": 34,
   "metadata": {
    "slideshow": {
     "slide_type": "subslide"
    }
   },
   "outputs": [
    {
     "data": {
      "text/plain": [
       "GridSearchCV(cv=5, error_score='raise-deprecating',\n",
       "             estimator=RandomForestClassifier(bootstrap=True, class_weight=None,\n",
       "                                              criterion='gini', max_depth=None,\n",
       "                                              max_features='auto',\n",
       "                                              max_leaf_nodes=None,\n",
       "                                              min_impurity_decrease=0.0,\n",
       "                                              min_impurity_split=None,\n",
       "                                              min_samples_leaf=1,\n",
       "                                              min_samples_split=2,\n",
       "                                              min_weight_fraction_leaf=0.0,\n",
       "                                              n_estimators='warn', n_jobs=None,\n",
       "                                              oob_score=False,\n",
       "                                              random_state=None, verbose=0,\n",
       "                                              warm_start=False),\n",
       "             iid='warn', n_jobs=None,\n",
       "             param_grid={'max_depth': [3, 5, 7, 10],\n",
       "                         'n_estimators': [10, 20, 50, 100]},\n",
       "             pre_dispatch='2*n_jobs', refit=True, return_train_score=False,\n",
       "             scoring='accuracy', verbose=0)"
      ]
     },
     "execution_count": 34,
     "metadata": {},
     "output_type": "execute_result"
    }
   ],
   "source": [
    "recherche_hyper.fit(x_train, y_train)"
   ]
  },
  {
   "cell_type": "code",
   "execution_count": 35,
   "metadata": {},
   "outputs": [
    {
     "name": "stdout",
     "output_type": "stream",
     "text": [
      "{'max_depth': 10, 'n_estimators': 100}\n"
     ]
    }
   ],
   "source": [
    "print(recherche_hyper.best_params_)"
   ]
  },
  {
   "cell_type": "code",
   "execution_count": 36,
   "metadata": {},
   "outputs": [
    {
     "name": "stdout",
     "output_type": "stream",
     "text": [
      "0.9164166309472782\n"
     ]
    }
   ],
   "source": [
    "print(recherche_hyper.best_score_)"
   ]
  },
  {
   "cell_type": "code",
   "execution_count": 37,
   "metadata": {},
   "outputs": [
    {
     "data": {
      "text/html": [
       "<div>\n",
       "<style scoped>\n",
       "    .dataframe tbody tr th:only-of-type {\n",
       "        vertical-align: middle;\n",
       "    }\n",
       "\n",
       "    .dataframe tbody tr th {\n",
       "        vertical-align: top;\n",
       "    }\n",
       "\n",
       "    .dataframe thead th {\n",
       "        text-align: right;\n",
       "    }\n",
       "</style>\n",
       "<table border=\"1\" class=\"dataframe\">\n",
       "  <thead>\n",
       "    <tr style=\"text-align: right;\">\n",
       "      <th></th>\n",
       "      <th>mean_fit_time</th>\n",
       "      <th>std_fit_time</th>\n",
       "      <th>mean_score_time</th>\n",
       "      <th>std_score_time</th>\n",
       "      <th>param_max_depth</th>\n",
       "      <th>param_n_estimators</th>\n",
       "      <th>params</th>\n",
       "      <th>split0_test_score</th>\n",
       "      <th>split1_test_score</th>\n",
       "      <th>split2_test_score</th>\n",
       "      <th>split3_test_score</th>\n",
       "      <th>split4_test_score</th>\n",
       "      <th>mean_test_score</th>\n",
       "      <th>std_test_score</th>\n",
       "      <th>rank_test_score</th>\n",
       "    </tr>\n",
       "  </thead>\n",
       "  <tbody>\n",
       "    <tr>\n",
       "      <th>0</th>\n",
       "      <td>0.032714</td>\n",
       "      <td>0.001183</td>\n",
       "      <td>0.004787</td>\n",
       "      <td>0.000398</td>\n",
       "      <td>3</td>\n",
       "      <td>10</td>\n",
       "      <td>{'max_depth': 3, 'n_estimators': 10}</td>\n",
       "      <td>0.869379</td>\n",
       "      <td>0.856531</td>\n",
       "      <td>0.873662</td>\n",
       "      <td>0.896996</td>\n",
       "      <td>0.873391</td>\n",
       "      <td>0.873982</td>\n",
       "      <td>0.013080</td>\n",
       "      <td>14</td>\n",
       "    </tr>\n",
       "    <tr>\n",
       "      <th>1</th>\n",
       "      <td>0.057646</td>\n",
       "      <td>0.001616</td>\n",
       "      <td>0.006582</td>\n",
       "      <td>0.000490</td>\n",
       "      <td>3</td>\n",
       "      <td>20</td>\n",
       "      <td>{'max_depth': 3, 'n_estimators': 20}</td>\n",
       "      <td>0.854390</td>\n",
       "      <td>0.871520</td>\n",
       "      <td>0.873662</td>\n",
       "      <td>0.896996</td>\n",
       "      <td>0.858369</td>\n",
       "      <td>0.870982</td>\n",
       "      <td>0.014952</td>\n",
       "      <td>15</td>\n",
       "    </tr>\n",
       "    <tr>\n",
       "      <th>2</th>\n",
       "      <td>0.131566</td>\n",
       "      <td>0.006181</td>\n",
       "      <td>0.011902</td>\n",
       "      <td>0.001863</td>\n",
       "      <td>3</td>\n",
       "      <td>50</td>\n",
       "      <td>{'max_depth': 3, 'n_estimators': 50}</td>\n",
       "      <td>0.869379</td>\n",
       "      <td>0.871520</td>\n",
       "      <td>0.873662</td>\n",
       "      <td>0.864807</td>\n",
       "      <td>0.875536</td>\n",
       "      <td>0.870982</td>\n",
       "      <td>0.003711</td>\n",
       "      <td>15</td>\n",
       "    </tr>\n",
       "    <tr>\n",
       "      <th>3</th>\n",
       "      <td>0.262455</td>\n",
       "      <td>0.006272</td>\n",
       "      <td>0.018752</td>\n",
       "      <td>0.006262</td>\n",
       "      <td>3</td>\n",
       "      <td>100</td>\n",
       "      <td>{'max_depth': 3, 'n_estimators': 100}</td>\n",
       "      <td>0.875803</td>\n",
       "      <td>0.873662</td>\n",
       "      <td>0.875803</td>\n",
       "      <td>0.886266</td>\n",
       "      <td>0.869099</td>\n",
       "      <td>0.876125</td>\n",
       "      <td>0.005627</td>\n",
       "      <td>13</td>\n",
       "    </tr>\n",
       "    <tr>\n",
       "      <th>4</th>\n",
       "      <td>0.039945</td>\n",
       "      <td>0.008537</td>\n",
       "      <td>0.003130</td>\n",
       "      <td>0.006261</td>\n",
       "      <td>5</td>\n",
       "      <td>10</td>\n",
       "      <td>{'max_depth': 5, 'n_estimators': 10}</td>\n",
       "      <td>0.892934</td>\n",
       "      <td>0.873662</td>\n",
       "      <td>0.871520</td>\n",
       "      <td>0.907725</td>\n",
       "      <td>0.896996</td>\n",
       "      <td>0.888556</td>\n",
       "      <td>0.013927</td>\n",
       "      <td>12</td>\n",
       "    </tr>\n",
       "    <tr>\n",
       "      <th>5</th>\n",
       "      <td>0.071858</td>\n",
       "      <td>0.007640</td>\n",
       "      <td>0.009373</td>\n",
       "      <td>0.007653</td>\n",
       "      <td>5</td>\n",
       "      <td>20</td>\n",
       "      <td>{'max_depth': 5, 'n_estimators': 20}</td>\n",
       "      <td>0.916488</td>\n",
       "      <td>0.897216</td>\n",
       "      <td>0.899358</td>\n",
       "      <td>0.896996</td>\n",
       "      <td>0.894850</td>\n",
       "      <td>0.900986</td>\n",
       "      <td>0.007886</td>\n",
       "      <td>9</td>\n",
       "    </tr>\n",
       "    <tr>\n",
       "      <th>6</th>\n",
       "      <td>0.173839</td>\n",
       "      <td>0.004869</td>\n",
       "      <td>0.010837</td>\n",
       "      <td>0.005737</td>\n",
       "      <td>5</td>\n",
       "      <td>50</td>\n",
       "      <td>{'max_depth': 5, 'n_estimators': 50}</td>\n",
       "      <td>0.890792</td>\n",
       "      <td>0.875803</td>\n",
       "      <td>0.897216</td>\n",
       "      <td>0.920601</td>\n",
       "      <td>0.914163</td>\n",
       "      <td>0.899700</td>\n",
       "      <td>0.016139</td>\n",
       "      <td>10</td>\n",
       "    </tr>\n",
       "    <tr>\n",
       "      <th>7</th>\n",
       "      <td>0.339024</td>\n",
       "      <td>0.007298</td>\n",
       "      <td>0.020277</td>\n",
       "      <td>0.005752</td>\n",
       "      <td>5</td>\n",
       "      <td>100</td>\n",
       "      <td>{'max_depth': 5, 'n_estimators': 100}</td>\n",
       "      <td>0.886510</td>\n",
       "      <td>0.886510</td>\n",
       "      <td>0.892934</td>\n",
       "      <td>0.924893</td>\n",
       "      <td>0.907725</td>\n",
       "      <td>0.899700</td>\n",
       "      <td>0.014780</td>\n",
       "      <td>10</td>\n",
       "    </tr>\n",
       "    <tr>\n",
       "      <th>8</th>\n",
       "      <td>0.046857</td>\n",
       "      <td>0.000012</td>\n",
       "      <td>0.006255</td>\n",
       "      <td>0.007661</td>\n",
       "      <td>7</td>\n",
       "      <td>10</td>\n",
       "      <td>{'max_depth': 7, 'n_estimators': 10}</td>\n",
       "      <td>0.916488</td>\n",
       "      <td>0.905782</td>\n",
       "      <td>0.895075</td>\n",
       "      <td>0.914163</td>\n",
       "      <td>0.916309</td>\n",
       "      <td>0.909559</td>\n",
       "      <td>0.008234</td>\n",
       "      <td>7</td>\n",
       "    </tr>\n",
       "    <tr>\n",
       "      <th>9</th>\n",
       "      <td>0.090468</td>\n",
       "      <td>0.001551</td>\n",
       "      <td>0.006982</td>\n",
       "      <td>0.000001</td>\n",
       "      <td>7</td>\n",
       "      <td>20</td>\n",
       "      <td>{'max_depth': 7, 'n_estimators': 20}</td>\n",
       "      <td>0.903640</td>\n",
       "      <td>0.899358</td>\n",
       "      <td>0.890792</td>\n",
       "      <td>0.907725</td>\n",
       "      <td>0.918455</td>\n",
       "      <td>0.903986</td>\n",
       "      <td>0.009152</td>\n",
       "      <td>8</td>\n",
       "    </tr>\n",
       "    <tr>\n",
       "      <th>10</th>\n",
       "      <td>0.215778</td>\n",
       "      <td>0.004550</td>\n",
       "      <td>0.012367</td>\n",
       "      <td>0.000490</td>\n",
       "      <td>7</td>\n",
       "      <td>50</td>\n",
       "      <td>{'max_depth': 7, 'n_estimators': 50}</td>\n",
       "      <td>0.914347</td>\n",
       "      <td>0.897216</td>\n",
       "      <td>0.903640</td>\n",
       "      <td>0.929185</td>\n",
       "      <td>0.912017</td>\n",
       "      <td>0.911273</td>\n",
       "      <td>0.010830</td>\n",
       "      <td>4</td>\n",
       "    </tr>\n",
       "    <tr>\n",
       "      <th>11</th>\n",
       "      <td>0.422835</td>\n",
       "      <td>0.004830</td>\n",
       "      <td>0.020168</td>\n",
       "      <td>0.001537</td>\n",
       "      <td>7</td>\n",
       "      <td>100</td>\n",
       "      <td>{'max_depth': 7, 'n_estimators': 100}</td>\n",
       "      <td>0.918630</td>\n",
       "      <td>0.892934</td>\n",
       "      <td>0.901499</td>\n",
       "      <td>0.922747</td>\n",
       "      <td>0.922747</td>\n",
       "      <td>0.911702</td>\n",
       "      <td>0.012235</td>\n",
       "      <td>3</td>\n",
       "    </tr>\n",
       "    <tr>\n",
       "      <th>12</th>\n",
       "      <td>0.056862</td>\n",
       "      <td>0.000621</td>\n",
       "      <td>0.005570</td>\n",
       "      <td>0.000495</td>\n",
       "      <td>10</td>\n",
       "      <td>10</td>\n",
       "      <td>{'max_depth': 10, 'n_estimators': 10}</td>\n",
       "      <td>0.910064</td>\n",
       "      <td>0.892934</td>\n",
       "      <td>0.910064</td>\n",
       "      <td>0.924893</td>\n",
       "      <td>0.916309</td>\n",
       "      <td>0.910844</td>\n",
       "      <td>0.010481</td>\n",
       "      <td>5</td>\n",
       "    </tr>\n",
       "    <tr>\n",
       "      <th>13</th>\n",
       "      <td>0.106914</td>\n",
       "      <td>0.000738</td>\n",
       "      <td>0.007580</td>\n",
       "      <td>0.000488</td>\n",
       "      <td>10</td>\n",
       "      <td>20</td>\n",
       "      <td>{'max_depth': 10, 'n_estimators': 20}</td>\n",
       "      <td>0.916488</td>\n",
       "      <td>0.899358</td>\n",
       "      <td>0.897216</td>\n",
       "      <td>0.920601</td>\n",
       "      <td>0.918455</td>\n",
       "      <td>0.910416</td>\n",
       "      <td>0.010018</td>\n",
       "      <td>6</td>\n",
       "    </tr>\n",
       "    <tr>\n",
       "      <th>14</th>\n",
       "      <td>0.263696</td>\n",
       "      <td>0.010008</td>\n",
       "      <td>0.012942</td>\n",
       "      <td>0.000019</td>\n",
       "      <td>10</td>\n",
       "      <td>50</td>\n",
       "      <td>{'max_depth': 10, 'n_estimators': 50}</td>\n",
       "      <td>0.914347</td>\n",
       "      <td>0.897216</td>\n",
       "      <td>0.914347</td>\n",
       "      <td>0.927039</td>\n",
       "      <td>0.918455</td>\n",
       "      <td>0.914273</td>\n",
       "      <td>0.009710</td>\n",
       "      <td>2</td>\n",
       "    </tr>\n",
       "    <tr>\n",
       "      <th>15</th>\n",
       "      <td>0.512812</td>\n",
       "      <td>0.004108</td>\n",
       "      <td>0.020005</td>\n",
       "      <td>0.003578</td>\n",
       "      <td>10</td>\n",
       "      <td>100</td>\n",
       "      <td>{'max_depth': 10, 'n_estimators': 100}</td>\n",
       "      <td>0.918630</td>\n",
       "      <td>0.903640</td>\n",
       "      <td>0.910064</td>\n",
       "      <td>0.929185</td>\n",
       "      <td>0.920601</td>\n",
       "      <td>0.916417</td>\n",
       "      <td>0.008820</td>\n",
       "      <td>1</td>\n",
       "    </tr>\n",
       "  </tbody>\n",
       "</table>\n",
       "</div>"
      ],
      "text/plain": [
       "    mean_fit_time  std_fit_time  mean_score_time  std_score_time  \\\n",
       "0        0.032714      0.001183         0.004787        0.000398   \n",
       "1        0.057646      0.001616         0.006582        0.000490   \n",
       "2        0.131566      0.006181         0.011902        0.001863   \n",
       "3        0.262455      0.006272         0.018752        0.006262   \n",
       "4        0.039945      0.008537         0.003130        0.006261   \n",
       "5        0.071858      0.007640         0.009373        0.007653   \n",
       "6        0.173839      0.004869         0.010837        0.005737   \n",
       "7        0.339024      0.007298         0.020277        0.005752   \n",
       "8        0.046857      0.000012         0.006255        0.007661   \n",
       "9        0.090468      0.001551         0.006982        0.000001   \n",
       "10       0.215778      0.004550         0.012367        0.000490   \n",
       "11       0.422835      0.004830         0.020168        0.001537   \n",
       "12       0.056862      0.000621         0.005570        0.000495   \n",
       "13       0.106914      0.000738         0.007580        0.000488   \n",
       "14       0.263696      0.010008         0.012942        0.000019   \n",
       "15       0.512812      0.004108         0.020005        0.003578   \n",
       "\n",
       "   param_max_depth param_n_estimators                                  params  \\\n",
       "0                3                 10    {'max_depth': 3, 'n_estimators': 10}   \n",
       "1                3                 20    {'max_depth': 3, 'n_estimators': 20}   \n",
       "2                3                 50    {'max_depth': 3, 'n_estimators': 50}   \n",
       "3                3                100   {'max_depth': 3, 'n_estimators': 100}   \n",
       "4                5                 10    {'max_depth': 5, 'n_estimators': 10}   \n",
       "5                5                 20    {'max_depth': 5, 'n_estimators': 20}   \n",
       "6                5                 50    {'max_depth': 5, 'n_estimators': 50}   \n",
       "7                5                100   {'max_depth': 5, 'n_estimators': 100}   \n",
       "8                7                 10    {'max_depth': 7, 'n_estimators': 10}   \n",
       "9                7                 20    {'max_depth': 7, 'n_estimators': 20}   \n",
       "10               7                 50    {'max_depth': 7, 'n_estimators': 50}   \n",
       "11               7                100   {'max_depth': 7, 'n_estimators': 100}   \n",
       "12              10                 10   {'max_depth': 10, 'n_estimators': 10}   \n",
       "13              10                 20   {'max_depth': 10, 'n_estimators': 20}   \n",
       "14              10                 50   {'max_depth': 10, 'n_estimators': 50}   \n",
       "15              10                100  {'max_depth': 10, 'n_estimators': 100}   \n",
       "\n",
       "    split0_test_score  split1_test_score  split2_test_score  \\\n",
       "0            0.869379           0.856531           0.873662   \n",
       "1            0.854390           0.871520           0.873662   \n",
       "2            0.869379           0.871520           0.873662   \n",
       "3            0.875803           0.873662           0.875803   \n",
       "4            0.892934           0.873662           0.871520   \n",
       "5            0.916488           0.897216           0.899358   \n",
       "6            0.890792           0.875803           0.897216   \n",
       "7            0.886510           0.886510           0.892934   \n",
       "8            0.916488           0.905782           0.895075   \n",
       "9            0.903640           0.899358           0.890792   \n",
       "10           0.914347           0.897216           0.903640   \n",
       "11           0.918630           0.892934           0.901499   \n",
       "12           0.910064           0.892934           0.910064   \n",
       "13           0.916488           0.899358           0.897216   \n",
       "14           0.914347           0.897216           0.914347   \n",
       "15           0.918630           0.903640           0.910064   \n",
       "\n",
       "    split3_test_score  split4_test_score  mean_test_score  std_test_score  \\\n",
       "0            0.896996           0.873391         0.873982        0.013080   \n",
       "1            0.896996           0.858369         0.870982        0.014952   \n",
       "2            0.864807           0.875536         0.870982        0.003711   \n",
       "3            0.886266           0.869099         0.876125        0.005627   \n",
       "4            0.907725           0.896996         0.888556        0.013927   \n",
       "5            0.896996           0.894850         0.900986        0.007886   \n",
       "6            0.920601           0.914163         0.899700        0.016139   \n",
       "7            0.924893           0.907725         0.899700        0.014780   \n",
       "8            0.914163           0.916309         0.909559        0.008234   \n",
       "9            0.907725           0.918455         0.903986        0.009152   \n",
       "10           0.929185           0.912017         0.911273        0.010830   \n",
       "11           0.922747           0.922747         0.911702        0.012235   \n",
       "12           0.924893           0.916309         0.910844        0.010481   \n",
       "13           0.920601           0.918455         0.910416        0.010018   \n",
       "14           0.927039           0.918455         0.914273        0.009710   \n",
       "15           0.929185           0.920601         0.916417        0.008820   \n",
       "\n",
       "    rank_test_score  \n",
       "0                14  \n",
       "1                15  \n",
       "2                15  \n",
       "3                13  \n",
       "4                12  \n",
       "5                 9  \n",
       "6                10  \n",
       "7                10  \n",
       "8                 7  \n",
       "9                 8  \n",
       "10                4  \n",
       "11                3  \n",
       "12                5  \n",
       "13                6  \n",
       "14                2  \n",
       "15                1  "
      ]
     },
     "execution_count": 37,
     "metadata": {},
     "output_type": "execute_result"
    }
   ],
   "source": [
    "pd.DataFrame(recherche_hyper.cv_results_)"
   ]
  },
  {
   "cell_type": "markdown",
   "metadata": {
    "slideshow": {
     "slide_type": "slide"
    }
   },
   "source": [
    "## La construction d’un pipeline de traitement\n",
    "\n",
    "Bien souvent vous allez être amené à enchaîner des traitements sur des données.\n",
    "On peut bien sûr développer son code de manière à suivre les étapes une à une mais il est souvent plus intéressant de créer des suites de traitements automatisées avec Scikit-Learn. \n",
    "\n",
    "Ces suites de traitements sont appelées pipeline. Ils simplifieront votre code et permettront de passer en production simplement.\n",
    "\n",
    "Ainsi, on va pouvoir faire une analyse en composantes principales suivies d’un\n",
    "algorithme de plus proches voisins directement dans un pipeline :"
   ]
  },
  {
   "cell_type": "code",
   "execution_count": 38,
   "metadata": {
    "slideshow": {
     "slide_type": "fragment"
    }
   },
   "outputs": [],
   "source": [
    "from sklearn.pipeline import Pipeline, make_pipeline\n",
    "from sklearn.decomposition import PCA"
   ]
  },
  {
   "cell_type": "code",
   "execution_count": 39,
   "metadata": {
    "slideshow": {
     "slide_type": "subslide"
    }
   },
   "outputs": [
    {
     "name": "stderr",
     "output_type": "stream",
     "text": [
      "C:\\Users\\s4d-asus-14\\Anaconda3\\lib\\site-packages\\sklearn\\ensemble\\forest.py:245: FutureWarning: The default value of n_estimators will change from 10 in version 0.20 to 100 in 0.22.\n",
      "  \"10 in version 0.20 to 100 in 0.22.\", FutureWarning)\n"
     ]
    }
   ],
   "source": [
    "acp=PCA(n_components=8)\n",
    "knn=KNeighborsClassifier()\n",
    "rf=RandomForestClassifier()\n",
    "\n",
    "pipe=Pipeline(steps=[(\"acp\",acp),(\"knn\",knn)])\n",
    "pipe2=Pipeline(steps=[(\"acp\",acp),(\"rf\",rf)])\n",
    "\n",
    "pipe.fit(x_train, y_train)\n",
    "\n",
    "pipe2.fit(x_train, y_train)\n",
    "pass"
   ]
  },
  {
   "cell_type": "code",
   "execution_count": 40,
   "metadata": {},
   "outputs": [
    {
     "data": {
      "text/plain": [
       "array(['False.', 'False.', 'False.', 'False.', 'True.', 'False.',\n",
       "       'False.', 'False.', 'False.', 'False.', 'False.', 'False.',\n",
       "       'False.', 'False.', 'False.', 'False.', 'False.', 'False.',\n",
       "       'False.', 'True.', 'False.', 'False.', 'False.', 'False.',\n",
       "       'False.', 'False.', 'False.', 'False.', 'False.', 'False.',\n",
       "       'False.', 'False.', 'False.', 'False.', 'False.', 'False.',\n",
       "       'False.', 'True.', 'False.', 'False.', 'False.', 'False.',\n",
       "       'False.', 'False.', 'False.', 'False.', 'False.', 'False.',\n",
       "       'False.', 'False.', 'False.', 'False.', 'False.', 'False.',\n",
       "       'False.', 'False.', 'False.', 'False.', 'False.', 'False.',\n",
       "       'False.', 'False.', 'False.', 'False.', 'False.', 'False.',\n",
       "       'False.', 'False.', 'False.', 'True.', 'False.', 'False.',\n",
       "       'False.', 'False.', 'False.', 'False.', 'False.', 'False.',\n",
       "       'False.', 'True.', 'False.', 'False.', 'False.', 'False.',\n",
       "       'False.', 'True.', 'False.', 'False.', 'False.', 'False.',\n",
       "       'False.', 'False.', 'False.', 'False.', 'False.', 'False.',\n",
       "       'False.', 'False.', 'False.', 'False.', 'False.', 'False.',\n",
       "       'False.', 'False.', 'False.', 'False.', 'False.', 'False.',\n",
       "       'False.', 'False.', 'False.', 'False.', 'False.', 'False.',\n",
       "       'False.', 'False.', 'True.', 'False.', 'False.', 'False.',\n",
       "       'False.', 'False.', 'False.', 'False.', 'False.', 'False.',\n",
       "       'False.', 'True.', 'False.', 'False.', 'False.', 'False.',\n",
       "       'False.', 'False.', 'False.', 'False.', 'False.', 'False.',\n",
       "       'False.', 'False.', 'False.', 'False.', 'False.', 'False.',\n",
       "       'False.', 'False.', 'False.', 'False.', 'False.', 'False.',\n",
       "       'False.', 'False.', 'False.', 'False.', 'False.', 'False.',\n",
       "       'False.', 'False.', 'False.', 'False.', 'False.', 'False.',\n",
       "       'False.', 'False.', 'True.', 'False.', 'False.', 'False.',\n",
       "       'False.', 'False.', 'False.', 'False.', 'False.', 'True.',\n",
       "       'False.', 'False.', 'False.', 'False.', 'False.', 'False.',\n",
       "       'False.', 'True.', 'False.', 'False.', 'False.', 'False.',\n",
       "       'False.', 'False.', 'False.', 'False.', 'False.', 'False.',\n",
       "       'False.', 'False.', 'False.', 'False.', 'False.', 'False.',\n",
       "       'False.', 'False.', 'False.', 'False.', 'False.', 'False.',\n",
       "       'False.', 'False.', 'False.', 'False.', 'False.', 'False.',\n",
       "       'False.', 'False.', 'False.', 'False.', 'False.', 'False.',\n",
       "       'False.', 'False.', 'False.', 'False.', 'True.', 'False.',\n",
       "       'False.', 'False.', 'False.', 'False.', 'False.', 'False.',\n",
       "       'False.', 'False.', 'False.', 'False.', 'False.', 'False.',\n",
       "       'False.', 'False.', 'False.', 'False.', 'False.', 'False.',\n",
       "       'True.', 'False.', 'False.', 'False.', 'False.', 'True.', 'False.',\n",
       "       'False.', 'False.', 'False.', 'False.', 'False.', 'False.',\n",
       "       'False.', 'False.', 'False.', 'True.', 'False.', 'False.',\n",
       "       'False.', 'False.', 'False.', 'False.', 'False.', 'False.',\n",
       "       'False.', 'False.', 'False.', 'False.', 'False.', 'False.',\n",
       "       'False.', 'False.', 'False.', 'False.', 'False.', 'False.',\n",
       "       'False.', 'False.', 'False.', 'False.', 'False.', 'False.',\n",
       "       'False.', 'False.', 'False.', 'False.', 'False.', 'False.',\n",
       "       'False.', 'False.', 'True.', 'False.', 'False.', 'False.',\n",
       "       'False.', 'False.', 'False.', 'False.', 'False.', 'False.',\n",
       "       'False.', 'False.', 'False.', 'False.', 'False.', 'False.',\n",
       "       'False.', 'False.', 'False.', 'False.', 'False.', 'False.',\n",
       "       'False.', 'False.', 'False.', 'False.', 'False.', 'False.',\n",
       "       'False.', 'False.', 'False.', 'False.', 'False.', 'False.',\n",
       "       'False.', 'False.', 'False.', 'True.', 'True.', 'True.', 'False.',\n",
       "       'False.', 'False.', 'False.', 'False.', 'False.', 'False.',\n",
       "       'False.', 'False.', 'False.', 'False.', 'False.', 'False.',\n",
       "       'False.', 'False.', 'False.', 'False.', 'False.', 'False.',\n",
       "       'False.', 'False.', 'False.', 'False.', 'False.', 'False.',\n",
       "       'False.', 'False.', 'False.', 'True.', 'False.', 'False.',\n",
       "       'False.', 'False.', 'True.', 'False.', 'False.', 'True.', 'False.',\n",
       "       'False.', 'False.', 'False.', 'False.', 'False.', 'False.',\n",
       "       'False.', 'False.', 'False.', 'False.', 'False.', 'False.',\n",
       "       'False.', 'False.', 'False.', 'False.', 'False.', 'False.',\n",
       "       'False.', 'False.', 'False.', 'False.', 'False.', 'False.',\n",
       "       'False.', 'True.', 'False.', 'False.', 'False.', 'False.',\n",
       "       'False.', 'False.', 'False.', 'False.', 'False.', 'False.',\n",
       "       'True.', 'False.', 'False.', 'False.', 'False.', 'False.',\n",
       "       'False.', 'False.', 'True.', 'False.', 'False.', 'False.',\n",
       "       'False.', 'False.', 'False.', 'False.', 'False.', 'False.',\n",
       "       'False.', 'False.', 'False.', 'False.', 'False.', 'False.',\n",
       "       'False.', 'False.', 'False.', 'False.', 'False.', 'False.',\n",
       "       'False.', 'True.', 'False.', 'False.', 'False.', 'False.',\n",
       "       'False.', 'False.', 'False.', 'False.', 'False.', 'True.',\n",
       "       'False.', 'False.', 'False.', 'False.', 'False.', 'False.',\n",
       "       'False.', 'False.', 'False.', 'False.', 'False.', 'False.',\n",
       "       'False.', 'False.', 'False.', 'False.', 'True.', 'False.',\n",
       "       'False.', 'False.', 'False.', 'False.', 'False.', 'False.',\n",
       "       'False.', 'False.', 'False.', 'False.', 'False.', 'True.',\n",
       "       'False.', 'False.', 'False.', 'False.', 'False.', 'False.',\n",
       "       'False.', 'False.', 'False.', 'False.', 'False.', 'False.',\n",
       "       'False.', 'False.', 'False.', 'False.', 'False.', 'False.',\n",
       "       'False.', 'False.', 'False.', 'False.', 'False.', 'False.',\n",
       "       'True.', 'False.', 'False.', 'False.', 'False.', 'True.', 'False.',\n",
       "       'False.', 'False.', 'False.', 'False.', 'False.', 'False.',\n",
       "       'False.', 'False.', 'False.', 'False.', 'False.', 'False.',\n",
       "       'False.', 'False.', 'False.', 'False.', 'False.', 'False.',\n",
       "       'False.', 'False.', 'False.', 'False.', 'True.', 'False.',\n",
       "       'False.', 'False.', 'False.', 'False.', 'False.', 'False.',\n",
       "       'False.', 'False.', 'False.', 'False.', 'False.', 'True.',\n",
       "       'False.', 'False.', 'False.', 'False.', 'False.', 'False.',\n",
       "       'False.', 'True.', 'False.', 'False.', 'False.', 'False.',\n",
       "       'False.', 'False.', 'False.', 'False.', 'False.', 'False.',\n",
       "       'False.', 'False.', 'False.', 'False.', 'False.', 'False.',\n",
       "       'False.', 'False.', 'False.', 'False.', 'False.', 'False.',\n",
       "       'False.', 'False.', 'False.', 'False.', 'False.', 'True.',\n",
       "       'False.', 'False.', 'False.', 'False.', 'False.', 'False.',\n",
       "       'False.', 'False.', 'True.', 'False.', 'False.', 'False.',\n",
       "       'False.', 'False.', 'False.', 'False.', 'False.', 'False.',\n",
       "       'True.', 'False.', 'False.', 'False.', 'False.', 'False.',\n",
       "       'False.', 'False.', 'False.', 'False.', 'False.', 'False.',\n",
       "       'False.', 'False.', 'False.', 'False.', 'False.', 'False.',\n",
       "       'False.', 'False.', 'False.', 'False.', 'False.', 'False.',\n",
       "       'False.', 'False.', 'False.', 'False.', 'False.', 'False.',\n",
       "       'False.', 'False.', 'False.', 'False.', 'False.', 'False.',\n",
       "       'False.', 'False.', 'False.', 'False.', 'False.', 'False.',\n",
       "       'False.', 'True.', 'False.', 'False.', 'False.', 'False.',\n",
       "       'False.', 'False.', 'False.', 'False.', 'False.', 'False.',\n",
       "       'False.', 'False.', 'False.', 'False.', 'True.', 'False.',\n",
       "       'False.', 'False.', 'False.', 'False.', 'False.', 'False.',\n",
       "       'True.', 'False.', 'False.', 'False.', 'False.', 'False.',\n",
       "       'False.', 'False.', 'False.', 'False.', 'False.', 'False.',\n",
       "       'False.', 'False.', 'False.', 'False.', 'False.', 'False.',\n",
       "       'False.', 'False.', 'False.', 'False.', 'False.', 'False.',\n",
       "       'False.', 'False.', 'False.', 'False.', 'True.', 'False.',\n",
       "       'False.', 'False.', 'False.', 'False.', 'True.', 'False.',\n",
       "       'False.', 'False.', 'False.', 'False.', 'False.', 'False.',\n",
       "       'True.', 'False.', 'False.', 'False.', 'False.', 'False.',\n",
       "       'False.', 'False.', 'False.', 'False.', 'False.', 'False.',\n",
       "       'False.', 'False.', 'False.', 'False.', 'False.', 'False.',\n",
       "       'False.', 'False.', 'False.', 'False.', 'False.', 'False.',\n",
       "       'False.', 'False.', 'False.', 'False.', 'False.', 'False.',\n",
       "       'False.', 'False.', 'False.', 'False.', 'False.', 'False.',\n",
       "       'False.', 'False.', 'False.', 'False.', 'False.', 'False.',\n",
       "       'False.', 'False.', 'False.', 'False.', 'False.', 'False.',\n",
       "       'False.', 'False.', 'False.', 'False.', 'False.', 'False.',\n",
       "       'False.', 'False.', 'False.', 'False.', 'False.', 'False.',\n",
       "       'False.', 'False.', 'False.', 'False.', 'False.', 'False.',\n",
       "       'False.', 'False.', 'False.', 'False.', 'True.', 'False.',\n",
       "       'False.', 'False.', 'False.', 'False.', 'False.', 'False.',\n",
       "       'False.', 'False.', 'False.', 'False.', 'False.', 'False.',\n",
       "       'False.', 'False.', 'False.', 'False.', 'False.', 'False.',\n",
       "       'False.', 'False.', 'False.', 'False.', 'False.', 'False.',\n",
       "       'False.', 'False.', 'False.', 'False.', 'False.', 'False.',\n",
       "       'False.', 'False.', 'False.', 'False.', 'False.', 'True.',\n",
       "       'False.', 'False.', 'False.', 'False.', 'False.', 'False.',\n",
       "       'False.', 'False.', 'False.', 'False.', 'True.', 'False.',\n",
       "       'False.', 'False.', 'False.', 'False.', 'False.', 'False.',\n",
       "       'False.', 'False.', 'False.', 'False.', 'False.', 'False.',\n",
       "       'False.', 'False.', 'False.', 'False.', 'False.', 'False.',\n",
       "       'False.', 'True.', 'False.', 'False.', 'False.', 'True.', 'False.',\n",
       "       'False.', 'False.', 'False.', 'True.', 'False.', 'False.',\n",
       "       'False.', 'False.', 'False.', 'True.', 'False.', 'False.',\n",
       "       'False.', 'False.', 'False.', 'False.', 'False.', 'False.',\n",
       "       'False.', 'False.', 'False.', 'False.', 'False.', 'False.',\n",
       "       'False.', 'False.', 'False.', 'False.', 'False.', 'False.',\n",
       "       'False.', 'True.', 'False.', 'False.', 'False.', 'False.',\n",
       "       'False.', 'False.', 'False.', 'True.', 'False.', 'False.',\n",
       "       'False.', 'False.', 'False.', 'True.', 'False.', 'True.', 'False.',\n",
       "       'False.', 'False.', 'False.', 'False.', 'False.', 'False.',\n",
       "       'False.', 'False.', 'False.', 'False.', 'True.', 'False.',\n",
       "       'False.', 'False.', 'False.', 'False.', 'False.', 'False.',\n",
       "       'False.', 'False.', 'False.', 'False.', 'False.', 'False.',\n",
       "       'False.', 'False.', 'False.', 'False.', 'False.', 'False.',\n",
       "       'False.', 'False.', 'False.', 'False.', 'False.', 'True.',\n",
       "       'False.', 'False.', 'False.', 'False.', 'False.', 'False.',\n",
       "       'True.', 'False.', 'False.', 'False.', 'False.', 'False.',\n",
       "       'False.', 'False.', 'False.', 'False.', 'False.', 'False.',\n",
       "       'False.', 'False.', 'False.', 'False.', 'False.', 'False.',\n",
       "       'False.', 'False.', 'False.', 'False.', 'False.', 'False.',\n",
       "       'False.', 'False.', 'False.', 'False.', 'False.', 'False.',\n",
       "       'False.', 'False.', 'True.', 'False.', 'False.', 'False.',\n",
       "       'False.', 'True.', 'False.', 'False.', 'False.', 'False.',\n",
       "       'False.', 'False.', 'False.', 'False.', 'False.', 'False.',\n",
       "       'False.', 'False.', 'False.', 'False.', 'False.', 'False.',\n",
       "       'False.', 'False.', 'False.', 'False.'], dtype=object)"
      ]
     },
     "execution_count": 40,
     "metadata": {},
     "output_type": "execute_result"
    }
   ],
   "source": [
    "pipe2.predict(x_test)"
   ]
  },
  {
   "cell_type": "code",
   "execution_count": 41,
   "metadata": {},
   "outputs": [
    {
     "data": {
      "text/plain": [
       "RandomForestClassifier(bootstrap=True, class_weight=None, criterion='gini',\n",
       "                       max_depth=None, max_features='auto', max_leaf_nodes=None,\n",
       "                       min_impurity_decrease=0.0, min_impurity_split=None,\n",
       "                       min_samples_leaf=1, min_samples_split=2,\n",
       "                       min_weight_fraction_leaf=0.0, n_estimators=10,\n",
       "                       n_jobs=None, oob_score=False, random_state=None,\n",
       "                       verbose=0, warm_start=False)"
      ]
     },
     "execution_count": 41,
     "metadata": {},
     "output_type": "execute_result"
    }
   ],
   "source": [
    "x_train_comp = acp.fit_transform(x_train)\n",
    "rf.fit(x_train_comp, y_train)"
   ]
  },
  {
   "cell_type": "code",
   "execution_count": 42,
   "metadata": {},
   "outputs": [
    {
     "data": {
      "text/plain": [
       "array(['False.', 'False.', 'False.', 'False.', 'False.', 'False.',\n",
       "       'False.', 'False.', 'False.', 'False.', 'False.', 'False.',\n",
       "       'False.', 'False.', 'False.', 'False.', 'False.', 'False.',\n",
       "       'False.', 'True.', 'False.', 'False.', 'False.', 'False.',\n",
       "       'False.', 'False.', 'False.', 'False.', 'False.', 'False.',\n",
       "       'False.', 'False.', 'False.', 'False.', 'False.', 'False.',\n",
       "       'False.', 'False.', 'False.', 'False.', 'False.', 'False.',\n",
       "       'False.', 'False.', 'False.', 'False.', 'False.', 'False.',\n",
       "       'False.', 'False.', 'False.', 'False.', 'False.', 'False.',\n",
       "       'False.', 'False.', 'False.', 'False.', 'False.', 'False.',\n",
       "       'False.', 'False.', 'False.', 'False.', 'False.', 'False.',\n",
       "       'False.', 'False.', 'False.', 'True.', 'False.', 'False.',\n",
       "       'False.', 'False.', 'False.', 'False.', 'False.', 'False.',\n",
       "       'False.', 'True.', 'False.', 'False.', 'False.', 'False.',\n",
       "       'False.', 'True.', 'False.', 'False.', 'False.', 'False.',\n",
       "       'False.', 'False.', 'False.', 'False.', 'False.', 'False.',\n",
       "       'False.', 'True.', 'False.', 'False.', 'False.', 'False.',\n",
       "       'False.', 'False.', 'False.', 'False.', 'False.', 'False.',\n",
       "       'False.', 'False.', 'False.', 'False.', 'False.', 'False.',\n",
       "       'False.', 'False.', 'True.', 'False.', 'False.', 'False.',\n",
       "       'False.', 'False.', 'False.', 'False.', 'False.', 'False.',\n",
       "       'False.', 'False.', 'False.', 'False.', 'False.', 'False.',\n",
       "       'False.', 'False.', 'False.', 'False.', 'False.', 'False.',\n",
       "       'False.', 'False.', 'False.', 'False.', 'False.', 'False.',\n",
       "       'False.', 'False.', 'False.', 'False.', 'False.', 'False.',\n",
       "       'False.', 'True.', 'False.', 'False.', 'False.', 'False.',\n",
       "       'False.', 'False.', 'False.', 'False.', 'False.', 'False.',\n",
       "       'False.', 'False.', 'True.', 'False.', 'False.', 'False.',\n",
       "       'False.', 'False.', 'False.', 'False.', 'False.', 'True.',\n",
       "       'False.', 'False.', 'True.', 'False.', 'False.', 'False.',\n",
       "       'False.', 'True.', 'False.', 'False.', 'False.', 'False.',\n",
       "       'False.', 'False.', 'False.', 'False.', 'False.', 'False.',\n",
       "       'False.', 'False.', 'False.', 'False.', 'False.', 'False.',\n",
       "       'False.', 'False.', 'False.', 'False.', 'False.', 'False.',\n",
       "       'False.', 'False.', 'False.', 'False.', 'False.', 'False.',\n",
       "       'False.', 'False.', 'False.', 'False.', 'False.', 'False.',\n",
       "       'False.', 'False.', 'False.', 'False.', 'True.', 'False.',\n",
       "       'False.', 'False.', 'False.', 'False.', 'False.', 'False.',\n",
       "       'False.', 'False.', 'False.', 'False.', 'False.', 'False.',\n",
       "       'False.', 'False.', 'False.', 'False.', 'False.', 'False.',\n",
       "       'True.', 'False.', 'False.', 'False.', 'False.', 'False.', 'True.',\n",
       "       'False.', 'False.', 'False.', 'False.', 'False.', 'False.',\n",
       "       'False.', 'False.', 'False.', 'True.', 'False.', 'False.',\n",
       "       'False.', 'False.', 'False.', 'False.', 'False.', 'False.',\n",
       "       'False.', 'False.', 'False.', 'False.', 'False.', 'False.',\n",
       "       'False.', 'False.', 'False.', 'False.', 'False.', 'False.',\n",
       "       'False.', 'False.', 'False.', 'False.', 'False.', 'False.',\n",
       "       'False.', 'False.', 'False.', 'False.', 'False.', 'False.',\n",
       "       'False.', 'False.', 'True.', 'False.', 'False.', 'False.',\n",
       "       'False.', 'False.', 'False.', 'False.', 'False.', 'False.',\n",
       "       'False.', 'False.', 'False.', 'False.', 'False.', 'False.',\n",
       "       'False.', 'False.', 'False.', 'False.', 'False.', 'False.',\n",
       "       'False.', 'False.', 'False.', 'False.', 'False.', 'False.',\n",
       "       'False.', 'False.', 'False.', 'False.', 'False.', 'False.',\n",
       "       'False.', 'False.', 'False.', 'True.', 'False.', 'True.', 'False.',\n",
       "       'False.', 'False.', 'False.', 'False.', 'False.', 'False.',\n",
       "       'False.', 'False.', 'False.', 'False.', 'False.', 'False.',\n",
       "       'False.', 'False.', 'False.', 'False.', 'False.', 'False.',\n",
       "       'False.', 'False.', 'False.', 'False.', 'False.', 'False.',\n",
       "       'False.', 'False.', 'False.', 'True.', 'False.', 'False.',\n",
       "       'False.', 'False.', 'False.', 'False.', 'False.', 'False.',\n",
       "       'False.', 'False.', 'False.', 'False.', 'False.', 'False.',\n",
       "       'False.', 'False.', 'False.', 'False.', 'False.', 'False.',\n",
       "       'False.', 'False.', 'False.', 'False.', 'False.', 'False.',\n",
       "       'False.', 'False.', 'False.', 'False.', 'False.', 'False.',\n",
       "       'False.', 'False.', 'True.', 'False.', 'False.', 'False.',\n",
       "       'False.', 'False.', 'False.', 'False.', 'False.', 'False.',\n",
       "       'False.', 'True.', 'False.', 'False.', 'False.', 'False.',\n",
       "       'False.', 'False.', 'False.', 'False.', 'False.', 'False.',\n",
       "       'False.', 'False.', 'False.', 'False.', 'False.', 'False.',\n",
       "       'False.', 'False.', 'False.', 'False.', 'False.', 'False.',\n",
       "       'False.', 'False.', 'False.', 'False.', 'False.', 'False.',\n",
       "       'False.', 'False.', 'True.', 'False.', 'False.', 'True.', 'False.',\n",
       "       'False.', 'False.', 'False.', 'False.', 'False.', 'True.',\n",
       "       'False.', 'False.', 'False.', 'False.', 'False.', 'False.',\n",
       "       'False.', 'False.', 'False.', 'False.', 'False.', 'False.',\n",
       "       'False.', 'False.', 'False.', 'False.', 'False.', 'False.',\n",
       "       'False.', 'False.', 'False.', 'False.', 'False.', 'False.',\n",
       "       'False.', 'False.', 'False.', 'False.', 'False.', 'False.',\n",
       "       'False.', 'False.', 'False.', 'False.', 'False.', 'False.',\n",
       "       'False.', 'False.', 'False.', 'False.', 'False.', 'False.',\n",
       "       'False.', 'False.', 'False.', 'False.', 'False.', 'False.',\n",
       "       'False.', 'False.', 'False.', 'False.', 'False.', 'False.',\n",
       "       'True.', 'False.', 'False.', 'False.', 'False.', 'False.',\n",
       "       'False.', 'False.', 'False.', 'False.', 'False.', 'False.',\n",
       "       'False.', 'False.', 'False.', 'False.', 'False.', 'True.',\n",
       "       'False.', 'False.', 'False.', 'False.', 'False.', 'False.',\n",
       "       'False.', 'False.', 'False.', 'False.', 'False.', 'True.',\n",
       "       'False.', 'False.', 'False.', 'False.', 'False.', 'False.',\n",
       "       'False.', 'False.', 'False.', 'False.', 'False.', 'False.',\n",
       "       'True.', 'False.', 'False.', 'False.', 'False.', 'False.',\n",
       "       'False.', 'False.', 'True.', 'False.', 'False.', 'False.',\n",
       "       'False.', 'False.', 'False.', 'False.', 'False.', 'False.',\n",
       "       'False.', 'False.', 'False.', 'False.', 'False.', 'False.',\n",
       "       'False.', 'False.', 'False.', 'False.', 'False.', 'False.',\n",
       "       'False.', 'False.', 'False.', 'False.', 'False.', 'False.',\n",
       "       'True.', 'False.', 'False.', 'False.', 'False.', 'False.',\n",
       "       'False.', 'False.', 'False.', 'True.', 'False.', 'False.',\n",
       "       'False.', 'False.', 'False.', 'False.', 'False.', 'False.',\n",
       "       'False.', 'False.', 'False.', 'False.', 'False.', 'False.',\n",
       "       'False.', 'False.', 'False.', 'False.', 'False.', 'False.',\n",
       "       'False.', 'False.', 'False.', 'False.', 'False.', 'False.',\n",
       "       'False.', 'False.', 'False.', 'False.', 'False.', 'False.',\n",
       "       'False.', 'False.', 'False.', 'False.', 'False.', 'False.',\n",
       "       'False.', 'False.', 'False.', 'False.', 'False.', 'False.',\n",
       "       'False.', 'False.', 'False.', 'False.', 'False.', 'False.',\n",
       "       'False.', 'False.', 'False.', 'False.', 'False.', 'False.',\n",
       "       'False.', 'False.', 'False.', 'False.', 'False.', 'False.',\n",
       "       'False.', 'False.', 'False.', 'False.', 'False.', 'False.',\n",
       "       'False.', 'False.', 'False.', 'False.', 'False.', 'False.',\n",
       "       'False.', 'True.', 'False.', 'False.', 'False.', 'False.',\n",
       "       'False.', 'False.', 'False.', 'True.', 'False.', 'False.', 'True.',\n",
       "       'False.', 'False.', 'False.', 'False.', 'False.', 'False.',\n",
       "       'False.', 'False.', 'False.', 'False.', 'False.', 'False.',\n",
       "       'False.', 'False.', 'False.', 'False.', 'True.', 'False.',\n",
       "       'False.', 'False.', 'False.', 'False.', 'False.', 'False.',\n",
       "       'False.', 'False.', 'False.', 'False.', 'False.', 'False.',\n",
       "       'True.', 'False.', 'False.', 'False.', 'False.', 'False.',\n",
       "       'False.', 'False.', 'False.', 'False.', 'False.', 'False.',\n",
       "       'False.', 'False.', 'False.', 'False.', 'False.', 'False.',\n",
       "       'False.', 'False.', 'False.', 'False.', 'False.', 'False.',\n",
       "       'False.', 'False.', 'False.', 'False.', 'False.', 'False.',\n",
       "       'False.', 'False.', 'False.', 'False.', 'False.', 'False.',\n",
       "       'False.', 'False.', 'False.', 'False.', 'False.', 'False.',\n",
       "       'False.', 'False.', 'False.', 'False.', 'False.', 'False.',\n",
       "       'False.', 'False.', 'False.', 'False.', 'False.', 'False.',\n",
       "       'False.', 'False.', 'False.', 'False.', 'False.', 'False.',\n",
       "       'False.', 'False.', 'False.', 'False.', 'False.', 'False.',\n",
       "       'False.', 'False.', 'False.', 'False.', 'False.', 'False.',\n",
       "       'False.', 'False.', 'False.', 'False.', 'False.', 'False.',\n",
       "       'False.', 'False.', 'False.', 'False.', 'False.', 'False.',\n",
       "       'False.', 'False.', 'False.', 'False.', 'False.', 'False.',\n",
       "       'False.', 'False.', 'False.', 'False.', 'False.', 'False.',\n",
       "       'False.', 'False.', 'False.', 'False.', 'False.', 'False.',\n",
       "       'False.', 'False.', 'False.', 'False.', 'False.', 'True.',\n",
       "       'False.', 'False.', 'False.', 'False.', 'False.', 'False.',\n",
       "       'False.', 'False.', 'False.', 'False.', 'False.', 'False.',\n",
       "       'False.', 'False.', 'False.', 'False.', 'False.', 'False.',\n",
       "       'False.', 'False.', 'False.', 'False.', 'False.', 'False.',\n",
       "       'False.', 'False.', 'False.', 'False.', 'False.', 'False.',\n",
       "       'False.', 'False.', 'False.', 'False.', 'False.', 'False.',\n",
       "       'False.', 'False.', 'False.', 'False.', 'True.', 'False.',\n",
       "       'False.', 'False.', 'False.', 'False.', 'True.', 'False.',\n",
       "       'False.', 'False.', 'False.', 'False.', 'False.', 'False.',\n",
       "       'False.', 'False.', 'False.', 'False.', 'False.', 'False.',\n",
       "       'False.', 'False.', 'False.', 'False.', 'False.', 'False.',\n",
       "       'False.', 'False.', 'True.', 'False.', 'False.', 'False.',\n",
       "       'False.', 'False.', 'False.', 'False.', 'False.', 'False.',\n",
       "       'False.', 'False.', 'False.', 'False.', 'False.', 'False.',\n",
       "       'False.', 'False.', 'False.', 'False.', 'False.', 'False.',\n",
       "       'False.', 'False.', 'False.', 'True.', 'False.', 'False.', 'True.',\n",
       "       'False.', 'False.', 'False.', 'False.', 'False.', 'False.',\n",
       "       'False.', 'False.', 'False.', 'False.', 'False.', 'False.',\n",
       "       'False.', 'False.', 'False.', 'False.', 'False.', 'False.',\n",
       "       'False.', 'False.', 'False.', 'False.', 'False.', 'False.',\n",
       "       'True.', 'False.', 'False.', 'False.', 'False.', 'False.',\n",
       "       'False.', 'True.', 'False.', 'False.', 'False.', 'False.',\n",
       "       'False.', 'False.', 'False.', 'False.', 'False.', 'False.',\n",
       "       'False.', 'False.', 'False.', 'False.', 'False.', 'False.',\n",
       "       'False.', 'False.', 'False.', 'False.', 'False.', 'False.',\n",
       "       'False.', 'False.', 'False.', 'False.', 'False.', 'False.',\n",
       "       'False.', 'False.', 'False.', 'True.', 'False.', 'False.',\n",
       "       'False.', 'False.', 'False.', 'False.', 'False.', 'False.',\n",
       "       'False.', 'False.', 'False.', 'False.', 'False.', 'False.',\n",
       "       'False.', 'False.', 'False.', 'False.', 'False.', 'False.',\n",
       "       'False.', 'False.', 'False.', 'False.', 'False.'], dtype=object)"
      ]
     },
     "execution_count": 42,
     "metadata": {},
     "output_type": "execute_result"
    }
   ],
   "source": [
    "x_test_comp = acp.transform(x_test)\n",
    "rf.predict(x_test_comp)"
   ]
  },
  {
   "cell_type": "code",
   "execution_count": 43,
   "metadata": {},
   "outputs": [
    {
     "data": {
      "text/plain": [
       "Pipeline(memory=None,\n",
       "         steps=[('acp',\n",
       "                 PCA(copy=True, iterated_power='auto', n_components=8,\n",
       "                     random_state=None, svd_solver='auto', tol=0.0,\n",
       "                     whiten=False)),\n",
       "                ('rf',\n",
       "                 RandomForestClassifier(bootstrap=True, class_weight=None,\n",
       "                                        criterion='gini', max_depth=None,\n",
       "                                        max_features='auto',\n",
       "                                        max_leaf_nodes=None,\n",
       "                                        min_impurity_decrease=0.0,\n",
       "                                        min_impurity_split=None,\n",
       "                                        min_samples_leaf=1, min_samples_split=2,\n",
       "                                        min_weight_fraction_leaf=0.0,\n",
       "                                        n_estimators=10, n_jobs=None,\n",
       "                                        oob_score=False, random_state=None,\n",
       "                                        verbose=0, warm_start=False))],\n",
       "         verbose=False)"
      ]
     },
     "execution_count": 43,
     "metadata": {},
     "output_type": "execute_result"
    }
   ],
   "source": [
    "pipe2"
   ]
  },
  {
   "cell_type": "markdown",
   "metadata": {
    "slideshow": {
     "slide_type": "subslide"
    }
   },
   "source": [
    "On a ainsi enchaîné deux traitements. Si on cherche des sorties liées à chacune\n",
    "des étapes, on pourra le faire simplement. Par exemple, si l’objectif est d’extraire la part de variances expliquées par les composantes de l’analyse en composantes principales, on fera :"
   ]
  },
  {
   "cell_type": "code",
   "execution_count": 44,
   "metadata": {
    "slideshow": {
     "slide_type": "fragment"
    }
   },
   "outputs": [
    {
     "data": {
      "text/plain": [
       "array([0.32613334, 0.26603217, 0.26354245, 0.04285955, 0.04059586,\n",
       "       0.03959923, 0.01956745, 0.00085682])"
      ]
     },
     "execution_count": 44,
     "metadata": {},
     "output_type": "execute_result"
    }
   ],
   "source": [
    "pipe.named_steps[\"acp\"].explained_variance_ratio_"
   ]
  },
  {
   "cell_type": "markdown",
   "metadata": {
    "slideshow": {
     "slide_type": "slide"
    }
   },
   "source": [
    "## Trouver la meilleure combinaison d’hyperparamètres dans un pipeline\n",
    "\n",
    "Essayons de trouver la meilleure combinaison d’hyperparamètres dans un pipeline.\n",
    "Dans le cadre de cet exemple, nous utiliserons les SVM (support vector machines,\n",
    "également appelés séparateurs à vaste marge ou machines à vecteurs de support).\n",
    "Ce sont des méthodes assez complexes dans leur principe mais simples dans leur\n",
    "mise en oeuvre.\n",
    "\n",
    "Les hyperparamètres d’un modèle de SVM sont assez nombreux. Les plus importants\n",
    "étant le noyau choisi (linéaire, polynomial, sigmoïd, RBF…), les paramètres de\n",
    "ces noyaux (le degré pour le cas polynomiale, gamma…) et le C pour la marge floue.\n",
    "\n",
    "Dans notre exemple, on utilisera la fonction make_pipeline qui est équivalente\n",
    "à la classe précédente avec quelques simplifications :"
   ]
  },
  {
   "cell_type": "code",
   "execution_count": 45,
   "metadata": {
    "slideshow": {
     "slide_type": "subslide"
    }
   },
   "outputs": [],
   "source": [
    "from sklearn.pipeline import make_pipeline\n",
    "from sklearn.svm import SVC\n",
    "from sklearn.decomposition import PCA\n",
    "from sklearn.model_selection import GridSearchCV\n",
    "\n",
    "# construction du pipeline basé sur deux approches\n",
    "mon_pipe=make_pipeline(PCA(), SVC(probability=True))\n",
    "\n",
    "# construction du dictionnaire des paramètres\n",
    "# (attention utilisation de __)\n",
    "param_grid = dict(pca__n_components=[5, 10, x_train.shape[1]],\n",
    "                  svc__C= [1, 10, 100, 1000],\n",
    "                  svc__kernel= ['sigmoid', 'rbf'],\n",
    "                  svc__gamma= [0.001, 0.0001])\n",
    "\n",
    "# on construit l’objet GridSearch et on estime les hyper-paramètres\n",
    "# par validation croisée\n",
    "grid_search_mon_pipe = GridSearchCV(mon_pipe, param_grid = param_grid, scoring = \"roc_auc\", cv = 4)"
   ]
  },
  {
   "cell_type": "code",
   "execution_count": 46,
   "metadata": {
    "slideshow": {
     "slide_type": "fragment"
    }
   },
   "outputs": [],
   "source": [
    "grid_search_mon_pipe.fit(x_train,y_train)\n",
    "pass"
   ]
  },
  {
   "cell_type": "code",
   "execution_count": 47,
   "metadata": {
    "slideshow": {
     "slide_type": "subslide"
    }
   },
   "outputs": [
    {
     "data": {
      "text/plain": [
       "{'pca__n_components': 14,\n",
       " 'svc__C': 10,\n",
       " 'svc__gamma': 0.0001,\n",
       " 'svc__kernel': 'rbf'}"
      ]
     },
     "execution_count": 47,
     "metadata": {},
     "output_type": "execute_result"
    }
   ],
   "source": [
    "# la meilleure combinaisons de paramètres est :\n",
    "grid_search_mon_pipe.best_params_"
   ]
  },
  {
   "cell_type": "code",
   "execution_count": 48,
   "metadata": {
    "slideshow": {
     "slide_type": "fragment"
    }
   },
   "outputs": [
    {
     "data": {
      "text/plain": [
       "0.7891426063382316"
      ]
     },
     "execution_count": 48,
     "metadata": {},
     "output_type": "execute_result"
    }
   ],
   "source": [
    "grid_search_mon_pipe.best_score_"
   ]
  },
  {
   "cell_type": "markdown",
   "metadata": {
    "slideshow": {
     "slide_type": "fragment"
    }
   },
   "source": [
    "Les meilleurs hyperparamètres obtenus en utilisant l’aire sous la courbe ROC sont\n",
    "la combinaison C = 10, gamma = 0.0001, un noyau RBF pour les SVM et dix composantes\n",
    "pour notre analyse en composantes principales.\n",
    "\n",
    "Dans ce code, on définit les hyperparamètres associés à une méthode du pipeline\n",
    "avec un double underscore : __.\n",
    "\n",
    "L’utilisation des pipelines de Scikit-Learn va devenir rapidement une étape cruciale\n",
    "de vos développements en Python."
   ]
  },
  {
   "cell_type": "markdown",
   "metadata": {
    "slideshow": {
     "slide_type": "slide"
    }
   },
   "source": [
    "## Passer en production votre modèle d’apprentissage supervisé\n",
    "\n",
    "### Persistance de modèle avec Scikit-Learn\n",
    "\n",
    "Python possède plusieurs outils pour la persistance d’objets, c’est-à-dire pour stocker\n",
    "des objets dans des fichiers. Les objets de Scikit-Learn sont aussi dans cette\n",
    "situation. On utilise un format pickle qui aura l’extension .pkl.\n",
    "\n",
    "Par exemple, si nous voulons sauvegarder le dernier pipeline de traitement, nous\n",
    "allons utiliser :"
   ]
  },
  {
   "cell_type": "code",
   "execution_count": 49,
   "metadata": {
    "slideshow": {
     "slide_type": "fragment"
    }
   },
   "outputs": [
    {
     "name": "stderr",
     "output_type": "stream",
     "text": [
      "C:\\Users\\s4d-asus-14\\Anaconda3\\lib\\site-packages\\sklearn\\externals\\joblib\\__init__.py:15: DeprecationWarning: sklearn.externals.joblib is deprecated in 0.21 and will be removed in 0.23. Please import this functionality directly from joblib, which can be installed with: pip install joblib. If this warning is raised when loading pickled models, you may need to re-serialize those models with scikit-learn 0.21+.\n",
      "  warnings.warn(msg, category=DeprecationWarning)\n"
     ]
    },
    {
     "data": {
      "text/plain": [
       "['./data/modele_pipe2.pkl']"
      ]
     },
     "execution_count": 49,
     "metadata": {},
     "output_type": "execute_result"
    }
   ],
   "source": [
    "from sklearn.externals import joblib\n",
    "joblib.dump(pipe2, './data/modele_pipe2.pkl')"
   ]
  },
  {
   "cell_type": "markdown",
   "metadata": {
    "slideshow": {
     "slide_type": "subslide"
    }
   },
   "source": [
    "Une fois ce modèle stocké, on peut très bien le réutiliser dans un autre cadre. Si\n",
    "nous créons un nouveau notebook, nous allons utiliser :\n",
    "\n"
   ]
  },
  {
   "cell_type": "code",
   "execution_count": 51,
   "metadata": {
    "slideshow": {
     "slide_type": "fragment"
    }
   },
   "outputs": [],
   "source": [
    "from sklearn.externals import joblib\n",
    "#grid_search_mon_pipe = joblib.load('./data/modele_grid_pipe.pkl')"
   ]
  },
  {
   "cell_type": "markdown",
   "metadata": {
    "slideshow": {
     "slide_type": "fragment"
    }
   },
   "source": [
    "On peut ensuite appliquer le modèle avec tous les paramètres qui ont été appris :\n"
   ]
  },
  {
   "cell_type": "markdown",
   "metadata": {
    "slideshow": {
     "slide_type": "fragment"
    }
   },
   "source": [
    "```python\n",
    "grid_search_mon_pipe.predict(x_test)\n",
    "```"
   ]
  },
  {
   "cell_type": "markdown",
   "metadata": {
    "slideshow": {
     "slide_type": "fragment"
    }
   },
   "source": [
    "L’utilisation d’un fichier Pickle dans un notebook est une technique assez simple et courante."
   ]
  }
 ],
 "metadata": {
  "celltoolbar": "Diaporama",
  "kernelspec": {
   "display_name": "Python 3",
   "language": "python",
   "name": "python3"
  },
  "language_info": {
   "codemirror_mode": {
    "name": "ipython",
    "version": 3
   },
   "file_extension": ".py",
   "mimetype": "text/x-python",
   "name": "python",
   "nbconvert_exporter": "python",
   "pygments_lexer": "ipython3",
   "version": "3.6.8"
  }
 },
 "nbformat": 4,
 "nbformat_minor": 2
}
