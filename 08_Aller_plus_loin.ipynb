{
 "cells": [
  {
   "cell_type": "markdown",
   "metadata": {
    "slideshow": {
     "slide_type": "slide"
    }
   },
   "source": [
    "# Aller plus loin\n",
    "\n",
    "- NLP - traitement de données textuelles\n",
    "\n",
    "- Deep Learning - traitement d'images\n",
    "\n",
    "- Autres"
   ]
  },
  {
   "cell_type": "markdown",
   "metadata": {
    "slideshow": {
     "slide_type": "slide"
    }
   },
   "source": [
    "# Le traitement des données textuelles\n",
    "\n",
    "- Python propose des outils très avancés pour l’analyse des données textuelles\n",
    "\n",
    "\n",
    "- Le package le plus connu est : **nltk** (natural language toolkit)\n",
    "\n",
    "- Ce package, couplée aux outils de python pour le traitement des chaînes de caractères permet de travailler sur le langage\n",
    "\n",
    "- Ce package comprend de très nombreuses fonctions permettant de transformer des données textuelles et d’en extraire de l’information\n",
    "\n",
    "Voir NOTEBOOK (08a) (On va analyser des données d’un dataset connu\n",
    "Les données SMS Spam et les données des messages d’Hilary Clinton)"
   ]
  },
  {
   "cell_type": "markdown",
   "metadata": {
    "slideshow": {
     "slide_type": "slide"
    }
   },
   "source": [
    "# Le deep learning\n",
    "\n",
    "- Le deep learning est une sous-catégorie du machine learning\n",
    "\n",
    "\n",
    "- Il s’agit de méthodes avancées pour faire de l’apprentissage\n",
    "\n",
    "\n",
    "- Nous allons créer notre premier réseau de neurones convolutionnel avec python\n",
    "    - Nous utilisons tensor-flow et keras\n",
    "    - Tensor-flow est un package de modèle de deep learning développé initialement par Google et ayant une API en python\n",
    "    - Le deep learning demande de très grandes quantités de calcul, on utilise souvent du GPU pour ce type de modèles\n",
    "\n",
    "Voir NOTEBOOK (08b)"
   ]
  },
  {
   "cell_type": "markdown",
   "metadata": {
    "slideshow": {
     "slide_type": "slide"
    }
   },
   "source": [
    "# Le big data\n",
    "\n",
    "Python permet de travailler sur des environnements Big Data en utilisant différentes approches :\n",
    "\n",
    "- En utilisant du MapReduce sur Hadoop\n",
    "\n",
    "\n",
    "- En utilisant `pyspark` pour travailler dans l’environnement Apache Spark\n",
    "\n",
    "\n",
    "- En utilisant d’autres packages pour faire du Hive par exemple (`pyHive`,`pyarrow`...) \n",
    "\n",
    "\n",
    "On peut facilement tester ces approches en utilisant une VM sur laquelle un bac à sable big data peut être installé\n"
   ]
  },
  {
   "cell_type": "markdown",
   "metadata": {
    "slideshow": {
     "slide_type": "slide"
    }
   },
   "source": [
    "# Récupérer des données sur le web\n",
    "\n",
    "**Attention :** récupérer des données d’un site doit respecter les termes et conditions\n",
    "\n",
    "- Il faut faire attention à ne pas surcharger le site\n",
    "- Il faut bien souvent nettoyer les données (et c’est la plus compliqué)\n",
    "- On peut utiliser : \n",
    "    - BeautifulSoup\n",
    "    - lxml\n",
    "    - requests\n",
    "    - ..."
   ]
  },
  {
   "cell_type": "markdown",
   "metadata": {
    "slideshow": {
     "slide_type": "slide"
    }
   },
   "source": [
    "# Vous voulez aller plus loin\n",
    "\n",
    "- La documentation Python <https://www.python.org/doc/>\n",
    "- La documentation Anaconda <https://www.continuum.io/documentation>\n",
    "- La documentation NumPy <https://docs.scipy.org/doc/>\n",
    "- La documentation Pandas <https://pandas.pydata.org/pandas-docs/stable/>\n",
    "- La documentation matplotlib <http://matplotlib.org/contents.html>\n",
    "- La documentation seaborn <http://stanford.edu/~mwaskom/software/seaborn/index.html>\n",
    "- La documentation de SciKit-Learn <http://scikit-learn.org/stable/documentation.html> \n",
    "- Stack Overflow pour des réponses à toutes vos questions <http://stackoverflow.com/ \n",
    "\n",
    "Et tous le web qui fourmille d’exemples et de réponses à vos questions\n"
   ]
  }
 ],
 "metadata": {
  "celltoolbar": "Slideshow",
  "kernelspec": {
   "display_name": "Python 3",
   "language": "python",
   "name": "python3"
  },
  "language_info": {
   "codemirror_mode": {
    "name": "ipython",
    "version": 3
   },
   "file_extension": ".py",
   "mimetype": "text/x-python",
   "name": "python",
   "nbconvert_exporter": "python",
   "pygments_lexer": "ipython3",
   "version": "3.6.5"
  }
 },
 "nbformat": 4,
 "nbformat_minor": 2
}
