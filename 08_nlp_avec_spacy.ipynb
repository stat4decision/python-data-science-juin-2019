{
 "cells": [
  {
   "cell_type": "markdown",
   "metadata": {
    "_uuid": "0e7f1eca6087c4c45c31bc6045dea57a3f37b89f"
   },
   "source": [
    "# SpaCy\n",
    "\n",
    "SpaCy est une alternative à NLTK. "
   ]
  },
  {
   "cell_type": "code",
   "execution_count": 3,
   "metadata": {
    "_cell_guid": "b1076dfc-b9ad-4769-8c92-a6c4dae69d19",
    "_uuid": "8f2839f25d086af736a60e9eeb907d3b93b6e0e5"
   },
   "outputs": [
    {
     "data": {
      "text/html": [
       "<script>requirejs.config({paths: { 'plotly': ['https://cdn.plot.ly/plotly-latest.min']},});if(!window.Plotly) {{require(['plotly'],function(plotly) {window.Plotly=plotly;});}}</script>"
      ],
      "text/vnd.plotly.v1+html": [
       "<script>requirejs.config({paths: { 'plotly': ['https://cdn.plot.ly/plotly-latest.min']},});if(!window.Plotly) {{require(['plotly'],function(plotly) {window.Plotly=plotly;});}}</script>"
      ]
     },
     "metadata": {},
     "output_type": "display_data"
    }
   ],
   "source": [
    "import numpy as np\n",
    "import pandas as pd\n",
    "# pour ajouter des barres de progression sur les boucles\n",
    "from tqdm import tqdm\n",
    "\n",
    "import string\n",
    "import matplotlib.pyplot as plt\n",
    "\n",
    "from sklearn.decomposition import NMF, LatentDirichletAllocation, TruncatedSVD\n",
    "from sklearn.feature_extraction.text import CountVectorizer\n",
    "from sklearn.manifold import TSNE\n",
    "\n",
    "import concurrent.futures\n",
    "import time\n",
    "# des représentation graphiques\n",
    "import pyLDAvis.sklearn\n",
    "\n",
    "from pylab import bone, pcolor, colorbar, plot, show, rcParams, savefig\n",
    "import warnings\n",
    "warnings.filterwarnings('ignore')\n",
    "\n",
    "%matplotlib inline\n",
    "import os\n",
    "#print(os.listdir(\"../input\"))\n",
    "\n",
    "# Dataviz avec plotly\n",
    "from plotly import tools\n",
    "import plotly.plotly as py\n",
    "from plotly.offline import init_notebook_mode, iplot\n",
    "init_notebook_mode(connected=True)\n",
    "import plotly.graph_objs as go\n",
    "import plotly.figure_factory as ff\n",
    "\n",
    "# import liés à spaCy\n",
    "import spacy\n",
    "from spacy.lang.en.stop_words import STOP_WORDS\n",
    "from spacy.lang.en import English"
   ]
  },
  {
   "cell_type": "code",
   "execution_count": 8,
   "metadata": {},
   "outputs": [],
   "source": [
    "# installation de en_core_web_lg\n",
    "# English multi-task CNN trained on OntoNotes, with GloVe vectors trained on Common Crawl. \n",
    "# Assigns word vectors, context-specific token vectors, POS tags, dependency parse and named entities.\n",
    "#!python -m spacy download en_core_web_lg"
   ]
  },
  {
   "cell_type": "code",
   "execution_count": 4,
   "metadata": {
    "_uuid": "d57d08400a530b786ad3226110e34aefb85e94b1",
    "scrolled": true
   },
   "outputs": [
    {
     "data": {
      "text/html": [
       "<div>\n",
       "<style scoped>\n",
       "    .dataframe tbody tr th:only-of-type {\n",
       "        vertical-align: middle;\n",
       "    }\n",
       "\n",
       "    .dataframe tbody tr th {\n",
       "        vertical-align: top;\n",
       "    }\n",
       "\n",
       "    .dataframe thead th {\n",
       "        text-align: right;\n",
       "    }\n",
       "</style>\n",
       "<table border=\"1\" class=\"dataframe\">\n",
       "  <thead>\n",
       "    <tr style=\"text-align: right;\">\n",
       "      <th></th>\n",
       "      <th>Unnamed: 0</th>\n",
       "      <th>country</th>\n",
       "      <th>description</th>\n",
       "      <th>designation</th>\n",
       "      <th>points</th>\n",
       "      <th>price</th>\n",
       "      <th>province</th>\n",
       "      <th>region_1</th>\n",
       "      <th>region_2</th>\n",
       "      <th>variety</th>\n",
       "      <th>winery</th>\n",
       "    </tr>\n",
       "  </thead>\n",
       "  <tbody>\n",
       "    <tr>\n",
       "      <th>0</th>\n",
       "      <td>0</td>\n",
       "      <td>US</td>\n",
       "      <td>This tremendous 100% varietal wine hails from ...</td>\n",
       "      <td>Martha's Vineyard</td>\n",
       "      <td>96</td>\n",
       "      <td>235.0</td>\n",
       "      <td>California</td>\n",
       "      <td>Napa Valley</td>\n",
       "      <td>Napa</td>\n",
       "      <td>Cabernet Sauvignon</td>\n",
       "      <td>Heitz</td>\n",
       "    </tr>\n",
       "    <tr>\n",
       "      <th>1</th>\n",
       "      <td>1</td>\n",
       "      <td>Spain</td>\n",
       "      <td>Ripe aromas of fig, blackberry and cassis are ...</td>\n",
       "      <td>Carodorum Selección Especial Reserva</td>\n",
       "      <td>96</td>\n",
       "      <td>110.0</td>\n",
       "      <td>Northern Spain</td>\n",
       "      <td>Toro</td>\n",
       "      <td>NaN</td>\n",
       "      <td>Tinta de Toro</td>\n",
       "      <td>Bodega Carmen Rodríguez</td>\n",
       "    </tr>\n",
       "    <tr>\n",
       "      <th>2</th>\n",
       "      <td>2</td>\n",
       "      <td>US</td>\n",
       "      <td>Mac Watson honors the memory of a wine once ma...</td>\n",
       "      <td>Special Selected Late Harvest</td>\n",
       "      <td>96</td>\n",
       "      <td>90.0</td>\n",
       "      <td>California</td>\n",
       "      <td>Knights Valley</td>\n",
       "      <td>Sonoma</td>\n",
       "      <td>Sauvignon Blanc</td>\n",
       "      <td>Macauley</td>\n",
       "    </tr>\n",
       "    <tr>\n",
       "      <th>3</th>\n",
       "      <td>3</td>\n",
       "      <td>US</td>\n",
       "      <td>This spent 20 months in 30% new French oak, an...</td>\n",
       "      <td>Reserve</td>\n",
       "      <td>96</td>\n",
       "      <td>65.0</td>\n",
       "      <td>Oregon</td>\n",
       "      <td>Willamette Valley</td>\n",
       "      <td>Willamette Valley</td>\n",
       "      <td>Pinot Noir</td>\n",
       "      <td>Ponzi</td>\n",
       "    </tr>\n",
       "    <tr>\n",
       "      <th>4</th>\n",
       "      <td>4</td>\n",
       "      <td>France</td>\n",
       "      <td>This is the top wine from La Bégude, named aft...</td>\n",
       "      <td>La Brûlade</td>\n",
       "      <td>95</td>\n",
       "      <td>66.0</td>\n",
       "      <td>Provence</td>\n",
       "      <td>Bandol</td>\n",
       "      <td>NaN</td>\n",
       "      <td>Provence red blend</td>\n",
       "      <td>Domaine de la Bégude</td>\n",
       "    </tr>\n",
       "  </tbody>\n",
       "</table>\n",
       "</div>"
      ],
      "text/plain": [
       "   Unnamed: 0 country                                        description  \\\n",
       "0           0      US  This tremendous 100% varietal wine hails from ...   \n",
       "1           1   Spain  Ripe aromas of fig, blackberry and cassis are ...   \n",
       "2           2      US  Mac Watson honors the memory of a wine once ma...   \n",
       "3           3      US  This spent 20 months in 30% new French oak, an...   \n",
       "4           4  France  This is the top wine from La Bégude, named aft...   \n",
       "\n",
       "                            designation  points  price        province  \\\n",
       "0                     Martha's Vineyard      96  235.0      California   \n",
       "1  Carodorum Selección Especial Reserva      96  110.0  Northern Spain   \n",
       "2         Special Selected Late Harvest      96   90.0      California   \n",
       "3                               Reserve      96   65.0          Oregon   \n",
       "4                            La Brûlade      95   66.0        Provence   \n",
       "\n",
       "            region_1           region_2             variety  \\\n",
       "0        Napa Valley               Napa  Cabernet Sauvignon   \n",
       "1               Toro                NaN       Tinta de Toro   \n",
       "2     Knights Valley             Sonoma     Sauvignon Blanc   \n",
       "3  Willamette Valley  Willamette Valley          Pinot Noir   \n",
       "4             Bandol                NaN  Provence red blend   \n",
       "\n",
       "                    winery  \n",
       "0                    Heitz  \n",
       "1  Bodega Carmen Rodríguez  \n",
       "2                 Macauley  \n",
       "3                    Ponzi  \n",
       "4     Domaine de la Bégude  "
      ]
     },
     "execution_count": 4,
     "metadata": {},
     "output_type": "execute_result"
    }
   ],
   "source": [
    "# chargement des données\n",
    "wines = pd.read_csv('./data/winemag-data_first150k.csv.zip')\n",
    "wines.head()"
   ]
  },
  {
   "cell_type": "code",
   "execution_count": 15,
   "metadata": {},
   "outputs": [
    {
     "data": {
      "text/plain": [
       "(150930, 11)"
      ]
     },
     "execution_count": 15,
     "metadata": {},
     "output_type": "execute_result"
    }
   ],
   "source": [
    "wines.shape"
   ]
  },
  {
   "cell_type": "code",
   "execution_count": 5,
   "metadata": {
    "_uuid": "17fe81e7e90dfb32681f56a03b9136bbb74343b8"
   },
   "outputs": [],
   "source": [
    "# création d'un objet SpaCy\n",
    "nlp = spacy.load('en_core_web_lg')"
   ]
  },
  {
   "cell_type": "markdown",
   "metadata": {},
   "source": [
    "### Reconnaissance d'entités nommées\n",
    "\n",
    "La reconnaissance d'entités nommées est une tâche d'extraction d'informations dans laquelle des entités nommées dans des phrases non structurées \n",
    "sont localisées et classées dans des catégories prédéfinies telles que les noms de personnes, les organisations, les lieux, les codes médicaux, \n",
    "les expressions de temps, les quantités, les valeurs monétaires, les pourcentages, etc."
   ]
  },
  {
   "cell_type": "code",
   "execution_count": 22,
   "metadata": {
    "_uuid": "677e753450ddea24b1289e3033a2f7928710ef25"
   },
   "outputs": [
    {
     "data": {
      "text/html": [
       "<div class=\"entities\" style=\"line-height: 2.5\">This spent \n",
       "<mark class=\"entity\" style=\"background: #bfe1d9; padding: 0.45em 0.6em; margin: 0 0.25em; line-height: 1; border-radius: 0.35em; box-decoration-break: clone; -webkit-box-decoration-break: clone\">\n",
       "    20 months\n",
       "    <span style=\"font-size: 0.8em; font-weight: bold; line-height: 1; border-radius: 0.35em; text-transform: uppercase; vertical-align: middle; margin-left: 0.5rem\">DATE</span>\n",
       "</mark>\n",
       " in \n",
       "<mark class=\"entity\" style=\"background: #e4e7d2; padding: 0.45em 0.6em; margin: 0 0.25em; line-height: 1; border-radius: 0.35em; box-decoration-break: clone; -webkit-box-decoration-break: clone\">\n",
       "    30%\n",
       "    <span style=\"font-size: 0.8em; font-weight: bold; line-height: 1; border-radius: 0.35em; text-transform: uppercase; vertical-align: middle; margin-left: 0.5rem\">PERCENT</span>\n",
       "</mark>\n",
       " new \n",
       "<mark class=\"entity\" style=\"background: #c887fb; padding: 0.45em 0.6em; margin: 0 0.25em; line-height: 1; border-radius: 0.35em; box-decoration-break: clone; -webkit-box-decoration-break: clone\">\n",
       "    French\n",
       "    <span style=\"font-size: 0.8em; font-weight: bold; line-height: 1; border-radius: 0.35em; text-transform: uppercase; vertical-align: middle; margin-left: 0.5rem\">NORP</span>\n",
       "</mark>\n",
       " oak, and incorporates fruit from \n",
       "<mark class=\"entity\" style=\"background: #7aecec; padding: 0.45em 0.6em; margin: 0 0.25em; line-height: 1; border-radius: 0.35em; box-decoration-break: clone; -webkit-box-decoration-break: clone\">\n",
       "    Ponzi\n",
       "    <span style=\"font-size: 0.8em; font-weight: bold; line-height: 1; border-radius: 0.35em; text-transform: uppercase; vertical-align: middle; margin-left: 0.5rem\">ORG</span>\n",
       "</mark>\n",
       "'s \n",
       "<mark class=\"entity\" style=\"background: #aa9cfc; padding: 0.45em 0.6em; margin: 0 0.25em; line-height: 1; border-radius: 0.35em; box-decoration-break: clone; -webkit-box-decoration-break: clone\">\n",
       "    Aurora\n",
       "    <span style=\"font-size: 0.8em; font-weight: bold; line-height: 1; border-radius: 0.35em; text-transform: uppercase; vertical-align: middle; margin-left: 0.5rem\">PERSON</span>\n",
       "</mark>\n",
       ", \n",
       "<mark class=\"entity\" style=\"background: #feca74; padding: 0.45em 0.6em; margin: 0 0.25em; line-height: 1; border-radius: 0.35em; box-decoration-break: clone; -webkit-box-decoration-break: clone\">\n",
       "    Abetina\n",
       "    <span style=\"font-size: 0.8em; font-weight: bold; line-height: 1; border-radius: 0.35em; text-transform: uppercase; vertical-align: middle; margin-left: 0.5rem\">GPE</span>\n",
       "</mark>\n",
       " and \n",
       "<mark class=\"entity\" style=\"background: #7aecec; padding: 0.45em 0.6em; margin: 0 0.25em; line-height: 1; border-radius: 0.35em; box-decoration-break: clone; -webkit-box-decoration-break: clone\">\n",
       "    Madrona vineyards\n",
       "    <span style=\"font-size: 0.8em; font-weight: bold; line-height: 1; border-radius: 0.35em; text-transform: uppercase; vertical-align: middle; margin-left: 0.5rem\">ORG</span>\n",
       "</mark>\n",
       ", among others. Aromatic, dense and toasty, it deftly blends aromas and flavors of toast, cigar box, blackberry, black cherry, coffee and graphite. Tannins are polished to a fine sheen, and frame a finish loaded with dark chocolate and espresso. Drink now through \n",
       "<mark class=\"entity\" style=\"background: #bfe1d9; padding: 0.45em 0.6em; margin: 0 0.25em; line-height: 1; border-radius: 0.35em; box-decoration-break: clone; -webkit-box-decoration-break: clone\">\n",
       "    2032\n",
       "    <span style=\"font-size: 0.8em; font-weight: bold; line-height: 1; border-radius: 0.35em; text-transform: uppercase; vertical-align: middle; margin-left: 0.5rem\">DATE</span>\n",
       "</mark>\n",
       ".</div>"
      ],
      "text/plain": [
       "<IPython.core.display.HTML object>"
      ]
     },
     "metadata": {},
     "output_type": "display_data"
    }
   ],
   "source": [
    "doc = nlp(wines[\"description\"][3])\n",
    "spacy.displacy.render(doc, style='ent',jupyter=True)"
   ]
  },
  {
   "cell_type": "code",
   "execution_count": 23,
   "metadata": {
    "_uuid": "3e004fb15995ec7723ca12ad54baf98029ecf90e"
   },
   "outputs": [],
   "source": [
    "punctuations = string.punctuation\n",
    "stopwords = list(STOP_WORDS)"
   ]
  },
  {
   "cell_type": "code",
   "execution_count": null,
   "metadata": {},
   "outputs": [],
   "source": []
  },
  {
   "cell_type": "markdown",
   "metadata": {},
   "source": [
    "\n",
    "### Lemmatisation\n",
    "C'est le processus de regroupement des formes infléchies d'un mot afin qu'elles puissent être analysées comme un seul élément. \n",
    "\n",
    "Des mots tels que \"run\" et \"running\" sont convertis en \"run\" pour éviter que des mots ayant des significations similaires dans nos données."
   ]
  },
  {
   "cell_type": "code",
   "execution_count": 8,
   "metadata": {
    "_uuid": "b5c09cd0724ac75d603b3e1be1afb006249eadc4"
   },
   "outputs": [],
   "source": [
    "review = str(\" \".join([i.lemma_ for i in doc]))"
   ]
  },
  {
   "cell_type": "code",
   "execution_count": 13,
   "metadata": {
    "_uuid": "868105f99baf2742713656a089ad5b38f80d8329"
   },
   "outputs": [
    {
     "data": {
      "text/html": [
       "<div class=\"entities\" style=\"line-height: 2.5\">this spend \n",
       "<mark class=\"entity\" style=\"background: #bfe1d9; padding: 0.45em 0.6em; margin: 0 0.25em; line-height: 1; border-radius: 0.35em; box-decoration-break: clone; -webkit-box-decoration-break: clone\">\n",
       "    20 month\n",
       "    <span style=\"font-size: 0.8em; font-weight: bold; line-height: 1; border-radius: 0.35em; text-transform: uppercase; vertical-align: middle; margin-left: 0.5rem\">DATE</span>\n",
       "</mark>\n",
       " in \n",
       "<mark class=\"entity\" style=\"background: #e4e7d2; padding: 0.45em 0.6em; margin: 0 0.25em; line-height: 1; border-radius: 0.35em; box-decoration-break: clone; -webkit-box-decoration-break: clone\">\n",
       "    30 %\n",
       "    <span style=\"font-size: 0.8em; font-weight: bold; line-height: 1; border-radius: 0.35em; text-transform: uppercase; vertical-align: middle; margin-left: 0.5rem\">PERCENT</span>\n",
       "</mark>\n",
       " new french oak , and incorporate fruit from ponzi 's aurora , abetina and madrona vineyard , among other . aromatic , dense and toasty , -PRON- deftly blend aroma and flavor of toast , cigar box , blackberry , black cherry , coffee and graphite . tannin be polish to a fine sheen , and frame a finish load with dark chocolate and espresso . drink now through \n",
       "<mark class=\"entity\" style=\"background: #bfe1d9; padding: 0.45em 0.6em; margin: 0 0.25em; line-height: 1; border-radius: 0.35em; box-decoration-break: clone; -webkit-box-decoration-break: clone\">\n",
       "    2032\n",
       "    <span style=\"font-size: 0.8em; font-weight: bold; line-height: 1; border-radius: 0.35em; text-transform: uppercase; vertical-align: middle; margin-left: 0.5rem\">DATE</span>\n",
       "</mark>\n",
       " .</div>"
      ],
      "text/plain": [
       "<IPython.core.display.HTML object>"
      ]
     },
     "metadata": {},
     "output_type": "display_data"
    }
   ],
   "source": [
    "doc = nlp(review)\n",
    "spacy.displacy.render(doc, style='ent',jupyter=True)"
   ]
  },
  {
   "cell_type": "markdown",
   "metadata": {},
   "source": [
    "\n",
    "### Balisage (Parts of Speech tagging)\n",
    "C'est le processus qui consiste à marquer un mot dans un texte (corpus) comme correspondant à une partie particulière du discours, en fonction à la fois de sa définition et de son contexte, c’est-à-dire de sa relation avec les mots adjacents et liés dans une phrase, une phrase. , ou paragraphe. \n",
    "\n",
    "Une forme simplifiée de ceci est couramment enseignée aux enfants d’âge scolaire, dans l’identification des mots en tant que noms, verbes, adjectifs, adverbes, etc."
   ]
  },
  {
   "cell_type": "code",
   "execution_count": 14,
   "metadata": {
    "_uuid": "a8ed2a71e2d90ad317e7b0d69d0e6544ff19f17c"
   },
   "outputs": [
    {
     "name": "stdout",
     "output_type": "stream",
     "text": [
      "this => DET\n",
      "spend => NOUN\n",
      "20 => NUM\n",
      "month => NOUN\n",
      "in => ADP\n",
      "30 => NUM\n",
      "% => NOUN\n",
      "new => ADJ\n",
      "french => ADJ\n",
      "oak => NOUN\n",
      ", => PUNCT\n",
      "and => CCONJ\n",
      "incorporate => VERB\n",
      "fruit => NOUN\n",
      "from => ADP\n",
      "ponzi => NOUN\n",
      "'s => PART\n",
      "aurora => NOUN\n",
      ", => PUNCT\n",
      "abetina => ADJ\n",
      "and => CCONJ\n",
      "madrona => NOUN\n",
      "vineyard => NOUN\n",
      ", => PUNCT\n",
      "among => ADP\n",
      "other => ADJ\n",
      ". => PUNCT\n",
      "aromatic => ADJ\n",
      ", => PUNCT\n",
      "dense => ADJ\n",
      "and => CCONJ\n",
      "toasty => ADJ\n",
      ", => PUNCT\n",
      "-PRON- => PUNCT\n",
      "deftly => ADV\n",
      "blend => VERB\n",
      "aroma => NOUN\n",
      "and => CCONJ\n",
      "flavor => NOUN\n",
      "of => ADP\n",
      "toast => NOUN\n",
      ", => PUNCT\n",
      "cigar => NOUN\n",
      "box => NOUN\n",
      ", => PUNCT\n",
      "blackberry => NOUN\n",
      ", => PUNCT\n",
      "black => ADJ\n",
      "cherry => NOUN\n",
      ", => PUNCT\n",
      "coffee => NOUN\n",
      "and => CCONJ\n",
      "graphite => NOUN\n",
      ". => PUNCT\n",
      "tannin => NOUN\n",
      "be => VERB\n",
      "polish => NOUN\n",
      "to => ADP\n",
      "a => DET\n",
      "fine => ADJ\n",
      "sheen => NOUN\n",
      ", => PUNCT\n",
      "and => CCONJ\n",
      "frame => VERB\n",
      "a => DET\n",
      "finish => NOUN\n",
      "load => NOUN\n",
      "with => ADP\n",
      "dark => ADJ\n",
      "chocolate => NOUN\n",
      "and => CCONJ\n",
      "espresso => NOUN\n",
      ". => PUNCT\n",
      "drink => VERB\n",
      "now => ADV\n",
      "through => ADP\n",
      "2032 => NUM\n",
      ". => PUNCT\n"
     ]
    }
   ],
   "source": [
    "# POS tagging\n",
    "for i in nlp(review):\n",
    "    print(i,\"=>\",i.pos_)"
   ]
  },
  {
   "cell_type": "code",
   "execution_count": 26,
   "metadata": {
    "_uuid": "ee0b36f52b552dd72c5fda7808d41db5749491cf"
   },
   "outputs": [],
   "source": [
    "# Parser for reviews\n",
    "parser = English()\n",
    "def spacy_tokenizer(sentence):\n",
    "    mytokens = parser(sentence)\n",
    "    mytokens = [ word.lemma_.lower().strip() if word.lemma_ != \"-PRON-\" else word.lower_ for word in mytokens ]\n",
    "    mytokens = [ word for word in mytokens if word not in stopwords and word not in punctuations ]\n",
    "    mytokens = \" \".join([i for i in mytokens])\n",
    "    return mytokens"
   ]
  },
  {
   "cell_type": "code",
   "execution_count": 27,
   "metadata": {
    "_uuid": "d1207bc8f6ca068de633cd8d68d1424877baf85a"
   },
   "outputs": [
    {
     "name": "stderr",
     "output_type": "stream",
     "text": [
      "100%|███████████████████████████████████████████████| 150930/150930 [03:00<00:00, 836.20it/s]\n"
     ]
    }
   ],
   "source": [
    "tqdm.pandas()\n",
    "wines[\"processed_description\"] = wines[\"description\"].progress_apply(spacy_tokenizer)"
   ]
  },
  {
   "cell_type": "code",
   "execution_count": 28,
   "metadata": {},
   "outputs": [
    {
     "data": {
      "text/plain": [
       "0         tremendous 100 varietal wine hail oakville age...\n",
       "1         ripe aroma fig blackberry cassis soften sweete...\n",
       "2         mac watson honor memory wine mother tremendous...\n",
       "3         spend 20 month 30 new french oak incorporate f...\n",
       "4         wine la bégude high point vineyard 1200 foot s...\n",
       "5         deep dense pure open bell toro winner aromas d...\n",
       "6         slightly gritty black fruit aroma include swee...\n",
       "7         lush cedary black fruit aroma luxe offer note ...\n",
       "8         vineyard bottle delancellotti find strike mine...\n",
       "9         producer source block vineyard wine — high ele...\n",
       "10        elegance complexity structure come drop dead g...\n",
       "11        18-year old vine supple good balance effort bl...\n",
       "12        standout terrific lineup 2015 release patricia...\n",
       "13        wine peak condition tannin secondary flavor do...\n",
       "14        sophisticate mix mineral acid tart fruit seduc...\n",
       "15        2006 succulent luscious chardonnay minerality ...\n",
       "16        blockbuster powerhouse wine suggest blueberry ...\n",
       "17        nicely oaked blackberry licorice vanilla char ...\n",
       "18        coming seven acre vineyard dovecote property m...\n",
       "19        fresh lively medium bodied wine beautifully cr...\n",
       "20        heitz stellar rosé rare grignolino grape 1961 ...\n",
       "21        alluring complex powerful aroma grill meat ber...\n",
       "22        tarry blackberry cheesy oak aroma appropriate ...\n",
       "23        apogee ambitious winery white wine effort bott...\n",
       "24        san jose base producer adam comartin head 1,10...\n",
       "25        yields 2015 intensity medium bodied silky wine...\n",
       "26        bergström shea designate 2003 intent showcase ...\n",
       "27        focused dense intense wine capture essence rip...\n",
       "28        cranberry bake rhubarb anise crush slate aroma...\n",
       "29        standout rocks district wine bring earth shake...\n",
       "                                ...                        \n",
       "150900    aromas freshly cut lumber complete hint burn s...\n",
       "150901    lavishly oaked fruit struggle acknowledge doe ...\n",
       "150902    medium weight chardonnay offer aroma overripe ...\n",
       "150903    light berry mint aroma open austere spin-dry c...\n",
       "150904    lot chilean cabernets distinct weediness perfe...\n",
       "150905    point reserve style wine barrel subpar aggress...\n",
       "150906    lovely wine monopole complex forward fruit fla...\n",
       "150907    rion hold new oak let pure supple fruit speak ...\n",
       "150908    premier cru michel gros elegant fruity réas in...\n",
       "150909    lovely fragrant burgundy smoky cherry scent no...\n",
       "150910    scents graham cracker malt milk chocolate tick...\n",
       "150911    need good bite breathe time begin reveal cherr...\n",
       "150912    nose dominate attractive scent new french oak ...\n",
       "150913    inky rustic refine manner knock juice like ’em...\n",
       "150914    old gold color thick syrupy aroma run caramel ...\n",
       "150915    decades ago beringer ’s winemaker myron nighti...\n",
       "150916    impressive wine present bouquet bready leesy t...\n",
       "150917    light elegant spicy lively wine gentle joy pre...\n",
       "150918    jacquart bodied ripe style champagne tiny effu...\n",
       "150919    classy example open floral nose flower shop ar...\n",
       "150920    rich mature aroma smoke earth herb announce su...\n",
       "150921    shows old note bouquet toast white bread cinna...\n",
       "150922    30-ish roberta borghese high manzano happen ch...\n",
       "150923    rich toasty tiny bubble bouquet lace honey van...\n",
       "150924    fine low acid vintage intrigue nose white pepp...\n",
       "150925    people feel fiano represent southern italy ’s ...\n",
       "150926    offers intrigue nose ginger lime floral elemen...\n",
       "150927    classic example come cru vineyard terre di dor...\n",
       "150928    perfect salmon shade scent peach cherry toast ...\n",
       "150929    pinot grigios taste like rich pear like nose f...\n",
       "Name: processed_description, Length: 150930, dtype: object"
      ]
     },
     "execution_count": 28,
     "metadata": {},
     "output_type": "execute_result"
    }
   ],
   "source": [
    "wines[\"processed_description\"]"
   ]
  },
  {
   "cell_type": "markdown",
   "metadata": {},
   "source": [
    "# Qu'est-ce que le  topic-modelling ?\n",
    "\n",
    "Dans l’apprentissage automatique et le traitement du langage naturel, un topic modeling est un type de modèle statistique permettant de découvrir les \"sujets\" abstraits qui apparaissent dans une collection de documents. \n",
    "\n",
    "La modélisation de sujets est un outil d'exploration de texte fréquemment utilisé pour la découverte de structures sémantiques cachées dans un corps de texte. \n",
    "\n",
    "Intuitivement, étant donné qu’un document porte sur un sujet particulier, on peut s’attendre à ce que des mots particuliers apparaissent plus ou moins fréquemment dans le document: \"chien\" et \"os\" apparaissent plus souvent dans les documents relatifs aux chiens, \"chat\" et \"miaou\" apparaîtra dans les documents sur les chats, et \"le\" et \"est\" apparaîtra également dans les deux. \n",
    "\n",
    "Un document concerne généralement plusieurs sujets dans des proportions différentes; ainsi, dans un document qui parle de 10% de chats et de 90% de chiens, il y aurait probablement environ 9 fois plus de mots de chien que de mots de chat.\n",
    "\n",
    "Les \"sujets\" produits par les techniques de modélisation de sujets sont des groupes de mots similaires. Un modèle de sujet capture cette intuition dans un cadre mathématique, ce qui permet d'examiner un ensemble de documents et de découvrir, sur la base de la statistique des mots de chaque mot, quels sont les sujets et quel est le solde des sujets de chaque document. Il implique diverses techniques de réduction de dimensionnalité (généralement non linéaire) et d’apprentissage non supervisé, telles que LDA, SVD, autoencodeurs, etc."
   ]
  },
  {
   "cell_type": "code",
   "execution_count": 29,
   "metadata": {
    "_uuid": "fd00ec3f6d99df6434671334c513511485de5a18"
   },
   "outputs": [],
   "source": [
    "# Creating a vectorizer\n",
    "vectorizer = CountVectorizer(min_df=5, max_df=0.9, stop_words='english', lowercase=True, token_pattern='[a-zA-Z\\-][a-zA-Z\\-]{2,}')\n",
    "data_vectorized = vectorizer.fit_transform(wines[\"processed_description\"])"
   ]
  },
  {
   "cell_type": "code",
   "execution_count": 30,
   "metadata": {
    "_uuid": "fc59a5306eb806598d98f79daabe0217897a5bbe"
   },
   "outputs": [],
   "source": [
    "NUM_TOPICS = 10"
   ]
  },
  {
   "cell_type": "code",
   "execution_count": 31,
   "metadata": {
    "_uuid": "2f0140ca0b3eb106edeee8afac1720e25eae5675"
   },
   "outputs": [
    {
     "name": "stdout",
     "output_type": "stream",
     "text": [
      "iteration: 1 of max_iter: 10\n",
      "iteration: 2 of max_iter: 10\n",
      "iteration: 3 of max_iter: 10\n",
      "iteration: 4 of max_iter: 10\n",
      "iteration: 5 of max_iter: 10\n",
      "iteration: 6 of max_iter: 10\n",
      "iteration: 7 of max_iter: 10\n",
      "iteration: 8 of max_iter: 10\n",
      "iteration: 9 of max_iter: 10\n",
      "iteration: 10 of max_iter: 10\n"
     ]
    }
   ],
   "source": [
    "# Latent Dirichlet Allocation Model\n",
    "lda = LatentDirichletAllocation(n_components=NUM_TOPICS, max_iter=10, learning_method='online',verbose=True)\n",
    "data_lda = lda.fit_transform(data_vectorized)"
   ]
  },
  {
   "cell_type": "code",
   "execution_count": 32,
   "metadata": {
    "_uuid": "822195007e669911dffd6162bfc09539f4dd70ee"
   },
   "outputs": [],
   "source": [
    "# Non-Negative Matrix Factorization Model\n",
    "nmf = NMF(n_components=NUM_TOPICS)\n",
    "data_nmf = nmf.fit_transform(data_vectorized) "
   ]
  },
  {
   "cell_type": "code",
   "execution_count": 24,
   "metadata": {
    "_uuid": "3c7c3e0f3e59c54f76fbfac0bc1085a81438b25b"
   },
   "outputs": [],
   "source": [
    "# Latent Semantic Indexing Model using Truncated SVD\n",
    "lsi = TruncatedSVD(n_components=NUM_TOPICS)\n",
    "data_lsi = lsi.fit_transform(data_vectorized)"
   ]
  },
  {
   "cell_type": "code",
   "execution_count": 25,
   "metadata": {
    "_uuid": "4965ca621bdd6abcf8dd4eb1a41699603cfa2284",
    "scrolled": false
   },
   "outputs": [],
   "source": [
    "# Functions for printing keywords for each topic\n",
    "def selected_topics(model, vectorizer, top_n=10):\n",
    "    for idx, topic in enumerate(model.components_):\n",
    "        print(\"Topic %d:\" % (idx))\n",
    "        print([(vectorizer.get_feature_names()[i], topic[i])\n",
    "                        for i in topic.argsort()[:-top_n - 1:-1]]) "
   ]
  },
  {
   "cell_type": "code",
   "execution_count": 26,
   "metadata": {
    "_uuid": "9a9f1099afa5c6c98ca90103080aa397cd146d3c"
   },
   "outputs": [
    {
     "name": "stdout",
     "output_type": "stream",
     "text": [
      "LDA Model:\n",
      "Topic 0:\n",
      "[('wine', 16153.212881090501), ('oak', 14107.632735455003), ('good', 8849.326773604449), ('little', 8682.630195700372), ('flavor', 7578.359871471053), ('vintage', 5396.188980383416), ('new', 5300.363142913051), ('price', 4984.582847892463), ('sweet', 4674.156452619467), ('tannic', 4492.910872999984)]\n",
      "Topic 1:\n",
      "[('cherry', 20242.05538213588), ('flavor', 17730.56148110044), ('raspberry', 9565.195626628944), ('pinot', 8256.737931549826), ('spin-dry', 8186.4337230696565), ('wine', 8030.264059960273), ('colon', 7606.319526349391), ('drink', 6986.996476683885), ('soft', 6043.689168734124), ('pretty', 5945.335315425528)]\n",
      "Topic 2:\n",
      "[('wine', 25876.279987653495), ('tannin', 22488.24437194703), ('fruit', 21640.662202483803), ('year', 15066.136224471635), ('black', 13190.886809359861), ('cabernet', 11649.761390724447), ('ripe', 10694.641684970056), ('flavor', 10228.838006757207), ('age', 9763.430970711786), ('structure', 9633.148883128772)]\n",
      "Topic 3:\n",
      "[('flavor', 10849.181603075302), ('finish', 7300.04153648665), ('aroma', 7119.726835019697), ('bite', 6918.0972350193015), ('palate', 6132.203957012071), ('like', 4988.9230552755125), ('taste', 3967.8834939473804), ('nose', 3907.261436100344), ('green', 3883.452765676142), ('fruit', 3829.071726328295)]\n",
      "Topic 4:\n",
      "[('imported', 6092.594641063084), ('fruit', 5633.482432915884), ('toast', 4488.2303793871315), ('finishes', 3398.0896020813416), ('butter', 3302.4372368943955), ('vineyard', 2574.0879172279965), ('caramel', 2354.778071026941), ('winery', 2138.423864451727), ('add', 2108.4554897081175), ('focus', 2028.7096320641967)]\n",
      "Topic 5:\n",
      "[('finish', 15740.072562959613), ('fruit', 14001.950635650495), ('flavor', 13648.023072842769), ('berry', 12811.682495842564), ('aroma', 11165.2688736861), ('plum', 10937.019620815396), ('palate', 10731.50368848402), ('cherry', 9362.387240864977), ('note', 9264.286574864755), ('good', 8017.336871217262)]\n",
      "Topic 6:\n",
      "[('wine', 31501.246406652917), ('fruit', 20724.67353275018), ('acidity', 16477.788664828542), ('fresh', 11466.656702118818), ('flavor', 9994.164469098334), ('white', 9604.99648736266), ('ripe', 7761.190152865127), ('crisp', 6809.787047934167), ('mineral', 6504.346652143606), ('touch', 6284.89668585474)]\n",
      "Topic 7:\n",
      "[('jammy', 4055.0554683897876), ('forward', 3371.849354507874), ('smell', 2213.2874549889834), ('load', 2017.2540667369653), ('leave', 1838.8314278849627), ('modern', 1773.2517944350825), ('tomato', 1610.0866496632261), ('char', 1547.147286297352), ('pepper', 1414.6013092847797), ('raspberry', 1380.7262863528256)]\n",
      "Topic 8:\n",
      "[('aroma', 9524.91171154768), ('spice', 7656.313073808104), ('cherry', 6674.031932769751), ('simple', 6253.090624207993), ('wine', 5913.10132946625), ('note', 5327.124818250398), ('offer', 5294.697093549836), ('berry', 4819.685595787559), ('cab', 4588.987616366885), ('pair', 4586.888935718412)]\n",
      "Topic 9:\n",
      "[('flavor', 16430.372408844094), ('finish', 12107.73401951071), ('apple', 10696.95912287615), ('citrus', 9181.195656123273), ('sweet', 8861.972554004791), ('peach', 8419.382859907299), ('pineapple', 7260.20149472667), ('note', 7151.273384306169), ('palate', 7144.292674344086), ('lemon', 7064.185429305184)]\n"
     ]
    }
   ],
   "source": [
    "# Keywords for topics clustered by Latent Dirichlet Allocation\n",
    "print(\"LDA Model:\")\n",
    "selected_topics(lda, vectorizer)"
   ]
  },
  {
   "cell_type": "code",
   "execution_count": 27,
   "metadata": {
    "_uuid": "9da862a4cacb585d5ac0e75541c30d8c1add90d1"
   },
   "outputs": [
    {
     "name": "stdout",
     "output_type": "stream",
     "text": [
      "NMF Model:\n",
      "Topic 0:\n",
      "[('flavor', 20.78933359750987), ('spin-dry', 2.242680712249387), ('sweet', 1.7018079018698056), ('oak', 1.6598327768105554), ('vanilla', 1.0834122485189581), ('little', 1.046871585337875), ('blackberry', 0.9715405365856767), ('finish', 0.9517528294026383), ('like', 0.8681329836004484), ('bite', 0.866439992041679)]\n",
      "Topic 1:\n",
      "[('wine', 15.729456358775007), ('age', 0.9881832522110268), ('year', 0.7143573167488565), ('spice', 0.5790605975996849), ('character', 0.5209066706286741), ('structure', 0.5184371330022532), ('wood', 0.48401939702969204), ('texture', 0.4723475940609506), ('great', 0.45668470179616744), ('like', 0.34258719107905533)]\n",
      "Topic 2:\n",
      "[('fruit', 16.50550105664452), ('red', 1.2719647928664506), ('wood', 0.6423501990494488), ('tropical', 0.6059791538223456), ('barrel', 0.5740832289641595), ('spice', 0.4921797041106512), ('stone', 0.47962087195731756), ('oak', 0.43709709886926673), ('hint', 0.38923965717284664), ('age', 0.3870074366715245)]\n",
      "Topic 3:\n",
      "[('tannin', 10.526388913156143), ('black', 8.36741237897725), ('dark', 2.6605500231808477), ('firm', 2.3980408943344664), ('blackberry', 2.37665857535954), ('currant', 2.2899996741034196), ('year', 2.155561943493947), ('plum', 1.9268217384916062), ('structure', 1.9124182395848905), ('age', 1.5224258073952264)]\n",
      "Topic 4:\n",
      "[('finish', 8.892003242011526), ('aroma', 7.812964762265649), ('palate', 7.252808295711813), ('note', 4.371296684983143), ('berry', 3.6167023168969505), ('nose', 3.375502273719692), ('plum', 2.129090484875297), ('spice', 2.069439295079924), ('offer', 1.4804154276609625), ('long', 1.4067595693254749)]\n",
      "Topic 5:\n",
      "[('acidity', 10.599916945600857), ('fresh', 4.743979840256639), ('crisp', 4.530968926769368), ('apple', 3.895717095168019), ('citrus', 2.9443867034331666), ('white', 2.939507590866902), ('peach', 2.429395496863931), ('green', 2.1366315287734463), ('lemon', 2.0112597727506447), ('pear', 1.9643100726165257)]\n",
      "Topic 6:\n",
      "[('cherry', 14.448525606000757), ('red', 3.785535726852136), ('raspberry', 2.9985135431817254), ('spice', 2.9534136860620483), ('pinot', 2.375969280457205), ('colon', 1.9867375499485747), ('noir', 1.3565528851555473), ('silky', 1.2239337102886978), ('oak', 1.0094061320226126), ('soft', 0.951428367975692)]\n",
      "Topic 7:\n",
      "[('good', 15.114587196679047), ('balance', 1.6913318452573884), ('price', 0.758751373263198), ('pretty', 0.468841655500985), ('structure', 0.4270258716427306), ('berry', 0.38223431894068044), ('year', 0.3656414745607969), ('nose', 0.3431559372601217), ('oak', 0.33331281350272507), ('integrate', 0.3249654493658535)]\n",
      "Topic 8:\n",
      "[('cabernet', 8.565466147519928), ('blend', 8.329216744060506), ('sauvignon', 5.434859491082996), ('merlot', 4.201217703063285), ('franc', 2.3037341197197136), ('blackberry', 2.2830802795530243), ('syrah', 2.170716098687666), ('oak', 1.4897771409428926), ('chocolate', 1.3117388736503521), ('verdot', 1.180663725788602)]\n",
      "Topic 9:\n",
      "[('ripe', 10.425964453149408), ('drink', 8.564230448010262), ('rich', 6.113027988932186), ('soft', 3.4632847745122324), ('sweet', 3.1575253989271928), ('texture', 1.8732603882371641), ('blackberry', 1.4694316546070358), ('oak', 1.382815762870237), ('ready', 1.063197194346981), ('smooth', 0.944450014743747)]\n"
     ]
    }
   ],
   "source": [
    "# Keywords for topics clustered by Latent Semantic Indexing\n",
    "print(\"NMF Model:\")\n",
    "selected_topics(nmf, vectorizer)"
   ]
  },
  {
   "cell_type": "code",
   "execution_count": 28,
   "metadata": {
    "_uuid": "e789cfaaf1bca8737ee73f6a6c8a1b388126f13b"
   },
   "outputs": [
    {
     "name": "stdout",
     "output_type": "stream",
     "text": [
      "LSI Model:\n",
      "Topic 0:\n",
      "[('wine', 0.46545443701761935), ('flavor', 0.3786947502413103), ('fruit', 0.3487793778736476), ('finish', 0.18255713029753912), ('cherry', 0.17715056621518996), ('tannin', 0.15778296017605356), ('aroma', 0.15052434417332453), ('good', 0.1442278426005325), ('acidity', 0.1429670318217277), ('black', 0.1303079941681807)]\n",
      "Topic 1:\n",
      "[('wine', 0.6964312130724919), ('fruit', 0.1693109722555911), ('age', 0.09127965366894722), ('acidity', 0.06367300030183036), ('structure', 0.048584327594470574), ('year', 0.04829022561719037), ('wood', 0.04650128237418289), ('character', 0.040823043800071845), ('great', 0.03063915081850436), ('rich', 0.02969883906677463)]\n",
      "Topic 2:\n",
      "[('fruit', 0.7155225235079223), ('black', 0.16290458583205175), ('tannin', 0.11285731751109022), ('palate', 0.10293577397071027), ('aroma', 0.09501479918531289), ('note', 0.0836988407662544), ('berry', 0.07060461054014815), ('dark', 0.06665826873173686), ('finish', 0.0647699796684008), ('red', 0.06404920532673951)]\n",
      "Topic 3:\n",
      "[('cherry', 0.4155223220582936), ('tannin', 0.3321890804623862), ('black', 0.3123821909531263), ('blackberry', 0.1843323353297008), ('cabernet', 0.12041023315328313), ('currant', 0.11288358931861522), ('chocolate', 0.09905706410745428), ('dark', 0.09233593728116633), ('year', 0.09137792564203413), ('spice', 0.08591595639124343)]\n",
      "Topic 4:\n",
      "[('aroma', 0.3531476191676685), ('wine', 0.3034379034257228), ('palate', 0.2913091408836357), ('finish', 0.24064743283840714), ('note', 0.19875904303188305), ('berry', 0.14071801851615218), ('spice', 0.13644909507120548), ('nose', 0.12560687379346147), ('cherry', 0.09847668058527961), ('offer', 0.09549932475743002)]\n",
      "Topic 5:\n",
      "[('acidity', 0.4893494190000188), ('drink', 0.2838839211940729), ('cherry', 0.19726308020032396), ('note', 0.19159543319657507), ('ripe', 0.17854391183507193), ('crisp', 0.1457249597626728), ('spin-dry', 0.1424494855408985), ('fresh', 0.1410780919298554), ('rich', 0.12468295309561685), ('balance', 0.11142027001612462)]\n",
      "Topic 6:\n",
      "[('cherry', 0.5421588364427204), ('red', 0.2681922381945323), ('fruit', 0.21033314325707353), ('raspberry', 0.16557479460497251), ('pinot', 0.1501754561212361), ('spice', 0.13723655528628084), ('fresh', 0.11421167760944127), ('light', 0.10636330153565617), ('colon', 0.09053965576573256), ('bright', 0.0864176398308932)]\n",
      "Topic 7:\n",
      "[('good', 0.7579530990152746), ('berry', 0.20882124063712185), ('red', 0.17972129868798484), ('aroma', 0.16778017157734723), ('acidity', 0.14523997749436574), ('palate', 0.08898265811531207), ('fresh', 0.08125869533376903), ('balance', 0.07812557722908299), ('plum', 0.06474727642042125), ('tannin', 0.05506194966360293)]\n",
      "Topic 8:\n",
      "[('good', 0.5089657160224026), ('oak', 0.24064772988059283), ('cherry', 0.16370774098602353), ('sweet', 0.15515373123899664), ('finish', 0.14738883612486112), ('note', 0.13037012286016889), ('spice', 0.11472132192990746), ('vanilla', 0.10015132355241328), ('blend', 0.08275959609915536), ('fruit', 0.08056576819677098)]\n",
      "Topic 9:\n",
      "[('aroma', 0.39005967971601324), ('ripe', 0.3045031780076302), ('rich', 0.2358697090822341), ('sweet', 0.2219548592202397), ('spice', 0.1806494185387289), ('oak', 0.17292798384022232), ('palate', 0.1498734065396553), ('vanilla', 0.12722478864429268), ('offer', 0.09809157714820539), ('toast', 0.09462751855975395)]\n"
     ]
    }
   ],
   "source": [
    "# Keywords for topics clustered by Non-Negative Matrix Factorization\n",
    "print(\"LSI Model:\")\n",
    "selected_topics(lsi, vectorizer)"
   ]
  },
  {
   "cell_type": "code",
   "execution_count": 29,
   "metadata": {
    "_uuid": "0d45ca676b4f8f25de9b237c1e41ab4e652cd7b3"
   },
   "outputs": [
    {
     "name": "stdout",
     "output_type": "stream",
     "text": [
      "[0.00500012 0.00500033 0.00500038 0.06546978 0.00500121 0.08337955\n",
      " 0.19314925 0.00500002 0.45912628 0.17387309]\n"
     ]
    }
   ],
   "source": [
    "# Transforming an individual sentence\n",
    "text = spacy_tokenizer(\"Aromas include tropical fruit, broom, brimstone and dried herb. The palate isn't overly expressive, offering unripened apple, citrus and dried sage alongside brisk acidity.\")\n",
    "x = lda.transform(vectorizer.transform([text]))[0]\n",
    "print(x)"
   ]
  },
  {
   "cell_type": "markdown",
   "metadata": {
    "_uuid": "1a9eeef90515577592dfebab1635c1f77a7a6868"
   },
   "source": [
    "# Visualisation avec pyLDAvis"
   ]
  },
  {
   "cell_type": "code",
   "execution_count": 30,
   "metadata": {
    "_uuid": "520045555b8cd5ebf89634e580a23f8a221e34c1"
   },
   "outputs": [
    {
     "data": {
      "text/html": [
       "\n",
       "<link rel=\"stylesheet\" type=\"text/css\" href=\"https://cdn.rawgit.com/bmabey/pyLDAvis/files/ldavis.v1.0.0.css\">\n",
       "\n",
       "\n",
       "<div id=\"ldavis_el3072412867779661681388184893\"></div>\n",
       "<script type=\"text/javascript\">\n",
       "\n",
       "var ldavis_el3072412867779661681388184893_data = {\"mdsDat\": {\"x\": [-87.65457153320312, 19.383211135864258, 113.90632629394531, -12.13288402557373, 116.25546264648438, -190.50682067871094, -149.1039276123047, -106.27912139892578, 39.8612060546875, -23.617956161499023], \"y\": [-85.90555572509766, -111.42037200927734, -26.348546981811523, -6.143360614776611, -166.9080352783203, -37.41521453857422, -181.39939880371094, 62.85559844970703, 92.57322692871094, -220.06497192382812], \"topics\": [1, 2, 3, 4, 5, 6, 7, 8, 9, 10], \"cluster\": [1, 1, 1, 1, 1, 1, 1, 1, 1, 1], \"Freq\": [15.757019209392414, 13.321650196406093, 12.517125170354227, 11.564258522218193, 10.593862762601699, 10.306650364445169, 8.899201005169243, 7.256164121805593, 6.351240996037855, 3.432827651569518]}, \"tinfo\": {\"Category\": [\"Default\", \"Default\", \"Default\", \"Default\", \"Default\", \"Default\", \"Default\", \"Default\", \"Default\", \"Default\", \"Default\", \"Default\", \"Default\", \"Default\", \"Default\", \"Default\", \"Default\", \"Default\", \"Default\", \"Default\", \"Default\", \"Default\", \"Default\", \"Default\", \"Default\", \"Default\", \"Default\", \"Default\", \"Default\", \"Default\", \"Topic1\", \"Topic1\", \"Topic1\", \"Topic1\", \"Topic1\", \"Topic1\", \"Topic1\", \"Topic1\", \"Topic1\", \"Topic1\", \"Topic1\", \"Topic1\", \"Topic1\", \"Topic1\", \"Topic1\", \"Topic1\", \"Topic1\", \"Topic1\", \"Topic1\", \"Topic1\", \"Topic1\", \"Topic1\", \"Topic1\", \"Topic1\", \"Topic1\", \"Topic1\", \"Topic1\", \"Topic1\", \"Topic1\", \"Topic1\", \"Topic1\", \"Topic1\", \"Topic1\", \"Topic1\", \"Topic1\", \"Topic1\", \"Topic1\", \"Topic1\", \"Topic1\", \"Topic1\", \"Topic1\", \"Topic1\", \"Topic1\", \"Topic1\", \"Topic1\", \"Topic1\", \"Topic1\", \"Topic1\", \"Topic1\", \"Topic1\", \"Topic1\", \"Topic1\", \"Topic1\", \"Topic1\", \"Topic1\", \"Topic1\", \"Topic1\", \"Topic1\", \"Topic1\", \"Topic1\", \"Topic1\", \"Topic1\", \"Topic1\", \"Topic1\", \"Topic1\", \"Topic1\", \"Topic1\", \"Topic2\", \"Topic2\", \"Topic2\", \"Topic2\", \"Topic2\", \"Topic2\", \"Topic2\", \"Topic2\", \"Topic2\", \"Topic2\", \"Topic2\", \"Topic2\", \"Topic2\", \"Topic2\", \"Topic2\", \"Topic2\", \"Topic2\", \"Topic2\", \"Topic2\", \"Topic2\", \"Topic2\", \"Topic2\", \"Topic2\", \"Topic2\", \"Topic2\", \"Topic2\", \"Topic2\", \"Topic2\", \"Topic2\", \"Topic2\", \"Topic2\", \"Topic2\", \"Topic2\", \"Topic2\", \"Topic2\", \"Topic2\", \"Topic2\", \"Topic2\", \"Topic2\", \"Topic2\", \"Topic2\", \"Topic2\", \"Topic2\", \"Topic2\", \"Topic2\", \"Topic2\", \"Topic2\", \"Topic2\", \"Topic2\", \"Topic2\", \"Topic2\", \"Topic2\", \"Topic2\", \"Topic2\", \"Topic2\", \"Topic2\", \"Topic2\", \"Topic2\", \"Topic2\", \"Topic2\", \"Topic2\", \"Topic2\", \"Topic3\", \"Topic3\", \"Topic3\", \"Topic3\", \"Topic3\", \"Topic3\", \"Topic3\", \"Topic3\", \"Topic3\", \"Topic3\", \"Topic3\", \"Topic3\", \"Topic3\", \"Topic3\", \"Topic3\", \"Topic3\", \"Topic3\", \"Topic3\", \"Topic3\", \"Topic3\", \"Topic3\", \"Topic3\", \"Topic3\", \"Topic3\", \"Topic3\", \"Topic3\", \"Topic3\", \"Topic3\", \"Topic3\", \"Topic3\", \"Topic3\", \"Topic3\", \"Topic3\", \"Topic3\", \"Topic3\", \"Topic3\", \"Topic3\", \"Topic3\", \"Topic3\", \"Topic3\", \"Topic3\", \"Topic3\", \"Topic3\", \"Topic3\", \"Topic3\", \"Topic3\", \"Topic3\", \"Topic3\", \"Topic3\", \"Topic3\", \"Topic3\", \"Topic3\", \"Topic3\", \"Topic3\", \"Topic3\", \"Topic3\", \"Topic3\", \"Topic3\", \"Topic3\", \"Topic3\", \"Topic3\", \"Topic3\", \"Topic3\", \"Topic3\", \"Topic3\", \"Topic3\", \"Topic3\", \"Topic4\", \"Topic4\", \"Topic4\", \"Topic4\", \"Topic4\", \"Topic4\", \"Topic4\", \"Topic4\", \"Topic4\", \"Topic4\", \"Topic4\", \"Topic4\", \"Topic4\", \"Topic4\", \"Topic4\", \"Topic4\", \"Topic4\", \"Topic4\", \"Topic4\", \"Topic4\", \"Topic4\", \"Topic4\", \"Topic4\", \"Topic4\", \"Topic4\", \"Topic4\", \"Topic4\", \"Topic4\", \"Topic4\", \"Topic4\", \"Topic4\", \"Topic4\", \"Topic4\", \"Topic4\", \"Topic4\", \"Topic4\", \"Topic4\", \"Topic4\", \"Topic4\", \"Topic4\", \"Topic4\", \"Topic4\", \"Topic4\", \"Topic4\", \"Topic4\", \"Topic4\", \"Topic4\", \"Topic4\", \"Topic4\", \"Topic4\", \"Topic4\", \"Topic4\", \"Topic4\", \"Topic4\", \"Topic4\", \"Topic4\", \"Topic4\", \"Topic4\", \"Topic5\", \"Topic5\", \"Topic5\", \"Topic5\", \"Topic5\", \"Topic5\", \"Topic5\", \"Topic5\", \"Topic5\", \"Topic5\", \"Topic5\", \"Topic5\", \"Topic5\", \"Topic5\", \"Topic5\", \"Topic5\", \"Topic5\", \"Topic5\", \"Topic5\", \"Topic5\", \"Topic5\", \"Topic5\", \"Topic5\", \"Topic5\", \"Topic5\", \"Topic5\", \"Topic5\", \"Topic5\", \"Topic5\", \"Topic5\", \"Topic5\", \"Topic5\", \"Topic5\", \"Topic5\", \"Topic5\", \"Topic5\", \"Topic5\", \"Topic5\", \"Topic5\", \"Topic5\", \"Topic5\", \"Topic5\", \"Topic5\", \"Topic5\", \"Topic5\", \"Topic5\", \"Topic5\", \"Topic5\", \"Topic5\", \"Topic5\", \"Topic5\", \"Topic5\", \"Topic5\", \"Topic5\", \"Topic5\", \"Topic5\", \"Topic5\", \"Topic6\", \"Topic6\", \"Topic6\", \"Topic6\", \"Topic6\", \"Topic6\", \"Topic6\", \"Topic6\", \"Topic6\", \"Topic6\", \"Topic6\", \"Topic6\", \"Topic6\", \"Topic6\", \"Topic6\", \"Topic6\", \"Topic6\", \"Topic6\", \"Topic6\", \"Topic6\", \"Topic6\", \"Topic6\", \"Topic6\", \"Topic6\", \"Topic6\", \"Topic6\", \"Topic6\", \"Topic6\", \"Topic6\", \"Topic6\", \"Topic6\", \"Topic6\", \"Topic6\", \"Topic6\", \"Topic6\", \"Topic6\", \"Topic6\", \"Topic6\", \"Topic6\", \"Topic6\", \"Topic6\", \"Topic6\", \"Topic6\", \"Topic6\", \"Topic6\", \"Topic6\", \"Topic6\", \"Topic6\", \"Topic6\", \"Topic6\", \"Topic6\", \"Topic6\", \"Topic6\", \"Topic6\", \"Topic6\", \"Topic6\", \"Topic6\", \"Topic6\", \"Topic6\", \"Topic6\", \"Topic6\", \"Topic7\", \"Topic7\", \"Topic7\", \"Topic7\", \"Topic7\", \"Topic7\", \"Topic7\", \"Topic7\", \"Topic7\", \"Topic7\", \"Topic7\", \"Topic7\", \"Topic7\", \"Topic7\", \"Topic7\", \"Topic7\", \"Topic7\", \"Topic7\", \"Topic7\", \"Topic7\", \"Topic7\", \"Topic7\", \"Topic7\", \"Topic7\", \"Topic7\", \"Topic7\", \"Topic7\", \"Topic7\", \"Topic7\", \"Topic7\", \"Topic7\", \"Topic7\", \"Topic7\", \"Topic7\", \"Topic7\", \"Topic7\", \"Topic7\", \"Topic7\", \"Topic7\", \"Topic7\", \"Topic7\", \"Topic7\", \"Topic7\", \"Topic7\", \"Topic7\", \"Topic7\", \"Topic7\", \"Topic7\", \"Topic7\", \"Topic7\", \"Topic7\", \"Topic7\", \"Topic7\", \"Topic7\", \"Topic7\", \"Topic7\", \"Topic7\", \"Topic7\", \"Topic7\", \"Topic7\", \"Topic8\", \"Topic8\", \"Topic8\", \"Topic8\", \"Topic8\", \"Topic8\", \"Topic8\", \"Topic8\", \"Topic8\", \"Topic8\", \"Topic8\", \"Topic8\", \"Topic8\", \"Topic8\", \"Topic8\", \"Topic8\", \"Topic8\", \"Topic8\", \"Topic8\", \"Topic8\", \"Topic8\", \"Topic8\", \"Topic8\", \"Topic8\", \"Topic8\", \"Topic8\", \"Topic8\", \"Topic8\", \"Topic8\", \"Topic8\", \"Topic8\", \"Topic8\", \"Topic8\", \"Topic8\", \"Topic8\", \"Topic8\", \"Topic8\", \"Topic8\", \"Topic8\", \"Topic8\", \"Topic8\", \"Topic8\", \"Topic8\", \"Topic8\", \"Topic8\", \"Topic8\", \"Topic8\", \"Topic8\", \"Topic8\", \"Topic8\", \"Topic8\", \"Topic8\", \"Topic8\", \"Topic9\", \"Topic9\", \"Topic9\", \"Topic9\", \"Topic9\", \"Topic9\", \"Topic9\", \"Topic9\", \"Topic9\", \"Topic9\", \"Topic9\", \"Topic9\", \"Topic9\", \"Topic9\", \"Topic9\", \"Topic9\", \"Topic9\", \"Topic9\", \"Topic9\", \"Topic9\", \"Topic9\", \"Topic9\", \"Topic9\", \"Topic9\", \"Topic9\", \"Topic9\", \"Topic9\", \"Topic9\", \"Topic9\", \"Topic9\", \"Topic9\", \"Topic9\", \"Topic9\", \"Topic9\", \"Topic9\", \"Topic9\", \"Topic9\", \"Topic9\", \"Topic9\", \"Topic9\", \"Topic9\", \"Topic9\", \"Topic9\", \"Topic9\", \"Topic9\", \"Topic9\", \"Topic9\", \"Topic9\", \"Topic9\", \"Topic9\", \"Topic9\", \"Topic9\", \"Topic9\", \"Topic9\", \"Topic9\", \"Topic9\", \"Topic9\", \"Topic10\", \"Topic10\", \"Topic10\", \"Topic10\", \"Topic10\", \"Topic10\", \"Topic10\", \"Topic10\", \"Topic10\", \"Topic10\", \"Topic10\", \"Topic10\", \"Topic10\", \"Topic10\", \"Topic10\", \"Topic10\", \"Topic10\", \"Topic10\", \"Topic10\", \"Topic10\", \"Topic10\", \"Topic10\", \"Topic10\", \"Topic10\", \"Topic10\", \"Topic10\", \"Topic10\", \"Topic10\", \"Topic10\", \"Topic10\", \"Topic10\", \"Topic10\", \"Topic10\", \"Topic10\", \"Topic10\", \"Topic10\", \"Topic10\", \"Topic10\", \"Topic10\", \"Topic10\", \"Topic10\", \"Topic10\", \"Topic10\"], \"Freq\": [40706.0, 34128.0, 95319.0, 20648.0, 33000.0, 85184.0, 41903.0, 21355.0, 16154.0, 27541.0, 25027.0, 13567.0, 14991.0, 73080.0, 30617.0, 11597.0, 23970.0, 12217.0, 12511.0, 10946.0, 32576.0, 10807.0, 9535.0, 10870.0, 22866.0, 6859.0, 7496.0, 12285.0, 17868.0, 27807.0, 11596.673718313199, 3934.5537434526836, 2634.1401719309597, 2448.2689142297713, 2199.8657511499623, 1703.0758347394988, 1386.3481507414895, 1273.6545615002472, 1228.5477415895846, 1034.7226745964838, 813.9396599572414, 688.6959285503187, 665.3440793884635, 646.3737691112248, 636.1573919040601, 614.4410464811542, 612.8773259151469, 573.7627612540745, 540.6042221040364, 529.6481502694156, 490.6229812396883, 487.8613391797956, 473.975805158549, 455.8176921756555, 443.0049708675592, 409.3892261339533, 385.6611177913403, 367.9474569704959, 356.06486053112764, 337.6750630440213, 14997.480217059774, 4506.272175043451, 4726.347462481695, 7185.347113389536, 5986.677207087174, 9589.250863672038, 3479.6090004947555, 2191.167492714369, 22385.766002624154, 9718.939259027831, 1981.0157535561216, 5754.450355190469, 5248.975956869612, 1933.1735903726365, 6404.291024362296, 13130.776266812036, 3294.113755478528, 3621.592220076838, 2477.801675405138, 6562.432738154136, 3628.4884573950026, 4310.029470683971, 21542.04624399021, 10645.906469261741, 25758.362424440566, 8017.222593452009, 8608.799282437782, 5507.522512784359, 4651.268900252539, 7107.747607583918, 10182.225446805309, 5640.546304295245, 4274.727895480108, 4445.467163162041, 4622.520154998811, 4299.261906182154, 4254.036940463328, 5026.765292184532, 3965.713901142162, 3919.5372491284634, 3688.6680789368734, 3162.425404800865, 2307.3727106431775, 1989.5929465886916, 1732.5427389945023, 1567.3020906616466, 1563.9835487330552, 1386.8491027232897, 1357.0122029553463, 1173.2965800296727, 1147.6793773973232, 1121.5707225496112, 1045.5020766186938, 988.7922520784089, 988.3878918509231, 947.5825265823102, 938.353397219099, 804.0727364808329, 800.956936242202, 785.6331431246872, 737.4882986489869, 684.5867544915764, 684.1445312054609, 662.0959923116309, 628.4923010620287, 609.5948545640192, 593.2775427668173, 3414.944574248548, 6246.947412847327, 6598.6389594512, 9744.238340374335, 1770.996814859633, 4334.896690827565, 2335.1430225646004, 11632.886698054006, 2716.368971032796, 16716.664111607126, 6376.007667693906, 31957.914134497565, 4995.730601234124, 2951.4926723535577, 6261.8566043954315, 6908.507268021372, 21025.115281954248, 5468.562927128362, 4605.73957510045, 2679.165532245925, 3868.509959443971, 7873.702687344736, 4047.4525827710745, 5785.623785004445, 5377.971971854747, 10139.048018177362, 5603.397111601724, 5596.349548407598, 5544.012760126883, 3139.671733518555, 3408.1416022900103, 3326.9581144283356, 2931.378780912049, 2754.4470899225444, 1745.10185921784, 1533.9456763966177, 1240.3335730817282, 1211.2890162119384, 1129.4417595785756, 1107.9512948678687, 1081.501478374274, 1005.5239948665686, 854.6560095230354, 822.3905188192033, 815.9776579651576, 801.5733963591105, 673.7029650179868, 646.711008989869, 591.9736850893987, 558.0714856230069, 556.2182892104591, 546.5615452440798, 546.5318963808804, 498.7442717335557, 486.115131101519, 481.60757990481335, 460.96281876144457, 432.50651646525364, 429.2926266191895, 396.361031295917, 371.18959851479286, 362.00566096431146, 4124.976569478361, 10715.67913249462, 4224.5288876256345, 910.2015252265, 12552.40307986314, 3195.4303194535883, 1529.1416375070685, 3061.589962843645, 3932.2621505607076, 15421.529169231095, 2455.5838043393924, 10514.32237683084, 9076.798412136992, 5555.39982049596, 6528.905771037778, 10939.309137815188, 5338.016033092232, 3109.332844290624, 3751.0444075035743, 7789.493050056589, 3271.194805332063, 6583.341165855691, 13718.58289026949, 3176.9688569538675, 5035.208678124482, 9172.913743002973, 7855.084144274171, 6078.6518139639875, 13371.818019154569, 4156.041063040671, 6247.223640554799, 4636.707524798694, 4859.7755134524305, 3497.8908137401804, 3780.102571113132, 4745.087319761618, 4070.50908908294, 6772.406238022682, 6507.917382066238, 7003.7120835678015, 5283.774530778285, 2442.983176648341, 1888.8070309895386, 1741.3708320904448, 1628.6103977943517, 1604.0156458442339, 1445.0671479878613, 1396.641838839627, 1367.9638633928953, 1348.9870128964633, 1288.690141313562, 1217.486443755389, 1182.070434194612, 972.0842479892532, 937.1433559174344, 919.3200842593913, 919.0810741562124, 897.5309517945352, 865.2082254786214, 836.0814703959913, 824.8054694995895, 783.3660734083408, 1457.7179195628628, 746.7150575587713, 741.4256951328448, 718.8192202002411, 717.5822308706756, 7198.05014274031, 4590.359964402555, 3619.0395783002677, 10605.387219243383, 5489.259046586536, 8347.308272443837, 9102.59952855108, 5802.685251729423, 5918.099798801168, 2945.4560698310556, 3002.742319087441, 1801.4485375371212, 8786.109153257928, 5955.908738174163, 12004.085100214128, 16289.71930719247, 7090.054517366796, 7083.133566154148, 6244.587932265372, 4838.366305280945, 4262.229925682514, 3013.497366841629, 2785.661486189193, 5227.015170976932, 3841.706631593085, 4988.20748839926, 3745.863858805755, 2842.169516463539, 7495.138254829745, 5858.43258438855, 4180.180309558676, 3482.0312133538205, 2841.903042092284, 2418.53061440467, 2015.0034986362116, 1909.2342291660314, 1958.8970270209093, 1537.9434355061117, 1453.9701671912371, 1428.628719096669, 1335.3979134463925, 1262.1721408263215, 1232.4078281655457, 1231.2964354383287, 1148.925505193083, 1128.4168074839545, 1073.2199028209209, 1060.647024247274, 979.4520973057095, 856.9262790597479, 848.0135474100792, 814.5923950249222, 814.2150654483812, 782.5542829952003, 758.5672330821606, 747.7385751158741, 709.7051684169633, 634.976453316831, 8136.049519939699, 3940.4037778631237, 9425.381540668086, 3053.4345033662316, 19946.17805963309, 2091.036995807907, 3539.665191037867, 1452.883230037466, 8066.772945292809, 4330.052172463532, 17471.39456556434, 3119.273844447128, 5955.348803315389, 3112.7395799665805, 6884.867825673371, 5536.182778618011, 5447.255746717191, 3370.7632439234644, 7912.886007969156, 4564.6018940211325, 3312.433616792522, 4091.47509540586, 2878.5617452696474, 3635.786837530929, 2650.8288033378026, 2649.805392616673, 2760.7963935332095, 4686.343936539697, 3747.7859710528837, 2463.2604239007405, 2250.877004791817, 1941.1684325464919, 1935.8038315155736, 1701.8723448715475, 1696.8001445265602, 1610.9371434490472, 1606.3419094369792, 1506.5983767055402, 1450.5708155413386, 1594.4420705244238, 1388.8655016568346, 1256.6943569241275, 1178.0595515281425, 1102.3498827937901, 960.9684034961573, 885.1006509494724, 858.6021109293952, 838.2529697510083, 828.9040123407214, 759.2441660738895, 705.390751012777, 688.507831130621, 679.4736497241604, 663.5127778219743, 607.8860460890459, 586.4837024363867, 585.4243192143994, 5073.322739401226, 4983.230379399032, 8163.128713577511, 2515.337712342995, 13263.54103165963, 2008.2852764119343, 1142.4735318154023, 2052.7321370185705, 2058.153273953631, 1820.2873072122363, 2238.2416539592814, 4224.089812450239, 3412.022905863649, 3796.3368374952497, 3605.4894459673833, 8319.851456671846, 15186.729471843364, 2660.448694630979, 4394.491057447804, 7124.929390550742, 2644.385826194247, 3578.5712857562735, 2668.2220295960674, 2149.5653539106224, 3204.2283299977516, 2955.959914100272, 3140.148854403083, 2490.53128581554, 2132.858338261744, 2242.4137860013693, 2128.570365440692, 6787.187710621646, 4980.948178397012, 2772.855241465639, 2469.9114110207765, 2332.1232884532956, 1915.8623665596836, 1652.180720538429, 1620.209886201022, 1506.09944863943, 1398.4240655755577, 1291.879452443752, 1244.9871775209006, 1172.7368935629024, 1153.8936219966604, 1066.8413548828532, 996.6373844609352, 984.0878856385606, 917.0613681244403, 910.3279345741946, 890.2644385521421, 888.4743834688297, 824.1037130270636, 817.0921783442501, 810.3813140127536, 807.1365086720286, 788.0617429459993, 778.7049755359941, 773.0118476521183, 751.0424526508438, 748.0170035557875, 4978.670242515083, 2035.6024921947621, 3628.222816429311, 3705.5560430899764, 3587.4512481756915, 1739.6194038243295, 3429.050518304217, 1761.741130209675, 2840.7727852239477, 5746.934628723249, 4516.560247650212, 10338.465824099701, 4496.153444189424, 3328.576527220799, 8310.26401601272, 2106.580230048438, 3043.444002931815, 2812.0878415496845, 5782.132112303451, 2978.3396410501086, 7244.083004175019, 5231.3508328424, 6418.15880928434, 4106.231833249751, 2881.943101909572, 3785.650000038207, 3403.9650937773945, 2869.8453404883603, 2340.903514134273, 2613.6079448211726, 3545.992207269329, 3073.517670886272, 2591.593248267732, 2446.7517979321924, 2193.978459521532, 2141.3049892797408, 2014.9874812845405, 1879.5641136253116, 1687.6258773145164, 1622.2372081413648, 1396.147682549371, 1195.719023161005, 1151.8237968232738, 1123.1242832140563, 1042.6190008608776, 1025.0934885509137, 1022.1077746775984, 1021.461218558922, 968.6130542688155, 949.2014676804009, 936.0475615472556, 930.341686721405, 927.147437453225, 899.3944929809225, 881.209815199906, 793.8723358000755, 785.3978136621404, 754.3281603970566, 742.4336674636044, 734.409041165365, 6702.261396809514, 2260.1555648067147, 1975.4519154928012, 2471.8324810718395, 2203.3722267272597, 3844.0905736195523, 4833.274998762395, 3111.1166065724783, 2229.9532947824077, 6897.600409637515, 5940.886989907983, 3762.2939767269304, 10510.700930479865, 2738.1356989100937, 7072.289521667006, 1606.7863947556687, 2669.0719241535494, 3785.359846903738, 3709.6095566678305, 1867.0670260113159, 1990.6348848038529, 1771.6889668409567, 1782.277638231451, 3359.18232172819, 3264.6251523202163, 1865.5138908483214, 1772.3457612924153, 1227.4233676194472, 1220.2224217548562, 1150.586921135814, 1096.0255962395468, 1048.9574142649165, 1036.720149615886, 990.1815602510197, 885.7446121188883, 863.8342837341269, 812.7933418680092, 793.0157401136508, 739.5561922775836, 702.4926747352443, 689.0496370014523, 660.329815886464, 647.6784518022193, 2005.4814116071743, 615.9528343974949, 600.4639792617251, 595.8738790039237, 568.2651095859069, 563.2625551410871, 550.828058909501, 528.3272169645087, 504.7319624488244, 493.8653214647802, 6022.835948522205, 1802.2173325780964, 2327.816448083631, 2113.939443335482, 4436.841258407688, 1450.752062308245, 1905.4083285363029, 1280.4286590117852, 1432.5509500480268, 2544.6152511193964, 1077.3051644420423, 2084.3141990252675, 1715.1386085786617, 1346.3402031194357, 5568.980460911448, 1562.7610203530116, 1603.3838490433961, 1969.8796338872933, 1605.9313518035692, 1469.3821854509238, 1801.5905983061023, 1451.208746398306, 1749.1475293399658, 1341.5238090416085, 1697.4306296185557, 1348.1828133413283, 1302.5494840715126, 4331.645047635443, 3601.838414216939, 2364.2526515682, 1894.2027830325726, 1719.908375272379, 1652.6760072442853, 1436.6471825983579, 1400.2894703599613, 1181.2205595098885, 1152.487006363591, 1099.9444718939499, 1035.3033143148948, 946.8055524473262, 892.2929692849684, 882.8907969917922, 860.2301333545136, 852.160099529069, 847.8892626298294, 837.3373343581918, 830.3740087218266, 790.0917577273107, 775.5067885071908, 738.4986030639227, 738.3162454830436, 702.9888593756425, 624.0438331560118, 622.9719254700373, 611.2406488458925, 599.9769110892904, 569.0792947847602, 2154.84810408115, 1964.2555102204751, 1007.2220347812752, 961.2011975575637, 819.8837863110663, 858.5211103303119, 1241.4597824879652, 1511.0892572266598, 1474.9036670502567, 1234.5261746341193, 1196.2795782377968, 1154.329644091508, 952.1716638730062], \"Term\": [\"cherry\", \"aroma\", \"wine\", \"oak\", \"tannin\", \"flavor\", \"finish\", \"berry\", \"year\", \"palate\", \"black\", \"apple\", \"plum\", \"fruit\", \"acidity\", \"cabernet\", \"note\", \"raspberry\", \"citrus\", \"little\", \"good\", \"peach\", \"pinot\", \"bite\", \"spin-dry\", \"imported\", \"colon\", \"white\", \"fresh\", \"spice\", \"cabernet\", \"powerful\", \"franc\", \"bold\", \"sample\", \"soften\", \"plush\", \"petit\", \"verdot\", \"super\", \"likely\", \"massive\", \"considerable\", \"couple\", \"veer\", \"fun\", \"combination\", \"develope\", \"initially\", \"cracker\", \"warmth\", \"velvet\", \"extraction\", \"brand\", \"mouthful\", \"densely\", \"moment\", \"teau\", \"elevate\", \"blackcurrant\", \"year\", \"time\", \"dense\", \"firm\", \"merlot\", \"structure\", \"need\", \"cellar\", \"tannin\", \"age\", \"develop\", \"sauvignon\", \"wood\", \"impressive\", \"currant\", \"black\", \"concentrate\", \"young\", \"core\", \"dark\", \"barrel\", \"big\", \"fruit\", \"ripe\", \"wine\", \"blackberry\", \"rich\", \"blend\", \"chocolate\", \"good\", \"flavor\", \"drink\", \"plum\", \"spin-dry\", \"acidity\", \"red\", \"cherry\", \"apricot\", \"sweetness\", \"almond\", \"intensity\", \"ready\", \"yellow\", \"beautifully\", \"lift\", \"burst\", \"natural\", \"final\", \"potential\", \"golden\", \"screwcap\", \"italy\", \"steely\", \"gorgeous\", \"huge\", \"quickly\", \"wonderful\", \"ritif\", \"fruitiness\", \"buy\", \"drop\", \"herbaceous\", \"table\", \"tang\", \"flesh\", \"poise\", \"botrytis\", \"freshness\", \"creamy\", \"mineral\", \"white\", \"aftertaste\", \"honey\", \"refresh\", \"fresh\", \"attractive\", \"acidity\", \"touch\", \"wine\", \"character\", \"tropical\", \"texture\", \"crisp\", \"fruit\", \"light\", \"bright\", \"lively\", \"great\", \"ripe\", \"fruity\", \"soft\", \"balance\", \"flavor\", \"rich\", \"drink\", \"good\", \"round\", \"citrus\", \"spice\", \"overall\", \"appeal\", \"best\", \"shiraz\", \"help\", \"rough\", \"barbera\", \"coconut\", \"chocolaty\", \"sophisticate\", \"medicinal\", \"decade\", \"port\", \"blast\", \"settle\", \"size\", \"molasses\", \"muscular\", \"pastry\", \"control\", \"expressive\", \"cover\", \"proportion\", \"rioja\", \"chilean\", \"sharpness\", \"resiny\", \"heart\", \"chablis\", \"highly\", \"earthy\", \"plum\", \"coffee\", \"leathery\", \"berry\", \"earth\", \"prune\", \"accent\", \"herbal\", \"finish\", \"bake\", \"palate\", \"note\", \"dark\", \"nose\", \"aroma\", \"chocolate\", \"leather\", \"tannic\", \"black\", \"cassis\", \"oak\", \"fruit\", \"tobacco\", \"vanilla\", \"cherry\", \"good\", \"red\", \"flavor\", \"touch\", \"spice\", \"blackberry\", \"sweet\", \"herb\", \"mouth\", \"wine\", \"tannin\", \"nice\", \"lime\", \"lemon\", \"melon\", \"riesling\", \"tangerine\", \"chard\", \"minerally\", \"honeysuckle\", \"honeyed\", \"slight\", \"peel\", \"blossom\", \"sugary\", \"residual\", \"ferment\", \"continue\", \"mouthwatering\", \"prosecco\", \"selection\", \"component\", \"sparkler\", \"rind\", \"grigio\", \"papaya\", \"nectarine\", \"meyer\", \"pungent\", \"gris\", \"steel\", \"pineapple\", \"orange\", \"stone\", \"apple\", \"chardonnay\", \"peach\", \"citrus\", \"pear\", \"clean\", \"blanc\", \"grapefruit\", \"zesty\", \"sweet\", \"crisp\", \"finish\", \"flavor\", \"note\", \"palate\", \"spin-dry\", \"vanilla\", \"green\", \"tart\", \"medium\", \"acidity\", \"nose\", \"aroma\", \"good\", \"fresh\", \"colon\", \"pretty\", \"noir\", \"roast\", \"pie\", \"expression\", \"wrap\", \"ros\", \"zin\", \"beef\", \"steak\", \"pink\", \"want\", \"know\", \"sauce\", \"decant\", \"petite\", \"brown\", \"barbecue\", \"sirah\", \"sparkle\", \"ruby\", \"brambly\", \"influence\", \"lamb\", \"hearty\", \"sturdy\", \"let\", \"pale\", \"stalky\", \"pinot\", \"silky\", \"raspberry\", \"strawberry\", \"cherry\", \"jam\", \"alcohol\", \"bacon\", \"spin-dry\", \"style\", \"flavor\", \"high\", \"soft\", \"syrah\", \"drink\", \"blackberry\", \"red\", \"currant\", \"wine\", \"spice\", \"like\", \"rich\", \"pepper\", \"tannin\", \"bodied\", \"chocolate\", \"acidity\", \"price\", \"lot\", \"doe\", \"rustic\", \"integrate\", \"case\", \"tough\", \"ripeness\", \"month\", \"french\", \"term\", \"napa\", \"california\", \"zinfandel\", \"butterscotch\", \"example\", \"personality\", \"definitely\", \"worth\", \"stage\", \"early\", \"relatively\", \"dominant\", \"production\", \"version\", \"cru\", \"love\", \"american\", \"winemaking\", \"instead\", \"vintage\", \"new\", \"little\", \"old\", \"oak\", \"produce\", \"mountain\", \"variety\", \"elegance\", \"bordeaux\", \"shows\", \"tannic\", \"smoky\", \"great\", \"vineyard\", \"good\", \"wine\", \"bottle\", \"sweet\", \"flavor\", \"taste\", \"rich\", \"sauvignon\", \"hard\", \"spin-dry\", \"balance\", \"fruit\", \"like\", \"weight\", \"toast\", \"complexity\", \"simple\", \"cab\", \"grill\", \"sangiovese\", \"olive\", \"boast\", \"forest\", \"cheese\", \"alongside\", \"drinkable\", \"climate\", \"imports\", \"pasta\", \"kiwi\", \"whiff\", \"brunello\", \"menthol\", \"benefit\", \"blue\", \"pleasure\", \"easygoing\", \"cure\", \"chop\", \"firmly\", \"sage\", \"tightly\", \"shading\", \"luminous\", \"cellaring\", \"barolo\", \"pair\", \"cleave\", \"meat\", \"deliver\", \"wild\", \"dish\", \"follow\", \"rise\", \"close\", \"offer\", \"bright\", \"aroma\", \"dry\", \"tobacco\", \"spice\", \"exotic\", \"easy\", \"leather\", \"note\", \"open\", \"cherry\", \"berry\", \"wine\", \"black\", \"pepper\", \"palate\", \"red\", \"tannin\", \"herb\", \"fruit\", \"sharp\", \"dusty\", \"pleasant\", \"turn\", \"fairly\", \"raisin\", \"short\", \"fig\", \"burn\", \"chunky\", \"basic\", \"impression\", \"decent\", \"profile\", \"flat\", \"syrupy\", \"root\", \"snappy\", \"raisiny\", \"standard\", \"gooseberry\", \"rubbery\", \"overripe\", \"look\", \"mildly\", \"infuse\", \"generic\", \"smells\", \"beer\", \"harsh\", \"bite\", \"candied\", \"sour\", \"heavy\", \"lean\", \"taste\", \"like\", \"feel\", \"weight\", \"aroma\", \"palate\", \"green\", \"flavor\", \"herbal\", \"finish\", \"hot\", \"slightly\", \"nose\", \"fruit\", \"tart\", \"mouth\", \"medium\", \"soft\", \"finishes\", \"butter\", \"nuance\", \"nut\", \"asian\", \"especially\", \"midpalate\", \"source\", \"grass\", \"lemony\", \"rhubarb\", \"background\", \"oily\", \"wines\", \"usa\", \"enjoyable\", \"penetrate\", \"score\", \"caramelized\", \"central\", \"focus\", \"santa\", \"sipper\", \"river\", \"gew\", \"slate\", \"classy\", \"popcorn\", \"wide\", \"reward\", \"imported\", \"excellent\", \"caramel\", \"winery\", \"toast\", \"length\", \"scent\", \"varietal\", \"lovely\", \"vineyard\", \"point\", \"add\", \"floral\", \"depth\", \"fruit\", \"mix\", \"complexity\", \"long\", \"bottle\", \"tropical\", \"hint\", \"grape\", \"note\", \"quality\", \"finish\", \"come\", \"bite\", \"jammy\", \"forward\", \"smell\", \"modern\", \"tomato\", \"char\", \"raw\", \"wet\", \"true\", \"reveal\", \"straightforward\", \"vegetal\", \"tempranillo\", \"woody\", \"liqueur\", \"briary\", \"dre\", \"mourv\", \"lose\", \"past\", \"saturate\", \"class\", \"powder\", \"sheer\", \"restrain\", \"stay\", \"hay\", \"bell\", \"immediate\", \"redolent\", \"load\", \"leave\", \"grenache\", \"friendly\", \"milk\", \"astringent\", \"quality\", \"pepper\", \"raspberry\", \"syrah\", \"taste\", \"bite\", \"scent\"], \"Total\": [40706.0, 34128.0, 95319.0, 20648.0, 33000.0, 85184.0, 41903.0, 21355.0, 16154.0, 27541.0, 25027.0, 13567.0, 14991.0, 73080.0, 30617.0, 11597.0, 23970.0, 12217.0, 12511.0, 10946.0, 32576.0, 10807.0, 9535.0, 10870.0, 22866.0, 6859.0, 7496.0, 12285.0, 17868.0, 27807.0, 11597.576200596424, 3935.4561511112556, 2635.0425041270037, 2449.171376801508, 2200.768029796073, 1703.9782323540694, 1387.250599775641, 1274.5568649012143, 1229.4500341154671, 1035.625218535871, 814.8420319016391, 689.5983553718103, 666.2464773273009, 647.276213638553, 637.0600118312803, 615.3438184431668, 613.779906269676, 574.6651746505337, 541.5066362096162, 530.5507295265039, 491.5254787513853, 488.76366299657724, 474.8782060433131, 456.72029081768034, 443.90748063389265, 410.2915432924134, 386.5635574708641, 368.849774563492, 356.96742107854965, 338.57737697680915, 16154.166155302375, 4944.666682321744, 5434.539177595256, 8750.397906799457, 7226.404191679695, 12418.413926965102, 4149.04233674478, 2542.853221589652, 33000.15675049166, 13542.678551327701, 2401.695104797745, 8423.480873716044, 7726.48107270757, 2417.38839048531, 10323.321485172102, 25027.19833678828, 4654.146371857794, 5296.674363553824, 3435.029405369058, 12453.223955289706, 5745.458167495908, 7415.806847283462, 73080.97702688594, 26878.999136469993, 95319.45601935117, 19226.310015371055, 21882.85114082262, 14946.515330425995, 12640.85689326696, 32576.687065199043, 85184.79451871532, 25636.78584226844, 14991.228346801876, 22866.958499542645, 30617.234880644923, 20640.363115573295, 40706.53998547393, 5027.66574065196, 3966.614464396612, 3920.4377444481875, 3689.5686801310485, 3163.3259071819734, 2308.273119578959, 1990.4935436065953, 1733.4432558563974, 1568.20265409245, 1564.8841212756272, 1387.7495566977395, 1357.9127470561884, 1174.197025337502, 1148.5797454493468, 1122.4712491208804, 1046.402512873606, 989.6928901335979, 989.2886518419629, 948.483205423202, 939.2539995915005, 804.973138249537, 801.8573531239156, 786.5338319704078, 738.3889846103151, 685.4872264827206, 685.0451458802763, 662.9965620061134, 629.3929143163203, 610.4953275702818, 594.1779296292004, 3692.565283133509, 7414.538264408862, 8040.0737666576615, 12285.831865615783, 1930.2412058648347, 5274.645094404687, 2680.387850109228, 17868.377708348835, 3417.5470002723237, 30617.234880644923, 10575.757779217864, 95319.45601935117, 9057.615000785694, 4421.676455961722, 12427.848803152292, 14317.984033895389, 73080.97702688594, 11858.283275845859, 9833.532358700597, 4086.4690797132707, 7665.653273984679, 26878.999136469993, 8784.39359637891, 18433.519696087682, 16751.06531439825, 85184.79451871532, 21882.85114082262, 25636.78584226844, 32576.687065199043, 6405.185625645286, 12511.54241692147, 27807.52658793531, 2932.2827980943675, 2755.3511601787877, 1746.0059665137599, 1534.8496111716092, 1241.237668511139, 1212.1929777420582, 1130.3457690402035, 1108.855225732033, 1082.4054071949756, 1006.4281115304135, 855.5599237107214, 823.2946315978973, 816.8817226950646, 802.4774386870029, 674.6069162192238, 647.6150307054746, 592.877606604289, 558.975475066544, 557.1223597522458, 547.4655892850407, 547.4359630726422, 499.6482323812852, 487.0191924187293, 482.5114742547583, 461.86676843880764, 433.41054384356573, 430.1965157702443, 397.2651680453822, 372.0938378347465, 362.90974777530744, 5068.980743375153, 14991.228346801876, 5735.013452112098, 1011.5500036894181, 21355.95878123345, 4482.3135700111325, 1929.4146153126292, 4779.717358732296, 6671.20491954335, 41903.29153963257, 3866.5653457333724, 27541.170718172845, 23970.954170411314, 12453.223955289706, 16120.934978757672, 34128.520952309234, 12640.85689326696, 5924.237849126279, 7975.944169040439, 25027.19833678828, 6696.948055474668, 20648.808136467534, 73080.97702688594, 6514.874796515448, 14214.779943123835, 40706.53998547393, 32576.687065199043, 20640.363115573295, 85184.79451871532, 10575.757779217864, 27807.52658793531, 19226.310015371055, 23394.472155355572, 8881.208961837681, 12589.910915522909, 95319.45601935117, 33000.15675049166, 6773.3091696728525, 6508.820092040439, 7004.759758383489, 5284.677254156167, 2443.885869649732, 1889.7097487176482, 1742.273565302216, 1629.5131752348661, 1604.9183413556286, 1445.9698830974776, 1397.5447556197455, 1368.8666136574043, 1349.8897613400063, 1289.5929228724226, 1218.3892242597572, 1182.9732181343704, 972.9871927416636, 938.0461353189799, 920.2228107518697, 919.9840986157744, 898.4339870946715, 866.1109653565088, 836.9841903491038, 825.7081934414566, 784.2688426685297, 1459.4685244594255, 747.6177351497248, 742.3285418456072, 719.7219211358366, 718.4849634631704, 7208.941689191415, 5102.097939919928, 4044.7030170306402, 13567.872811166984, 6626.131917227143, 10807.630723241158, 12511.54241692147, 8188.3716451649225, 9225.395237810091, 3921.7436888229786, 4232.02833399351, 2355.771758203064, 23394.472155355572, 14317.984033895389, 41903.29153963257, 85184.79451871532, 23970.954170411314, 27541.170718172845, 22866.958499542645, 14214.779943123835, 11828.882857468265, 7137.943664114756, 6287.022004733346, 30617.234880644923, 16120.934978757672, 34128.520952309234, 32576.687065199043, 17868.377708348835, 7496.041639610932, 5859.336070334821, 4181.083607685777, 3482.934714355473, 2842.806421600178, 2419.434119715797, 2015.9069162541177, 1910.1375912639817, 1959.846314899601, 1538.8468005318061, 1454.873531537591, 1429.5322121642512, 1336.301349150965, 1263.0756645199915, 1233.3112655014124, 1232.199839186234, 1149.828806158687, 1129.3202269919186, 1074.123325965765, 1061.5503174072257, 980.3555723591604, 857.829729303809, 848.9170034365516, 815.4958928143947, 815.118422580598, 783.4577287156945, 759.4707059824032, 748.6420284680366, 710.6085714547603, 635.879929346343, 9535.06246173058, 4416.484858639235, 12217.15007883034, 4061.273947797344, 40706.53998547393, 2735.4660609608336, 5442.34290694328, 1753.4073826053718, 22866.958499542645, 9435.723434517937, 85184.79451871532, 5892.510264190703, 18433.519696087682, 6448.7130889478885, 25636.78584226844, 19226.310015371055, 20640.363115573295, 10323.321485172102, 95319.45601935117, 27807.52658793531, 12303.60525679452, 21882.85114082262, 9646.485521995972, 33000.15675049166, 8470.96411928414, 12640.85689326696, 30617.234880644923, 4687.2519098611565, 3748.693965535474, 2464.1684038920444, 2251.784986551398, 1942.0764040632025, 1936.7117689848737, 1702.7802977729116, 1697.7081807148052, 1611.8450631806838, 1607.2497701042355, 1507.50639321365, 1451.4786650317628, 1595.4817979325423, 1389.77343521436, 1257.6023420048973, 1178.967541168392, 1103.2579508662259, 961.8764398214704, 886.0085955997781, 859.5100871493945, 839.1609900905689, 829.8119958855422, 760.1521735077168, 706.2986128148717, 689.4158053827354, 680.3816162790552, 664.4207706027862, 608.793999746386, 587.391642301188, 586.3323217312607, 6048.828536045489, 6116.531036850682, 10946.68576835142, 3033.66419928262, 20648.808136467534, 2371.8583691713266, 1269.405665116966, 2642.1503888133407, 2775.15788775374, 2356.776663469668, 3252.4607896741377, 7975.944169040439, 6268.048185185175, 7665.653273984679, 7375.503810565193, 32576.687065199043, 95319.45601935117, 5763.412544028357, 23394.472155355572, 85184.79451871532, 7685.460214880089, 21882.85114082262, 8423.480873716044, 4164.929718419043, 22866.958499542645, 16751.06531439825, 73080.97702688594, 12303.60525679452, 4363.622751111793, 9734.979783786388, 5020.697132915273, 6788.081193291151, 4981.841732729155, 2773.7490230841313, 2470.8047404286, 2333.0167549024814, 1916.755781647605, 1653.074031127897, 1621.1032809561852, 1506.9927870108024, 1399.3175866599518, 1292.773037130294, 1245.8807863276584, 1173.6301952079452, 1154.7871970566164, 1067.7347604457088, 997.530693747779, 984.9812771434028, 917.9548908373849, 911.2212726375938, 891.1579351705622, 889.3677993260233, 824.9970163519337, 817.9855196514014, 811.2747697265838, 808.0298400983663, 788.9551230183547, 779.598424939594, 773.90518329804, 751.9360076018015, 748.9102900150515, 5547.059597659884, 2222.311829183398, 4284.799404318119, 4505.337017581085, 4396.902890296386, 1942.6762676956992, 4513.873153808591, 2048.1833327138866, 3852.5717057102024, 13209.912084936179, 9833.532358700597, 34128.520952309234, 10094.82008576184, 6514.874796515448, 27807.52658793531, 3314.275230095341, 6681.429684382269, 5924.237849126279, 23970.954170411314, 6864.540341185261, 40706.53998547393, 21355.95878123345, 95319.45601935117, 25027.19833678828, 9646.485521995972, 27541.170718172845, 20640.363115573295, 33000.15675049166, 8881.208961837681, 73080.97702688594, 3546.897268458534, 3074.422830991906, 2592.4983356119083, 2447.6568712471453, 2194.883534329646, 2142.210020750334, 2015.8925181277918, 1880.4692635412557, 1688.5308900372768, 1623.142213815815, 1397.0526947989424, 1196.6241565964572, 1152.7288215760173, 1124.0293690925714, 1043.5239822014173, 1025.9985313889713, 1023.0128368820803, 1022.36623677093, 969.5180341006143, 950.1064980550856, 936.9526656805524, 931.2466558161994, 928.0524495353579, 900.2996388510578, 882.114799134377, 794.7774786277422, 786.3027870798686, 755.2331359480308, 743.3386984227777, 735.3140271623693, 10870.784639093034, 2948.4601624029497, 2700.8561928199406, 3966.117668367624, 3385.0645052325995, 7685.460214880089, 12303.60525679452, 7489.093190061678, 4363.622751111793, 34128.520952309234, 27541.170718172845, 11828.882857468265, 85184.79451871532, 6671.20491954335, 41903.29153963257, 2474.4281970065426, 6886.990543194821, 16120.934978757672, 73080.97702688594, 7137.943664114756, 12589.910915522909, 6287.022004733346, 18433.519696087682, 3360.085497181399, 3265.5281963564453, 1866.4169929818077, 1773.2488315674982, 1228.3264714773613, 1221.1255509521334, 1151.4899718621084, 1096.9286217573729, 1049.8605202211784, 1037.6232143364412, 991.0847085127007, 886.6477102952573, 864.7373682381024, 813.6963654287604, 793.9187806728455, 740.4593119855662, 703.39576624977, 689.9527835933694, 661.2329312126727, 648.5815778663374, 2008.3485503522504, 616.8558615812952, 601.3671151673393, 596.7769179839968, 569.1681126365651, 564.165603815382, 551.7311806363763, 529.2302362779794, 505.6351203371269, 494.76845467555, 6859.913700002245, 2146.3531851057746, 3181.131246510108, 3168.5217027404337, 9734.979783786388, 2083.7629790656374, 4106.513084174649, 2124.0373321394045, 2596.909589076833, 7375.503810565193, 1619.6743633355093, 5574.982794998046, 4017.0494164162624, 2870.797031092358, 73080.97702688594, 4354.769506424213, 5020.697132915273, 9847.006133384468, 5763.412544028357, 4421.676455961722, 10239.606525190798, 5904.643793005479, 23970.954170411314, 4321.929920311403, 41903.29153963257, 7177.305999106978, 10870.784639093034, 4332.540127580403, 3602.733512120047, 2365.147725140927, 1895.0978964015044, 1720.8034546323568, 1653.5710931705653, 1437.542249954877, 1401.184563574996, 1182.1156713287592, 1153.382103098106, 1100.8395585952146, 1036.1983608742582, 947.7006134118802, 893.1880528999142, 883.7858904907171, 861.1252237178519, 853.0550888707517, 848.7842530991676, 838.2324378540732, 831.2691015054974, 790.9868615639882, 776.4019272796252, 739.3936829324656, 739.2113392915696, 703.8839554054454, 624.9389533393099, 623.8670250533931, 612.1356949026648, 600.8720102537335, 569.9744018396697, 2664.573782867826, 2639.240811657489, 1782.5606269088248, 1887.9655301334205, 1289.161277093548, 1465.894360792873, 4321.929920311403, 9646.485521995972, 12217.15007883034, 6448.7130889478885, 7685.460214880089, 10870.784639093034, 4106.513084174649], \"loglift\": [30.0, 29.0, 28.0, 27.0, 26.0, 25.0, 24.0, 23.0, 22.0, 21.0, 20.0, 19.0, 18.0, 17.0, 16.0, 15.0, 14.0, 13.0, 12.0, 11.0, 10.0, 9.0, 8.0, 7.0, 6.0, 5.0, 4.0, 3.0, 2.0, 1.0, 1.8478, 1.8477, 1.8475, 1.8475, 1.8475, 1.8474, 1.8472, 1.8472, 1.8472, 1.847, 1.8468, 1.8466, 1.8465, 1.8465, 1.8465, 1.8464, 1.8464, 1.8463, 1.8462, 1.8462, 1.846, 1.846, 1.846, 1.8459, 1.8458, 1.8457, 1.8455, 1.8454, 1.8454, 1.8452, 1.7736, 1.755, 1.7083, 1.6508, 1.6597, 1.5893, 1.6719, 1.699, 1.4598, 1.5161, 1.6553, 1.4668, 1.4613, 1.6244, 1.3704, 1.2029, 1.5023, 1.4677, 1.5212, 1.2073, 1.3883, 1.3052, 0.6263, 0.9217, 0.5394, 0.9732, 0.915, 0.8495, 0.8481, 0.3255, -0.2763, 0.3338, 0.5931, 0.2101, -0.0427, 0.2791, -0.4106, 2.0156, 2.0156, 2.0155, 2.0155, 2.0155, 2.0154, 2.0153, 2.0153, 2.0152, 2.0152, 2.0151, 2.0151, 2.015, 2.015, 2.015, 2.0149, 2.0149, 2.0149, 2.0148, 2.0148, 2.0147, 2.0147, 2.0146, 2.0146, 2.0145, 2.0145, 2.0144, 2.0143, 2.0143, 2.0143, 1.9376, 1.8444, 1.8182, 1.784, 1.9297, 1.8196, 1.8779, 1.5866, 1.7862, 1.4106, 1.5098, 0.923, 1.4208, 1.6116, 1.3303, 1.287, 0.7699, 1.2418, 1.2573, 1.5936, 1.3319, 0.788, 1.2409, 0.857, 0.8796, -0.1126, 0.6534, 0.4939, 0.2449, 1.3028, 0.7153, -0.1075, 2.0778, 2.0777, 2.0776, 2.0775, 2.0773, 2.0773, 2.0773, 2.0773, 2.0772, 2.0772, 2.077, 2.077, 2.077, 2.0769, 2.0767, 2.0767, 2.0765, 2.0765, 2.0764, 2.0764, 2.0764, 2.0763, 2.0762, 2.0762, 2.0761, 2.076, 2.076, 2.0758, 2.0756, 2.0756, 1.872, 1.7423, 1.7724, 1.9725, 1.5467, 1.7397, 1.8456, 1.6326, 1.5495, 1.0785, 1.6241, 1.1151, 1.107, 1.2709, 1.1742, 0.9403, 1.216, 1.4334, 1.3237, 0.9109, 1.3616, 0.935, 0.4053, 1.3599, 1.0402, 0.5879, 0.6556, 0.8556, 0.2264, 1.1441, 0.5849, 0.6558, 0.5066, 1.1463, 0.8749, -0.9221, -0.0147, 2.1571, 2.1571, 2.1571, 2.1571, 2.1569, 2.1568, 2.1567, 2.1567, 2.1567, 2.1566, 2.1566, 2.1566, 2.1566, 2.1566, 2.1565, 2.1565, 2.1563, 2.1563, 2.1563, 2.1563, 2.1562, 2.1562, 2.1562, 2.1562, 2.1561, 2.1561, 2.156, 2.156, 2.156, 2.156, 2.1557, 2.0516, 2.0461, 1.9109, 1.969, 1.8989, 1.8392, 1.8129, 1.7133, 1.871, 1.8141, 1.889, 1.1779, 1.2801, 0.9071, 0.503, 0.9391, 0.7993, 0.8593, 1.0795, 1.1365, 1.2949, 1.3432, 0.3895, 0.723, 0.2342, -0.0057, 0.3188, 2.2448, 2.2447, 2.2447, 2.2446, 2.2446, 2.2445, 2.2444, 2.2444, 2.2444, 2.2443, 2.2443, 2.2443, 2.2442, 2.2442, 2.2442, 2.2442, 2.2441, 2.2441, 2.2441, 2.244, 2.244, 2.2438, 2.2438, 2.2438, 2.2438, 2.2437, 2.2437, 2.2437, 2.2436, 2.2435, 2.0862, 2.1308, 1.9855, 1.9597, 1.5315, 1.9763, 1.8147, 2.0569, 1.203, 1.466, 0.6606, 1.6088, 1.115, 1.5165, 0.9302, 0.9999, 0.9128, 1.1256, -0.2438, 0.4379, 0.9327, 0.5681, 1.0356, 0.0392, 1.0831, 0.6824, -0.1611, 2.2722, 2.2721, 2.272, 2.272, 2.2719, 2.2719, 2.2718, 2.2718, 2.2718, 2.2718, 2.2718, 2.2718, 2.2717, 2.2717, 2.2717, 2.2716, 2.2716, 2.2714, 2.2714, 2.2713, 2.2713, 2.2713, 2.2712, 2.2711, 2.2711, 2.271, 2.271, 2.2709, 2.2708, 2.2708, 2.0965, 2.0675, 1.979, 2.085, 1.8297, 2.106, 2.167, 2.02, 1.9735, 2.0141, 1.8987, 1.6368, 1.6642, 1.5697, 1.5567, 0.9074, 0.4356, 1.4993, 0.6002, -0.2088, 1.2055, 0.4616, 1.1228, 1.6109, 0.3072, 0.5377, -0.8749, 0.675, 1.5565, 0.8042, 1.4143, 2.4191, 2.419, 2.4189, 2.4188, 2.4188, 2.4187, 2.4187, 2.4187, 2.4186, 2.4186, 2.4185, 2.4185, 2.4184, 2.4184, 2.4184, 2.4183, 2.4183, 2.4182, 2.4182, 2.4182, 2.4182, 2.4181, 2.4181, 2.4181, 2.4181, 2.4181, 2.4181, 2.4181, 2.418, 2.418, 2.3111, 2.3315, 2.2529, 2.2238, 2.2158, 2.3088, 2.1443, 2.2686, 2.1145, 1.5869, 1.6412, 1.2249, 1.6104, 1.7477, 1.2114, 1.966, 1.6329, 1.6741, 0.9971, 1.5842, 0.693, 1.0125, -0.2789, 0.6118, 1.2111, 0.4347, 0.6169, -0.023, 1.0858, -0.9116, 2.6231, 2.623, 2.623, 2.6229, 2.6229, 2.6229, 2.6229, 2.6228, 2.6228, 2.6228, 2.6227, 2.6226, 2.6225, 2.6225, 2.6225, 2.6224, 2.6224, 2.6224, 2.6224, 2.6224, 2.6224, 2.6223, 2.6223, 2.6223, 2.6223, 2.6222, 2.6222, 2.6221, 2.6221, 2.6221, 2.1397, 2.3575, 2.3105, 2.1505, 2.1939, 1.9305, 1.689, 1.7449, 1.952, 1.0244, 1.0895, 1.4778, 0.5309, 1.7328, 0.8441, 2.1915, 1.6754, 1.1743, -0.3573, 1.2823, 0.7789, 1.3568, 0.287, 2.7563, 2.7562, 2.756, 2.756, 2.7558, 2.7558, 2.7557, 2.7557, 2.7557, 2.7556, 2.7556, 2.7555, 2.7555, 2.7554, 2.7554, 2.7553, 2.7552, 2.7552, 2.7552, 2.7551, 2.7551, 2.7551, 2.755, 2.755, 2.7549, 2.7549, 2.7549, 2.7548, 2.7547, 2.7547, 2.6264, 2.5818, 2.4442, 2.3518, 1.9707, 2.3944, 1.9886, 2.2504, 2.1617, 1.6923, 2.3488, 1.7727, 1.9055, 1.9993, 0.1822, 1.7317, 1.6151, 1.1473, 1.4787, 1.6548, 1.0189, 1.3532, 0.1388, 1.5866, -0.4497, 1.0844, 0.6348, 3.3716, 3.3715, 3.3714, 3.3713, 3.3713, 3.3712, 3.3712, 3.3711, 3.371, 3.371, 3.371, 3.3709, 3.3708, 3.3708, 3.3708, 3.3707, 3.3707, 3.3707, 3.3707, 3.3707, 3.3707, 3.3706, 3.3706, 3.3706, 3.3705, 3.3704, 3.3704, 3.3703, 3.3703, 3.3702, 3.1595, 3.0764, 2.8009, 2.6967, 2.9192, 2.8368, 2.1244, 1.518, 1.2575, 1.7186, 1.5117, 1.1292, 1.9102], \"logprob\": [30.0, 29.0, 28.0, 27.0, 26.0, 25.0, 24.0, 23.0, 22.0, 21.0, 20.0, 19.0, 18.0, 17.0, 16.0, 15.0, 14.0, 13.0, 12.0, 11.0, 10.0, 9.0, 8.0, 7.0, 6.0, 5.0, 4.0, 3.0, 2.0, 1.0, -3.8375, -4.9184, -5.3197, -5.3928, -5.4998, -5.7558, -5.9615, -6.0463, -6.0824, -6.2541, -6.4941, -6.6612, -6.6957, -6.7246, -6.7405, -6.7753, -6.7778, -6.8438, -6.9033, -6.9238, -7.0003, -7.0059, -7.0348, -7.0739, -7.1024, -7.1813, -7.241, -7.288, -7.3209, -7.3739, -3.5803, -4.7828, -4.7351, -4.3162, -4.4987, -4.0276, -5.0413, -5.5038, -3.1798, -4.0141, -5.6046, -4.5382, -4.6302, -5.6291, -4.4313, -3.7133, -5.0961, -5.0013, -5.3808, -4.4069, -4.9994, -4.8273, -3.2182, -3.923, -3.0395, -4.2066, -4.1354, -4.5821, -4.7511, -4.327, -3.9676, -4.5582, -4.8355, -4.7963, -4.7573, -4.8298, -4.8404, -4.5055, -4.7426, -4.7544, -4.8151, -4.969, -5.2842, -5.4324, -5.5707, -5.671, -5.6731, -5.7933, -5.815, -5.9605, -5.9826, -6.0056, -6.0758, -6.1316, -6.132, -6.1742, -6.184, -6.3384, -6.3423, -6.3616, -6.4248, -6.4993, -6.4999, -6.5327, -6.5848, -6.6153, -6.6424, -4.8922, -4.2882, -4.2335, -3.8436, -5.5488, -4.6536, -5.2723, -3.6665, -5.121, -3.3039, -4.2678, -2.6559, -4.5117, -5.038, -4.2858, -4.1876, -3.0746, -4.4213, -4.593, -5.1348, -4.7675, -4.0568, -4.7222, -4.3649, -4.438, -3.8039, -4.397, -4.3982, -4.4076, -4.9762, -4.8942, -4.9183, -4.9826, -5.0448, -5.5012, -5.6302, -5.8427, -5.8663, -5.9363, -5.9555, -5.9797, -6.0525, -6.2151, -6.2536, -6.2614, -6.2792, -6.453, -6.4939, -6.5823, -6.6413, -6.6446, -6.6621, -6.6622, -6.7537, -6.7793, -6.7887, -6.8325, -6.8962, -6.9036, -6.9835, -7.0491, -7.0741, -4.641, -3.6863, -4.6171, -6.1521, -3.5281, -4.8963, -5.6333, -4.9391, -4.6888, -3.3223, -5.1597, -3.7053, -3.8523, -4.3433, -4.1818, -3.6657, -4.3832, -4.9236, -4.736, -4.0053, -4.8729, -4.1735, -3.4393, -4.9021, -4.4416, -3.8418, -3.9969, -4.2532, -3.4649, -4.6335, -4.2259, -4.524, -4.477, -4.8059, -4.7283, -4.5009, -4.6543, -4.066, -4.1058, -4.0324, -4.3142, -5.0856, -5.3429, -5.4242, -5.4911, -5.5063, -5.6107, -5.6448, -5.6655, -5.6795, -5.7252, -5.7821, -5.8116, -6.0072, -6.0438, -6.063, -6.0632, -6.087, -6.1236, -6.1579, -6.1715, -6.223, -5.602, -6.2709, -6.278, -6.309, -6.3107, -4.005, -4.4549, -4.6926, -3.6175, -4.2761, -3.8569, -3.7703, -4.2205, -4.2008, -4.8986, -4.8793, -5.3903, -3.8057, -4.1945, -3.4936, -3.1883, -4.0202, -4.0211, -4.1471, -4.4023, -4.5291, -4.8758, -4.9544, -4.325, -4.6329, -4.3718, -4.6582, -4.9343, -3.877, -4.1233, -4.4609, -4.6436, -4.8467, -5.008, -5.1906, -5.2445, -5.2188, -5.4608, -5.5169, -5.5345, -5.602, -5.6584, -5.6822, -5.6831, -5.7524, -5.7704, -5.8205, -5.8323, -5.912, -6.0456, -6.0561, -6.0963, -6.0967, -6.1364, -6.1675, -6.1819, -6.2341, -6.3454, -3.7949, -4.5199, -3.6478, -4.7749, -2.8982, -5.1535, -4.6272, -5.5177, -3.8035, -4.4256, -3.0306, -4.7536, -4.1069, -4.7557, -3.9619, -4.1799, -4.1961, -4.6761, -3.8227, -4.3729, -4.6935, -4.4823, -4.8339, -4.6004, -4.9163, -4.9167, -4.8757, -4.3191, -4.5426, -4.9622, -5.0524, -5.2004, -5.2032, -5.332, -5.335, -5.3869, -5.3898, -5.4539, -5.4918, -5.3972, -5.5352, -5.6352, -5.6999, -5.7663, -5.9035, -5.9858, -6.0162, -6.0402, -6.0514, -6.1392, -6.2127, -6.237, -6.2502, -6.2739, -6.3615, -6.3973, -6.3991, -4.2397, -4.2576, -3.7641, -4.9413, -3.2787, -5.1664, -5.7305, -5.1446, -5.1419, -5.2647, -5.058, -4.4229, -4.6364, -4.5297, -4.5813, -3.7451, -3.1433, -4.8852, -4.3834, -3.9001, -4.8913, -4.5888, -4.8823, -5.0985, -4.6993, -4.7799, -4.7195, -4.9512, -5.1063, -5.0562, -5.1083, -3.8019, -4.1113, -4.697, -4.8127, -4.8701, -5.0667, -5.2148, -5.2343, -5.3074, -5.3816, -5.4608, -5.4978, -5.5576, -5.5738, -5.6522, -5.7203, -5.7329, -5.8035, -5.8108, -5.8331, -5.8351, -5.9104, -5.9189, -5.9271, -5.9312, -5.9551, -5.967, -5.9744, -6.0032, -6.0072, -4.1117, -5.0061, -4.4282, -4.4071, -4.4395, -5.1632, -4.4846, -5.1506, -4.6728, -3.9682, -4.2091, -3.381, -4.2137, -4.5144, -3.5994, -4.9718, -4.6039, -4.683, -3.9621, -4.6255, -3.7367, -4.0622, -3.8578, -4.3044, -4.6584, -4.3857, -4.492, -4.6626, -4.8664, -4.7562, -4.247, -4.39, -4.5605, -4.618, -4.7271, -4.7514, -4.8122, -4.8817, -4.9895, -5.029, -5.1791, -5.334, -5.3714, -5.3967, -5.471, -5.488, -5.4909, -5.4916, -5.5447, -5.5649, -5.5789, -5.585, -5.5884, -5.6188, -5.6392, -5.7436, -5.7544, -5.7947, -5.8106, -5.8215, -3.6103, -4.6974, -4.832, -4.6078, -4.7228, -4.1662, -3.9373, -4.3778, -4.7108, -3.5816, -3.7309, -4.1878, -3.1604, -4.5055, -3.5566, -5.0385, -4.5311, -4.1816, -4.2019, -4.8884, -4.8243, -4.9409, -4.9349, -4.1679, -4.1964, -4.756, -4.8073, -5.1747, -5.1806, -5.2393, -5.2879, -5.3318, -5.3435, -5.3895, -5.5009, -5.526, -5.5869, -5.6115, -5.6813, -5.7327, -5.752, -5.7946, -5.8139, -4.6837, -5.8642, -5.8896, -5.8973, -5.9448, -5.9536, -5.9759, -6.0176, -6.0633, -6.0851, -3.584, -4.7906, -4.5347, -4.631, -3.8896, -5.0075, -4.7349, -5.1324, -5.0201, -4.4456, -5.3051, -4.6451, -4.8401, -5.0822, -3.6624, -4.9331, -4.9075, -4.7016, -4.9059, -4.9947, -4.7909, -5.0072, -4.8205, -5.0858, -4.8505, -5.0808, -5.1153, -3.2984, -3.4829, -3.9039, -4.1255, -4.222, -4.2619, -4.402, -4.4276, -4.5978, -4.6224, -4.6691, -4.7296, -4.819, -4.8783, -4.8889, -4.9149, -4.9243, -4.9293, -4.9418, -4.9502, -4.9999, -5.0186, -5.0675, -5.0677, -5.1167, -5.2359, -5.2376, -5.2566, -5.2752, -5.3281, -3.9966, -4.0892, -4.7571, -4.8039, -4.9629, -4.9169, -4.548, -4.3515, -4.3757, -4.5536, -4.5851, -4.6208, -4.8133]}, \"token.table\": {\"Topic\": [3, 4, 5, 9, 1, 2, 3, 4, 5, 6, 7, 1, 2, 3, 5, 6, 7, 9, 1, 2, 1, 2, 6, 1, 4, 5, 2, 7, 6, 3, 2, 4, 2, 2, 3, 4, 7, 8, 9, 10, 9, 8, 10, 1, 2, 9, 5, 10, 3, 4, 5, 7, 9, 1, 2, 3, 4, 6, 5, 3, 7, 1, 6, 9, 8, 2, 5, 8, 10, 7, 1, 3, 5, 7, 3, 1, 3, 5, 8, 3, 4, 6, 8, 9, 10, 1, 3, 7, 1, 3, 5, 6, 7, 1, 2, 4, 3, 1, 3, 4, 5, 6, 7, 10, 4, 7, 7, 1, 2, 4, 5, 6, 7, 8, 1, 5, 6, 2, 1, 6, 9, 5, 1, 10, 2, 4, 7, 5, 7, 8, 2, 9, 6, 2, 7, 1, 6, 7, 8, 4, 9, 9, 6, 1, 3, 1, 6, 7, 9, 3, 10, 1, 2, 3, 6, 8, 4, 2, 4, 9, 7, 1, 3, 5, 6, 7, 3, 1, 3, 5, 6, 3, 7, 8, 2, 4, 10, 9, 2, 4, 7, 8, 9, 1, 7, 7, 1, 2, 3, 7, 3, 1, 3, 7, 5, 1, 1, 2, 3, 5, 9, 2, 5, 6, 7, 9, 4, 1, 2, 3, 9, 1, 4, 3, 1, 3, 6, 1, 3, 1, 2, 6, 2, 4, 5, 9, 6, 7, 1, 5, 6, 1, 3, 7, 3, 5, 8, 6, 7, 10, 1, 3, 1, 1, 9, 1, 6, 1, 2, 7, 6, 6, 10, 1, 2, 3, 4, 5, 6, 7, 7, 2, 1, 3, 4, 5, 6, 7, 8, 6, 3, 7, 3, 4, 6, 7, 4, 6, 7, 7, 2, 6, 1, 9, 9, 6, 9, 10, 2, 7, 9, 5, 3, 1, 8, 1, 2, 3, 4, 8, 4, 8, 2, 1, 2, 3, 4, 5, 6, 7, 8, 9, 10, 9, 1, 7, 7, 8, 1, 2, 3, 4, 5, 6, 8, 9, 10, 2, 2, 9, 1, 9, 1, 7, 9, 7, 10, 1, 6, 2, 3, 4, 7, 8, 2, 3, 4, 10, 1, 2, 3, 4, 5, 6, 7, 8, 9, 10, 2, 1, 2, 3, 4, 5, 6, 1, 8, 9, 2, 1, 2, 3, 4, 6, 7, 9, 8, 2, 1, 2, 5, 9, 2, 4, 9, 2, 6, 2, 4, 8, 10, 5, 10, 4, 7, 4, 3, 6, 8, 10, 3, 5, 3, 5, 8, 3, 1, 2, 3, 4, 6, 7, 8, 2, 3, 8, 1, 4, 5, 3, 1, 2, 3, 4, 6, 7, 8, 9, 10, 2, 9, 4, 4, 6, 8, 2, 10, 2, 3, 9, 7, 8, 1, 2, 5, 8, 1, 6, 6, 2, 2, 1, 5, 6, 10, 7, 5, 5, 4, 8, 10, 1, 3, 7, 3, 8, 1, 10, 4, 9, 1, 7, 9, 5, 2, 2, 4, 5, 7, 8, 9, 5, 6, 8, 9, 10, 1, 4, 10, 4, 6, 2, 3, 4, 6, 10, 1, 2, 3, 4, 6, 9, 8, 10, 6, 6, 5, 9, 7, 1, 3, 7, 3, 1, 4, 5, 6, 7, 8, 4, 7, 1, 5, 4, 9, 8, 6, 10, 1, 2, 4, 1, 2, 3, 4, 5, 6, 8, 9, 10, 3, 1, 6, 6, 9, 10, 1, 2, 3, 4, 5, 8, 1, 4, 3, 6, 2, 4, 8, 1, 2, 6, 1, 6, 4, 5, 3, 4, 7, 8, 9, 10, 1, 2, 3, 4, 7, 9, 10, 9, 9, 3, 4, 5, 6, 1, 2, 3, 4, 5, 6, 7, 9, 9, 1, 6, 7, 1, 2, 3, 4, 7, 2, 4, 3, 8, 2, 4, 7, 3, 4, 7, 8, 9, 10, 5, 4, 10, 7, 3, 2, 4, 2, 4, 4, 9, 1, 3, 5, 6, 7, 10, 6, 1, 5, 5, 2, 4, 5, 4, 5, 8, 7, 1, 3, 1, 1, 9, 2, 9, 3, 2, 10, 1, 5, 6, 1, 6, 6, 8, 3, 4, 3, 8, 4, 1, 5, 9, 10, 2, 8, 8, 5, 7, 10, 10, 2, 1, 2, 3, 5, 6, 7, 10, 10, 2, 9, 6, 4, 3, 10, 10, 9, 9, 1, 2, 5, 6, 4, 4, 3, 1, 2, 3, 4, 5, 6, 7, 9, 6, 5, 7, 2, 9, 5, 8, 5, 3, 1, 2, 4, 7, 9, 10, 8, 5, 6, 7, 1, 7, 9, 10, 5, 1, 6, 4, 7, 9, 10, 9, 2, 4, 3, 7, 8, 3, 10, 3, 8, 4, 6, 8, 5, 7, 7, 9, 5, 3, 9, 4, 3, 4, 5, 8, 10, 8, 1, 3, 6, 8, 1, 2, 5, 6, 7, 8, 1, 3, 7, 8, 9, 5, 4, 1, 2, 3, 4, 5, 6, 7, 1, 2, 4, 5, 6, 6, 5, 8, 10, 5, 4, 2, 4, 10, 10, 5, 7, 1, 2, 7, 5, 2, 4, 5, 4, 1, 1, 2, 3, 4, 6, 7, 2, 1, 5, 10, 8, 2, 2, 4, 3, 6, 1, 3, 5, 6, 7, 3, 4, 7, 8, 6, 8, 10, 1, 10, 6, 1, 2, 3, 5, 6, 7, 1, 4, 3, 6, 7, 9, 1, 3, 7, 10, 2, 3, 4, 6, 2, 9, 10, 8, 9, 2, 3, 4, 5, 6, 7, 1, 9, 6, 7, 1, 10, 1, 1, 6, 1, 5, 6, 9, 1, 6, 9, 5, 1, 6, 8, 10, 7, 2, 7, 9, 9, 7, 10, 1, 2, 3, 4, 5, 6, 7, 9, 10, 6, 1, 9, 9, 2, 1, 2, 3, 6, 10, 6, 5, 1, 9, 2, 1, 2, 5, 2, 4, 8, 5, 6], \"Freq\": [0.6406236541175149, 0.26403234862714037, 0.0016737391355127755, 0.09352017419677633, 0.15099338715667263, 0.5459996653900273, 0.020837936622530202, 0.17072083812847239, 0.09017796710784623, 0.006760897932388326, 0.014534297487501475, 0.15049373798117596, 0.2701353628124565, 0.14870001047246112, 0.0019731002595863357, 0.04394632396351384, 0.010941737803160588, 0.37381281281617484, 0.08185505496408098, 0.917501913553085, 0.7176571431688575, 0.14952728829271905, 0.13276546387669574, 0.20322129989071025, 0.1462605377151947, 0.6504551551655644, 0.9998883429665967, 0.9993412131634872, 0.9986957825689531, 0.9995096232384768, 0.21830982949384206, 0.7816258412498971, 0.9998675845439412, 0.027835955778087132, 0.3205237055331528, 0.14615341833799855, 0.3029138008777524, 0.20211833995499479, 5.860201216439396e-05, 0.00035161207298636376, 0.998920098599059, 0.41408168025947373, 0.5859903844199142, 0.20482527378386348, 0.7947220622813902, 0.9992694840490349, 0.8286722266681692, 0.17109543565068877, 0.6351890580900476, 0.16034902932240616, 0.1140547127922276, 0.0876747111940253, 0.0023276471998413795, 0.24249203998437874, 0.32105420754209474, 0.13455860613608805, 0.12542485869206788, 0.17646638852629826, 0.9989541927462054, 0.9988094182531897, 0.9987845139435416, 0.6314552981213719, 0.3681168565398847, 0.00034810104637341343, 0.9992464888383513, 0.9997520496320219, 0.9994497174562709, 0.998199073416172, 0.9981447007385423, 0.9989597627869122, 0.16693233193223542, 0.5877516494848299, 0.0002809520313025, 0.24494334595722958, 0.9994238470354323, 0.5811909733839451, 0.24865804058468555, 0.14496062561200485, 0.025216406501809216, 0.014534369435653009, 0.00036795871988994956, 0.14249201427738298, 0.6165148351756105, 0.11986255300415107, 0.10615609068825045, 0.5246691948214725, 0.3112214118090358, 0.16406151198971639, 0.41698068914890934, 0.24117992460814427, 0.28793876701114657, 0.04306598610643594, 0.010818508587124005, 0.9982946971177915, 0.24861390171386338, 0.7509414774844386, 0.999405044099702, 0.3685139899323286, 0.08838180477498295, 0.11521080077405044, 0.1371557152072029, 0.08195890298967003, 0.15381511671285827, 0.05499609653674185, 0.9993408637019937, 0.9986597408617791, 0.9996056974733862, 0.24223925058643847, 0.0865308823975923, 0.2680922700203712, 0.3129513904993413, 0.013457736143691026, 0.06008761137840993, 0.01652704438698898, 0.9995217252607951, 0.227429271643795, 0.7722411835666173, 0.9980175473196463, 0.2595684394569412, 0.4615321182857377, 0.27865435412289274, 0.9989197961251343, 0.9984229060276898, 0.9986933100008454, 0.46839729936157315, 0.07230362133002138, 0.45934663508819495, 0.998830954267564, 0.9994679925629304, 0.9996855905684585, 0.9992331003334859, 0.9998382508664189, 0.9995210393740703, 0.99932128543146, 0.9998310398494545, 0.9999503171536485, 0.9990712536272978, 0.2333421386434099, 0.7665017926367825, 0.2681436048688001, 0.7318151373207112, 0.9981354056120412, 0.9996324858472633, 0.5114269920609743, 0.4884314426369188, 0.8616305421790359, 0.13803392072334167, 0.9987552031125803, 0.9991033080707432, 0.997060317254616, 0.999654630409951, 0.2894801777037948, 0.5515800792555907, 0.0746333333820615, 0.018989546363483104, 0.06524896453964253, 0.9992690210495186, 0.16284010241249955, 0.8283867675089991, 0.008602303834580606, 0.9993194258693163, 0.10450409200875421, 0.2253446252929719, 0.4899949739554799, 0.0021863808624304477, 0.17795666255557488, 0.9981233366458958, 0.3679339177138627, 0.42228149919514063, 0.20963768693651605, 7.910856110811927e-05, 0.9996254571602462, 0.9987951869223536, 0.9992962946770204, 0.27238847828951823, 0.7275681683889332, 0.9994823206054712, 0.9986747520132305, 0.14752755463765604, 0.6414901310401532, 0.11479182980255528, 0.09571405638872173, 0.00032518931955398097, 0.08369662508989426, 0.9161630574356168, 0.9994020318276363, 0.074495693246829, 0.18740728405648271, 0.0005191337508489826, 0.7374294930809797, 0.999228730936026, 0.2503917404886205, 0.7367027183596251, 0.012903195540499941, 0.9998610413787687, 0.9987293388693417, 0.3285355257659893, 0.20941004886610767, 0.25483099093553624, 0.019366597998928124, 0.18781420217665545, 0.06433369539111189, 0.10735560933687094, 0.4240446981042639, 0.0848487747263581, 0.3192783706252395, 0.9995169516058994, 0.7077559957971702, 0.1654438727273288, 0.02213080375443489, 0.10442301577335299, 0.9981291048137301, 0.9989854000658714, 0.9991495551608116, 0.7213912044324304, 0.2783091168028263, 0.00029111832301550864, 0.9980283322457054, 0.9987026224866327, 0.9989619663194217, 0.8425339214967358, 0.15739348269356343, 0.48253999890236776, 0.41598034932153743, 0.10134108241530404, 0.00013968446921475402, 0.9979693509554078, 0.9987914909603645, 0.6203429786816561, 0.32654218943408225, 0.0530836902432148, 0.5269318229206571, 0.446069228333473, 0.02690066453496192, 0.9984274990407935, 0.9990262625037946, 0.9993677423845265, 0.9990888228620788, 0.822579972494433, 0.17734522342769887, 0.8696229515620533, 0.13009382707456024, 0.9968521327979385, 0.5308630263631378, 0.46885933955694453, 0.8248340915725133, 0.1748764858457625, 0.9988425005031178, 0.1039802685393392, 0.8956716200913376, 0.9995258425153902, 0.9984842857155822, 0.9987631644374242, 0.22003538332404554, 0.21828009308302762, 0.12485964581107424, 0.10383516936865968, 0.26855940687574076, 0.02164857963922093, 0.04279007543103669, 0.9990584077035031, 0.9981188985219651, 0.05666272356916722, 0.1824698196056049, 0.16127082861993747, 0.10371655870090572, 0.05052095982565608, 0.44537693211009755, 0.9998624681720278, 0.9986164870575744, 0.7128015365493638, 0.2869054071995249, 0.8137730657965355, 0.0005918349569429349, 0.14361861621815222, 0.04202028194294838, 0.3792601463610674, 0.16508442834895712, 0.45544144647858253, 0.9984620543637179, 0.25800333853420593, 0.741579428356698, 0.9972898897170317, 0.9993796931470353, 0.9990782676267352, 0.9991793318012528, 0.8395635967578167, 0.15980594544280305, 0.2293110702149312, 0.6357347696616579, 0.13487111629746612, 0.999820569730641, 0.9992036272695802, 0.9981506709886092, 0.9995974573065829, 0.0743748256116189, 0.18546971772807658, 0.32447186038821174, 0.00013352751456305008, 0.41540409780564885, 0.9991773117772647, 0.9997504540221136, 0.9994598761036371, 0.05362347246336875, 0.040330960597727276, 0.36803791380955625, 0.286469142612496, 0.028350994787041423, 7.159342117939754e-05, 0.012624306601300431, 0.16876955819356645, 0.04049801191381254, 0.0011932236863232922, 0.9996769435830398, 0.8211055173178957, 0.1787347291698245, 0.9984286831365242, 0.9994978723916704, 0.11952837425419847, 0.11902358933051643, 0.15697637208084286, 0.19123131178559155, 0.20509528841044014, 0.08364168793568691, 0.12339056587957967, 0.0010330482159074314, 8.217428990172749e-05, 0.9977868922820121, 0.5728084873929172, 0.4269302720029783, 0.0009958430769645109, 0.9983326846569222, 0.006646177014231654, 0.759658032726678, 0.23350235243333875, 0.9993502824993482, 0.9997964012276847, 0.999604369141913, 0.9992224169961123, 0.6510383981062023, 0.04673059936548431, 0.15905193221162442, 0.09704294526916142, 0.04611498667923242, 0.9248313132332849, 0.07501559993136747, 0.49047505646703227, 0.5090135305235616, 0.2947689108216884, 0.28769456642957936, 0.18772327024244467, 0.018075839346181895, 0.000779956731818598, 0.04296603750719996, 0.0357685420521722, 0.05076560482538594, 0.07620314104382056, 0.00526812880263439, 0.998930790968524, 0.14195629855588854, 0.46070340036542173, 0.04576297675979727, 0.09357504203122725, 0.24099557661813636, 0.016848061095646755, 0.9978161502514696, 0.9983431483376692, 0.9979476843297598, 0.9989805583631436, 0.2181928440351849, 0.17018305111579418, 0.2411233525459169, 0.11499020733761996, 0.2553973638678585, 6.139359708361984e-05, 6.139359708361984e-05, 0.9989832296598885, 0.9992998937948273, 0.13480914817298978, 0.3100949124431461, 0.3092481213114062, 0.2457387864309148, 0.2901681895974478, 0.7095888219553222, 0.9991803480513801, 0.5047188884906162, 0.4951958905945668, 0.26249308894285245, 0.36030452337340974, 0.3180351048640937, 0.05909264707602379, 0.4347678212459699, 0.5649176722512151, 0.9991423199538508, 0.9997299600367958, 0.9989969443549847, 0.4838016812357808, 0.5162151933781284, 0.9982129714464442, 0.998610240614466, 0.996815305878421, 0.9994157582484445, 0.16666172193324122, 0.20977693290235508, 0.6232795410271896, 0.9990028754826434, 0.09683366349056724, 0.0002251945662571331, 0.3938652963837258, 0.10696741897213823, 0.08039446015379652, 0.2635902398039743, 0.05798760081121177, 0.9992892260221673, 0.5893987738978267, 0.41042061112213873, 0.27237966979094197, 0.19804802158631107, 0.5293160062790954, 0.9974931845152015, 0.06885030184173639, 0.14883384398128546, 0.26426796706913286, 0.2538183467896069, 9.766000261239204e-05, 0.07676076205334015, 0.002050860054860233, 0.17598332470753048, 0.009277700248177244, 0.8218562429154793, 0.17802145607788583, 0.9993292508310063, 0.9994277955881213, 0.3503839800438984, 0.6494429710848267, 0.998697395507809, 0.9985487587392109, 0.12157587346903899, 0.0004373232858598525, 0.8779993835779638, 0.9992930412465428, 0.9994784021423799, 0.7996232660039931, 0.19980239911015452, 0.999391912554356, 0.9990217656530925, 0.9990643951971439, 0.9977277020524355, 0.9994457457693474, 0.9998458681270493, 0.9995801682036404, 0.08663971503150496, 0.7644035617336576, 0.14842077764890724, 0.9998753323536544, 0.9993183185104383, 0.9991483768152557, 0.99862790172616, 0.2525801203133203, 0.6508000059067188, 0.09630540259899698, 0.00033759616864386446, 0.5247932441568873, 0.4746602131132734, 0.8996095068765404, 0.0998467694445391, 0.25537646925697405, 0.7441533911286307, 0.9998915368392786, 0.9993993828127297, 0.11613604926819132, 0.18764130274323476, 0.6963363945791141, 0.9991424092642108, 0.9997442916836765, 0.4611966060163032, 0.11772361711441932, 0.21959333736815753, 0.008517253100685065, 0.12269904219303733, 0.07033058500961728, 0.2691893904976338, 0.2024609818024172, 0.39281169211203626, 0.1000519745478826, 0.03543676758966435, 0.9989666317290065, 0.9998740029638488, 0.9991107682311146, 0.25423219948873366, 0.7457051543034613, 0.655578189322302, 0.2679574905964616, 0.07634953156721098, 0.1910249223619448, 0.8087597400589214, 0.21437988068708944, 0.0017264130609571389, 0.29826324470771276, 0.21854358277528016, 0.06702544824892422, 0.20006080765209197, 0.99855643744041, 0.9985297182518631, 0.999814878050368, 0.9993667106427084, 0.4482250767974508, 0.5518097380161057, 0.9988303692524936, 0.9991323132267511, 0.15309934914080198, 0.8467140833579719, 0.9993455470561398, 0.0780973884981376, 0.44313508015440195, 0.013519914505787567, 0.013838030141217863, 0.16971469150206275, 0.281850452991242, 0.9998718456920649, 0.9990037606133503, 0.8284895006140517, 0.1714545667714732, 0.9991737286039621, 0.9995744888152903, 0.9987362198939742, 0.36302672777693085, 0.6360724717459045, 0.17922721131936056, 0.8207636138073979, 0.9996850745101878, 0.05074895460574386, 0.0006888998362770659, 0.43377726357579255, 0.11872040511841436, 0.000229633278759022, 0.029622692959913835, 0.007348264920288704, 0.35891681470035136, 0.9994206650729817, 0.9985197507976132, 0.9985421350254762, 0.9994757168663493, 0.8996336091621061, 0.09925904969739525, 0.9990760277463866, 0.008657726073788728, 0.212471717865916, 0.30024040879744396, 0.1768876694158486, 0.14352762399391036, 0.15814250103590236, 0.9979556987131716, 0.9988847719961832, 0.998254887539694, 0.9996702224818769, 0.9994350244445535, 0.9989937950460636, 0.0006851809293868748, 0.8387477681730064, 0.10315633470633528, 0.05784467366710389, 0.1850722236476791, 0.8146774650498101, 0.999806716386325, 0.9997408308975728, 0.40500132334775685, 0.2383236459338462, 0.08889062587798063, 0.23478787086403122, 0.03219416247778922, 0.0007443736989084213, 0.007133633429205536, 0.0017938376459405733, 0.378666611911688, 0.2957746258074108, 0.24120858764717196, 0.0729633033197689, 0.002419594964291936, 0.9997765810194744, 0.9992957381134184, 0.31880774698922537, 0.00019371578124820012, 0.03859786941370388, 0.6423615306190317, 0.07229419801279577, 0.10113617648701063, 0.12959965130670822, 0.19227985649476573, 0.05056808824350532, 0.0014383138871655705, 0.43505210050213333, 0.017713971031407552, 0.9991472922702476, 0.1707506058589125, 0.8290304512261871, 0.9995641887696071, 0.13970345461389114, 0.2432792171065675, 0.1748114134897491, 0.008303542140763082, 0.433823657810394, 0.10015487864351338, 0.899629927541539, 0.999562525792123, 0.9988659589919893, 0.060392356365041595, 0.042004235919566243, 0.8975926637060959, 0.38175573971016463, 0.2571786098884436, 0.1374669232017009, 0.21571341540974776, 0.006608288437060106, 0.001270824699434636, 0.9991435911707138, 0.9983821330142195, 0.9984732964292804, 0.9994630376667895, 0.9979854340207331, 0.22761695537116367, 0.772324685562237, 0.2912667015313474, 0.7086879115246999, 0.9993669115392559, 0.9980156743660662, 0.07360193496181111, 0.1694917798064242, 0.29845066303528756, 0.003006276216750031, 0.2987616571266755, 0.15663735736238957, 0.9988597853609501, 0.9995630913641051, 0.9992791916898865, 0.9997163290493328, 0.0013871661654571714, 0.9984822058960721, 0.9996277018735762, 0.1466167637192665, 0.8532718094563321, 0.9998077778469274, 0.9987006397801524, 0.2851667589275297, 0.7148180090450078, 0.9990985047864869, 0.33463516634530244, 0.6649484762986915, 0.999188646418879, 0.9976754232966136, 0.9989206237934232, 0.9993278308505703, 0.9981151002982089, 0.9998840919340121, 0.9997719758145321, 0.9997329117604021, 0.15304455136030065, 0.8465935513264014, 0.9981613827475941, 0.9990842151274015, 0.9979072848984296, 0.9986711796995441, 0.7924683413638656, 0.2067984749536837, 0.9982103047765022, 0.15525471545629624, 0.2471118272836429, 0.3105094309125925, 0.2871402412537461, 0.999490549310268, 0.9994351530715414, 0.9994656787368635, 0.7714565131136002, 0.10771742931114035, 0.12073192115040428, 0.9996227937266581, 0.9995808502756661, 0.2082812194692629, 0.06826430291514106, 0.2945200123641891, 0.263900396010485, 4.844876005332935e-05, 0.1649195792215331, 4.844876005332935e-05, 0.9982904463138613, 0.87114258479602, 0.12833963561877126, 0.9990214700563883, 0.9988597861569227, 0.997218676287738, 0.9987441745210172, 0.9988016953840418, 0.9984468397928604, 0.9989055340039213, 0.39341308610100845, 0.2560452458385353, 0.18695004474842905, 0.16355272797717613, 0.9996375159491966, 0.9988241231310555, 0.998939974939356, 0.39607129513819145, 0.29294245518674805, 0.08713122047845617, 0.04773243205544802, 0.07001748801898143, 0.07645373957439258, 0.0295025866094858, 0.00014881506486499774, 0.9995828607514238, 0.13963593758037465, 0.8602745525056649, 0.9987910922696711, 0.9986981433755492, 0.9997316302394013, 0.9990099470450761, 0.999404445381744, 0.9990158516309173, 0.21545043042542159, 0.49022779096798824, 0.16299293432184067, 0.0597953006180699, 0.06885046363594993, 0.0026540995052407004, 0.9986613043833088, 0.9990327575794297, 0.9996513936472237, 0.9987254924914147, 0.9996510173786267, 0.9996743002733351, 0.9986125420303192, 0.9987523666802292, 0.9989367927318176, 0.6830905282819982, 0.316733668657694, 0.23231388295740463, 0.07183710217236307, 0.4638972191130564, 0.23182685175623607, 0.9986190597153516, 0.9994952501542503, 0.9989303091028909, 0.999100340947251, 0.999232393344509, 0.9997470272210832, 0.9990527599076733, 0.9983613085633528, 0.9994464531473147, 0.9995572590702302, 0.13005537264059688, 0.6880943829069878, 0.18170857028508927, 0.8921121946773649, 0.1075515970740478, 0.9998407218092471, 0.9977266545960717, 0.9994815908410541, 0.9990503143436855, 0.9979339332148235, 0.9996102052420468, 0.29969548920601924, 0.3123280025591799, 0.0002904026058197861, 0.38754227746650455, 0.9995147342685081, 0.9983672115412642, 0.26674970431016315, 0.1887349881572506, 0.5443480808051894, 0.9986636522981773, 0.18743029312699772, 0.31388471086333103, 0.32305279177171387, 0.010090313899166882, 0.06884198031205792, 0.09667171703395366, 0.9994259126463617, 0.9995746228414044, 0.26843339601988725, 0.7312495960541755, 0.999153434654768, 0.9986172645952343, 0.9987172944334546, 0.1435942167446284, 0.11964386654379632, 0.2246514079648619, 0.04657012539050683, 0.1641641871873851, 0.0025173040751625313, 0.29883995520858053, 0.19438527428511768, 0.03957675438200933, 0.2731014708460202, 0.3527797542537782, 0.14011482987840654, 0.9994065373321142, 0.9986162020442325, 0.9988353957610535, 0.9984975279036573, 0.9993995824938352, 0.9993250193284035, 0.9996153364803181, 0.8947504884195023, 0.10507569980057709, 0.9992373469969721, 0.7517345638936306, 0.2479517542878762, 0.7721597988595493, 0.16580217184813975, 0.062004697582840024, 0.999380218382756, 0.2894319676655004, 0.25159703084507434, 0.4588943317435433, 0.999540224777985, 0.9993962888073015, 0.16653506752055997, 0.04133455089640182, 0.2077413829953597, 0.3755588047319404, 0.18782214750650422, 0.020987864002206095, 0.999845090970618, 0.32580143836772546, 0.4827319741260016, 0.19151107871686862, 0.9990267711322944, 0.9984743401415781, 0.9984968820907638, 0.9996244138984149, 0.47028914953541745, 0.529592473377127, 0.6783604141415625, 0.12336305038730906, 0.11018129481902622, 0.0011515096818270067, 0.08696928386430287, 0.2993859437058235, 0.42211036424223036, 0.016811564457042034, 0.26155992367747893, 0.3440262425509482, 0.5001652331187009, 0.1556185272658601, 0.997696149971902, 0.9992607228464716, 0.9996640855283071, 0.23222039837401093, 0.503868376513533, 0.05407210939270109, 0.19609186099704248, 0.013598491796676314, 0.9987893823229126, 0.9112848831873598, 0.08858028824590847, 0.20349297522932264, 0.2303035085634232, 0.11032380383457471, 0.45577906667970947, 0.0013814540234623922, 0.4876532702822245, 0.5109844937895893, 0.9995330933174303, 0.6028882405504129, 0.39297420447420267, 0.004065902500575244, 0.9995417507626015, 0.6673939238636927, 0.33222693126254305, 0.9990562079872395, 0.9997316326259365, 0.9988427271211964, 0.023074574584509455, 0.35420878973477166, 0.3403499751215145, 0.11889033856042981, 0.13781430369223788, 0.025536800531027234, 0.3968856795708487, 0.6026259428833765, 0.7770186014741032, 0.2229244794292483, 0.9983360879483971, 0.998843502441707, 0.9984375618434986, 0.9996339549367772, 0.9993968728603422, 0.10860275047957958, 0.05748759825635673, 0.488780169137184, 0.3450611734962922, 0.005786244359785038, 0.8386747896339857, 0.15540199137708388, 0.9990261559252396, 0.9989309226599602, 0.48881402487337844, 0.5110432608849667, 0.9991545984691883, 0.9993118511516829, 0.7931086886570882, 0.15228924019677872, 0.05453436180216021, 0.9987439156981354, 0.8158015060819793, 0.18399314703661035, 0.27022814728160816, 0.3352725805895502, 0.04977997355583627, 0.024758848807539223, 0.08301558076866858, 0.15932738849156702, 0.06733147951135031, 0.009872066410124749, 0.00040915046758221595, 0.997630810176774, 0.3326472402219629, 0.6671881079973715, 0.9991441949867953, 0.9986648983213849, 0.6793519521507877, 0.24435444573455653, 0.072866288638006, 0.0033650506298191045, 0.9986698737224967, 0.9988616412924354, 0.9995501199748831, 0.9283673236874221, 0.07156048717627926, 0.9994484536651403, 0.6838253121473387, 0.1404654975807896, 0.17558187197598701, 0.050938720859585146, 0.7645053022342737, 0.1842283737754996, 0.9995681728239776, 0.9994434810777336], \"Term\": [\"accent\", \"accent\", \"accent\", \"accent\", \"acidity\", \"acidity\", \"acidity\", \"acidity\", \"acidity\", \"acidity\", \"acidity\", \"add\", \"add\", \"add\", \"add\", \"add\", \"add\", \"add\", \"aftertaste\", \"aftertaste\", \"age\", \"age\", \"age\", \"alcohol\", \"alcohol\", \"alcohol\", \"almond\", \"alongside\", \"american\", \"appeal\", \"apple\", \"apple\", \"apricot\", \"aroma\", \"aroma\", \"aroma\", \"aroma\", \"aroma\", \"aroma\", \"aroma\", \"asian\", \"astringent\", \"astringent\", \"attractive\", \"attractive\", \"background\", \"bacon\", \"bacon\", \"bake\", \"bake\", \"bake\", \"bake\", \"bake\", \"balance\", \"balance\", \"balance\", \"balance\", \"balance\", \"barbecue\", \"barbera\", \"barolo\", \"barrel\", \"barrel\", \"barrel\", \"basic\", \"beautifully\", \"beef\", \"beer\", \"bell\", \"benefit\", \"berry\", \"berry\", \"berry\", \"berry\", \"best\", \"big\", \"big\", \"big\", \"big\", \"bite\", \"bite\", \"bite\", \"bite\", \"bite\", \"bite\", \"black\", \"black\", \"black\", \"blackberry\", \"blackberry\", \"blackberry\", \"blackberry\", \"blackberry\", \"blackcurrant\", \"blanc\", \"blanc\", \"blast\", \"blend\", \"blend\", \"blend\", \"blend\", \"blend\", \"blend\", \"blend\", \"blossom\", \"blue\", \"boast\", \"bodied\", \"bodied\", \"bodied\", \"bodied\", \"bodied\", \"bodied\", \"bodied\", \"bold\", \"bordeaux\", \"bordeaux\", \"botrytis\", \"bottle\", \"bottle\", \"bottle\", \"brambly\", \"brand\", \"briary\", \"bright\", \"bright\", \"bright\", \"brown\", \"brunello\", \"burn\", \"burst\", \"butter\", \"butterscotch\", \"buy\", \"cab\", \"cabernet\", \"california\", \"candied\", \"candied\", \"caramel\", \"caramel\", \"caramelized\", \"case\", \"cassis\", \"cassis\", \"cellar\", \"cellar\", \"cellaring\", \"central\", \"chablis\", \"char\", \"character\", \"character\", \"character\", \"character\", \"character\", \"chard\", \"chardonnay\", \"chardonnay\", \"chardonnay\", \"cheese\", \"cherry\", \"cherry\", \"cherry\", \"cherry\", \"cherry\", \"chilean\", \"chocolate\", \"chocolate\", \"chocolate\", \"chocolate\", \"chocolaty\", \"chop\", \"chunky\", \"citrus\", \"citrus\", \"class\", \"classy\", \"clean\", \"clean\", \"clean\", \"clean\", \"clean\", \"cleave\", \"cleave\", \"climate\", \"close\", \"close\", \"close\", \"close\", \"coconut\", \"coffee\", \"coffee\", \"coffee\", \"colon\", \"combination\", \"come\", \"come\", \"come\", \"come\", \"come\", \"complexity\", \"complexity\", \"complexity\", \"complexity\", \"complexity\", \"component\", \"concentrate\", \"concentrate\", \"concentrate\", \"concentrate\", \"considerable\", \"continue\", \"control\", \"core\", \"core\", \"core\", \"couple\", \"cover\", \"cracker\", \"creamy\", \"creamy\", \"crisp\", \"crisp\", \"crisp\", \"crisp\", \"cru\", \"cure\", \"currant\", \"currant\", \"currant\", \"dark\", \"dark\", \"dark\", \"decade\", \"decant\", \"decent\", \"definitely\", \"deliver\", \"deliver\", \"dense\", \"dense\", \"densely\", \"depth\", \"depth\", \"develop\", \"develop\", \"develope\", \"dish\", \"dish\", \"doe\", \"dominant\", \"dre\", \"drink\", \"drink\", \"drink\", \"drink\", \"drink\", \"drink\", \"drink\", \"drinkable\", \"drop\", \"dry\", \"dry\", \"dry\", \"dry\", \"dry\", \"dry\", \"dusty\", \"early\", \"earth\", \"earth\", \"earthy\", \"earthy\", \"earthy\", \"earthy\", \"easy\", \"easy\", \"easy\", \"easygoing\", \"elegance\", \"elegance\", \"elevate\", \"enjoyable\", \"especially\", \"example\", \"excellent\", \"excellent\", \"exotic\", \"exotic\", \"exotic\", \"expression\", \"expressive\", \"extraction\", \"fairly\", \"feel\", \"feel\", \"feel\", \"feel\", \"feel\", \"ferment\", \"fig\", \"final\", \"finish\", \"finish\", \"finish\", \"finish\", \"finish\", \"finish\", \"finish\", \"finish\", \"finish\", \"finish\", \"finishes\", \"firm\", \"firm\", \"firmly\", \"flat\", \"flavor\", \"flavor\", \"flavor\", \"flavor\", \"flavor\", \"flavor\", \"flavor\", \"flavor\", \"flavor\", \"flesh\", \"floral\", \"floral\", \"focus\", \"focus\", \"follow\", \"follow\", \"follow\", \"forest\", \"forward\", \"franc\", \"french\", \"fresh\", \"fresh\", \"fresh\", \"fresh\", \"fresh\", \"freshness\", \"freshness\", \"friendly\", \"friendly\", \"fruit\", \"fruit\", \"fruit\", \"fruit\", \"fruit\", \"fruit\", \"fruit\", \"fruit\", \"fruit\", \"fruit\", \"fruitiness\", \"fruity\", \"fruity\", \"fruity\", \"fruity\", \"fruity\", \"fruity\", \"fun\", \"generic\", \"gew\", \"golden\", \"good\", \"good\", \"good\", \"good\", \"good\", \"good\", \"good\", \"gooseberry\", \"gorgeous\", \"grape\", \"grape\", \"grape\", \"grape\", \"grapefruit\", \"grapefruit\", \"grass\", \"great\", \"great\", \"green\", \"green\", \"green\", \"green\", \"grenache\", \"grenache\", \"grigio\", \"grill\", \"gris\", \"hard\", \"hard\", \"harsh\", \"hay\", \"heart\", \"hearty\", \"heavy\", \"heavy\", \"heavy\", \"help\", \"herb\", \"herb\", \"herb\", \"herb\", \"herb\", \"herb\", \"herb\", \"herbaceous\", \"herbal\", \"herbal\", \"high\", \"high\", \"high\", \"highly\", \"hint\", \"hint\", \"hint\", \"hint\", \"hint\", \"hint\", \"hint\", \"hint\", \"hint\", \"honey\", \"honey\", \"honeyed\", \"honeysuckle\", \"hot\", \"hot\", \"huge\", \"immediate\", \"imported\", \"imported\", \"imported\", \"imports\", \"impression\", \"impressive\", \"impressive\", \"influence\", \"infuse\", \"initially\", \"instead\", \"integrate\", \"intensity\", \"italy\", \"jam\", \"jam\", \"jam\", \"jammy\", \"kiwi\", \"know\", \"lamb\", \"lean\", \"lean\", \"lean\", \"leather\", \"leather\", \"leather\", \"leathery\", \"leathery\", \"leave\", \"leave\", \"lemon\", \"lemony\", \"length\", \"length\", \"length\", \"let\", \"lift\", \"light\", \"light\", \"light\", \"light\", \"light\", \"light\", \"like\", \"like\", \"like\", \"like\", \"like\", \"likely\", \"lime\", \"liqueur\", \"little\", \"little\", \"lively\", \"lively\", \"lively\", \"load\", \"load\", \"long\", \"long\", \"long\", \"long\", \"long\", \"long\", \"look\", \"lose\", \"lot\", \"love\", \"lovely\", \"lovely\", \"luminous\", \"massive\", \"meat\", \"meat\", \"medicinal\", \"medium\", \"medium\", \"medium\", \"medium\", \"medium\", \"medium\", \"melon\", \"menthol\", \"merlot\", \"merlot\", \"meyer\", \"midpalate\", \"mildly\", \"milk\", \"milk\", \"mineral\", \"mineral\", \"minerally\", \"mix\", \"mix\", \"mix\", \"mix\", \"mix\", \"mix\", \"mix\", \"mix\", \"modern\", \"molasses\", \"moment\", \"month\", \"mountain\", \"mountain\", \"mourv\", \"mouth\", \"mouth\", \"mouth\", \"mouth\", \"mouth\", \"mouth\", \"mouthful\", \"mouthwatering\", \"muscular\", \"napa\", \"natural\", \"nectarine\", \"nectarine\", \"need\", \"need\", \"need\", \"new\", \"new\", \"nice\", \"noir\", \"nose\", \"nose\", \"nose\", \"nose\", \"nose\", \"nose\", \"note\", \"note\", \"note\", \"note\", \"note\", \"note\", \"note\", \"nuance\", \"nut\", \"oak\", \"oak\", \"oak\", \"oak\", \"offer\", \"offer\", \"offer\", \"offer\", \"offer\", \"offer\", \"offer\", \"offer\", \"oily\", \"old\", \"old\", \"olive\", \"open\", \"open\", \"open\", \"open\", \"open\", \"orange\", \"orange\", \"overall\", \"overripe\", \"pair\", \"pair\", \"pair\", \"palate\", \"palate\", \"palate\", \"palate\", \"palate\", \"palate\", \"pale\", \"papaya\", \"past\", \"pasta\", \"pastry\", \"peach\", \"peach\", \"pear\", \"pear\", \"peel\", \"penetrate\", \"pepper\", \"pepper\", \"pepper\", \"pepper\", \"pepper\", \"pepper\", \"personality\", \"petit\", \"petite\", \"pie\", \"pineapple\", \"pineapple\", \"pink\", \"pinot\", \"pinot\", \"pleasant\", \"pleasure\", \"plum\", \"plum\", \"plush\", \"point\", \"point\", \"poise\", \"popcorn\", \"port\", \"potential\", \"powder\", \"powerful\", \"pretty\", \"price\", \"produce\", \"produce\", \"production\", \"profile\", \"proportion\", \"prosecco\", \"prune\", \"prune\", \"pungent\", \"quality\", \"quality\", \"quality\", \"quality\", \"quickly\", \"raisin\", \"raisiny\", \"raspberry\", \"raspberry\", \"raspberry\", \"raw\", \"ready\", \"red\", \"red\", \"red\", \"red\", \"red\", \"red\", \"red\", \"redolent\", \"refresh\", \"refresh\", \"relatively\", \"residual\", \"resiny\", \"restrain\", \"reveal\", \"reward\", \"rhubarb\", \"rich\", \"rich\", \"rich\", \"rich\", \"riesling\", \"rind\", \"rioja\", \"ripe\", \"ripe\", \"ripe\", \"ripe\", \"ripe\", \"ripe\", \"ripe\", \"ripe\", \"ripeness\", \"rise\", \"rise\", \"ritif\", \"river\", \"roast\", \"root\", \"ros\", \"rough\", \"round\", \"round\", \"round\", \"round\", \"round\", \"round\", \"rubbery\", \"ruby\", \"rustic\", \"sage\", \"sample\", \"sangiovese\", \"santa\", \"saturate\", \"sauce\", \"sauvignon\", \"sauvignon\", \"scent\", \"scent\", \"scent\", \"scent\", \"score\", \"screwcap\", \"selection\", \"settle\", \"shading\", \"sharp\", \"sharpness\", \"sheer\", \"shiraz\", \"short\", \"shows\", \"shows\", \"shows\", \"silky\", \"silky\", \"simple\", \"sipper\", \"sirah\", \"size\", \"slate\", \"slight\", \"slightly\", \"slightly\", \"slightly\", \"slightly\", \"smell\", \"smells\", \"smoky\", \"smoky\", \"smoky\", \"snappy\", \"soft\", \"soft\", \"soft\", \"soft\", \"soft\", \"soft\", \"soften\", \"sophisticate\", \"sour\", \"sour\", \"source\", \"sparkle\", \"sparkler\", \"spice\", \"spice\", \"spice\", \"spice\", \"spice\", \"spice\", \"spice\", \"spin-dry\", \"spin-dry\", \"spin-dry\", \"spin-dry\", \"spin-dry\", \"stage\", \"stalky\", \"standard\", \"stay\", \"steak\", \"steel\", \"steely\", \"stone\", \"stone\", \"straightforward\", \"strawberry\", \"strawberry\", \"structure\", \"structure\", \"structure\", \"sturdy\", \"style\", \"style\", \"style\", \"sugary\", \"super\", \"sweet\", \"sweet\", \"sweet\", \"sweet\", \"sweet\", \"sweet\", \"sweetness\", \"syrah\", \"syrah\", \"syrah\", \"syrupy\", \"table\", \"tang\", \"tangerine\", \"tannic\", \"tannic\", \"tannin\", \"tannin\", \"tannin\", \"tannin\", \"tannin\", \"tart\", \"tart\", \"tart\", \"tart\", \"taste\", \"taste\", \"taste\", \"teau\", \"tempranillo\", \"term\", \"texture\", \"texture\", \"texture\", \"texture\", \"texture\", \"tightly\", \"time\", \"time\", \"toast\", \"toast\", \"toast\", \"toast\", \"tobacco\", \"tobacco\", \"tobacco\", \"tomato\", \"touch\", \"touch\", \"touch\", \"tough\", \"tropical\", \"tropical\", \"true\", \"turn\", \"usa\", \"vanilla\", \"vanilla\", \"vanilla\", \"vanilla\", \"vanilla\", \"vanilla\", \"varietal\", \"varietal\", \"variety\", \"variety\", \"veer\", \"vegetal\", \"velvet\", \"verdot\", \"version\", \"vineyard\", \"vineyard\", \"vineyard\", \"vineyard\", \"vintage\", \"vintage\", \"vintage\", \"want\", \"warmth\", \"weight\", \"weight\", \"wet\", \"whiff\", \"white\", \"white\", \"white\", \"wide\", \"wild\", \"wild\", \"wine\", \"wine\", \"wine\", \"wine\", \"wine\", \"wine\", \"wine\", \"wine\", \"wine\", \"winemaking\", \"winery\", \"winery\", \"wines\", \"wonderful\", \"wood\", \"wood\", \"wood\", \"wood\", \"woody\", \"worth\", \"wrap\", \"year\", \"year\", \"yellow\", \"young\", \"young\", \"young\", \"zesty\", \"zesty\", \"zesty\", \"zin\", \"zinfandel\"]}, \"R\": 30, \"lambda.step\": 0.01, \"plot.opts\": {\"xlab\": \"PC1\", \"ylab\": \"PC2\"}, \"topic.order\": [3, 7, 6, 10, 2, 1, 9, 4, 5, 8]};\n",
       "\n",
       "function LDAvis_load_lib(url, callback){\n",
       "  var s = document.createElement('script');\n",
       "  s.src = url;\n",
       "  s.async = true;\n",
       "  s.onreadystatechange = s.onload = callback;\n",
       "  s.onerror = function(){console.warn(\"failed to load library \" + url);};\n",
       "  document.getElementsByTagName(\"head\")[0].appendChild(s);\n",
       "}\n",
       "\n",
       "if(typeof(LDAvis) !== \"undefined\"){\n",
       "   // already loaded: just create the visualization\n",
       "   !function(LDAvis){\n",
       "       new LDAvis(\"#\" + \"ldavis_el3072412867779661681388184893\", ldavis_el3072412867779661681388184893_data);\n",
       "   }(LDAvis);\n",
       "}else if(typeof define === \"function\" && define.amd){\n",
       "   // require.js is available: use it to load d3/LDAvis\n",
       "   require.config({paths: {d3: \"https://cdnjs.cloudflare.com/ajax/libs/d3/3.5.5/d3.min\"}});\n",
       "   require([\"d3\"], function(d3){\n",
       "      window.d3 = d3;\n",
       "      LDAvis_load_lib(\"https://cdn.rawgit.com/bmabey/pyLDAvis/files/ldavis.v1.0.0.js\", function(){\n",
       "        new LDAvis(\"#\" + \"ldavis_el3072412867779661681388184893\", ldavis_el3072412867779661681388184893_data);\n",
       "      });\n",
       "    });\n",
       "}else{\n",
       "    // require.js not available: dynamically load d3 & LDAvis\n",
       "    LDAvis_load_lib(\"https://cdnjs.cloudflare.com/ajax/libs/d3/3.5.5/d3.min.js\", function(){\n",
       "         LDAvis_load_lib(\"https://cdn.rawgit.com/bmabey/pyLDAvis/files/ldavis.v1.0.0.js\", function(){\n",
       "                 new LDAvis(\"#\" + \"ldavis_el3072412867779661681388184893\", ldavis_el3072412867779661681388184893_data);\n",
       "            })\n",
       "         });\n",
       "}\n",
       "</script>"
      ],
      "text/plain": [
       "PreparedData(topic_coordinates=                x           y  topics  cluster       Freq\n",
       "topic                                                    \n",
       "2      -87.654572  -85.905556       1        1  15.757019\n",
       "6       19.383211 -111.420372       2        1  13.321650\n",
       "5      113.906326  -26.348547       3        1  12.517125\n",
       "9      -12.132884   -6.143361       4        1  11.564259\n",
       "1      116.255463 -166.908035       5        1  10.593863\n",
       "0     -190.506821  -37.415215       6        1  10.306650\n",
       "8     -149.103928 -181.399399       7        1   8.899201\n",
       "3     -106.279121   62.855598       8        1   7.256164\n",
       "4       39.861206   92.573227       9        1   6.351241\n",
       "7      -23.617956 -220.064972      10        1   3.432828, topic_info=      Category          Freq        Term         Total  loglift  logprob\n",
       "term                                                                    \n",
       "1837   Default  40706.000000      cherry  40706.000000  30.0000  30.0000\n",
       "514    Default  34128.000000       aroma  34128.000000  29.0000  29.0000\n",
       "11163  Default  95319.000000        wine  95319.000000  28.0000  28.0000\n",
       "6826   Default  20648.000000         oak  20648.000000  27.0000  27.0000\n",
       "9939   Default  33000.000000      tannin  33000.000000  26.0000  26.0000\n",
       "3893   Default  85184.000000      flavor  85184.000000  25.0000  25.0000\n",
       "3830   Default  41903.000000      finish  41903.000000  24.0000  24.0000\n",
       "923    Default  21355.000000       berry  21355.000000  23.0000  23.0000\n",
       "11260  Default  16154.000000        year  16154.000000  22.0000  22.0000\n",
       "7109   Default  27541.000000      palate  27541.000000  21.0000  21.0000\n",
       "986    Default  25027.000000       black  25027.000000  20.0000  20.0000\n",
       "446    Default  13567.000000       apple  13567.000000  19.0000  19.0000\n",
       "7550   Default  14991.000000        plum  14991.000000  18.0000  18.0000\n",
       "4133   Default  73080.000000       fruit  73080.000000  17.0000  17.0000\n",
       "89     Default  30617.000000     acidity  30617.000000  16.0000  16.0000\n",
       "1444   Default  11597.000000    cabernet  11597.000000  15.0000  15.0000\n",
       "6777   Default  23970.000000        note  23970.000000  14.0000  14.0000\n",
       "8029   Default  12217.000000   raspberry  12217.000000  13.0000  13.0000\n",
       "1952   Default  12511.000000      citrus  12511.000000  12.0000  12.0000\n",
       "5736   Default  10946.000000      little  10946.000000  11.0000  11.0000\n",
       "4412   Default  32576.000000        good  32576.000000  10.0000  10.0000\n",
       "7238   Default  10807.000000       peach  10807.000000   9.0000   9.0000\n",
       "7470   Default   9535.000000       pinot   9535.000000   8.0000   8.0000\n",
       "976    Default  10870.000000        bite  10870.000000   7.0000   7.0000\n",
       "9354   Default  22866.000000    spin-dry  22866.000000   6.0000   6.0000\n",
       "4985   Default   6859.000000    imported   6859.000000   5.0000   5.0000\n",
       "2122   Default   7496.000000       colon   7496.000000   4.0000   4.0000\n",
       "11117  Default  12285.000000       white  12285.000000   3.0000   3.0000\n",
       "4101   Default  17868.000000       fresh  17868.000000   2.0000   2.0000\n",
       "9341   Default  27807.000000       spice  27807.000000   1.0000   1.0000\n",
       "...        ...           ...         ...           ...      ...      ...\n",
       "11216  Topic10    892.292969       woody    893.188053   3.3708  -4.8783\n",
       "5716   Topic10    882.890797     liqueur    883.785890   3.3708  -4.8889\n",
       "1245   Topic10    860.230133      briary    861.125224   3.3707  -4.9149\n",
       "3107   Topic10    852.160100         dre    853.055089   3.3707  -4.9243\n",
       "6502   Topic10    847.889263       mourv    848.784253   3.3707  -4.9293\n",
       "5797   Topic10    837.337334        lose    838.232438   3.3707  -4.9418\n",
       "7197   Topic10    830.374009        past    831.269102   3.3707  -4.9502\n",
       "8680   Topic10    790.091758    saturate    790.986862   3.3707  -4.9999\n",
       "1982   Topic10    775.506789       class    776.401927   3.3706  -5.0186\n",
       "7667   Topic10    738.498603      powder    739.393683   3.3706  -5.0675\n",
       "8952   Topic10    738.316245       sheer    739.211339   3.3706  -5.0677\n",
       "8259   Topic10    702.988859    restrain    703.883955   3.3705  -5.1167\n",
       "9480   Topic10    624.043833        stay    624.938953   3.3704  -5.2359\n",
       "4703   Topic10    622.971925         hay    623.867025   3.3704  -5.2376\n",
       "881    Topic10    611.240649        bell    612.135695   3.3703  -5.2566\n",
       "4966   Topic10    599.976911   immediate    600.872010   3.3703  -5.2752\n",
       "8104   Topic10    569.079295    redolent    569.974402   3.3702  -5.3281\n",
       "5750   Topic10   2154.848104        load   2664.573783   3.1595  -3.9966\n",
       "5577   Topic10   1964.255510       leave   2639.240812   3.0764  -4.0892\n",
       "4536   Topic10   1007.222035    grenache   1782.560627   2.8009  -4.7571\n",
       "4112   Topic10    961.201198    friendly   1887.965530   2.6967  -4.8039\n",
       "6303   Topic10    819.883786        milk   1289.161277   2.9192  -4.9629\n",
       "587    Topic10    858.521110  astringent   1465.894361   2.8368  -4.9169\n",
       "7926   Topic10   1241.459782     quality   4321.929920   2.1244  -4.5480\n",
       "7298   Topic10   1511.089257      pepper   9646.485522   1.5180  -4.3515\n",
       "8029   Topic10   1474.903667   raspberry  12217.150079   1.2575  -4.3757\n",
       "9868   Topic10   1234.526175       syrah   6448.713089   1.7186  -4.5536\n",
       "9974   Topic10   1196.279578       taste   7685.460215   1.5117  -4.5851\n",
       "976    Topic10   1154.329644        bite  10870.784639   1.1292  -4.6208\n",
       "8734   Topic10    952.171664       scent   4106.513084   1.9102  -4.8133\n",
       "\n",
       "[615 rows x 6 columns], token_table=       Topic      Freq        Term\n",
       "term                              \n",
       "47         3  0.640624      accent\n",
       "47         4  0.264032      accent\n",
       "47         5  0.001674      accent\n",
       "47         9  0.093520      accent\n",
       "89         1  0.150993     acidity\n",
       "89         2  0.546000     acidity\n",
       "89         3  0.020838     acidity\n",
       "89         4  0.170721     acidity\n",
       "89         5  0.090178     acidity\n",
       "89         6  0.006761     acidity\n",
       "89         7  0.014534     acidity\n",
       "110        1  0.150494         add\n",
       "110        2  0.270135         add\n",
       "110        3  0.148700         add\n",
       "110        5  0.001973         add\n",
       "110        6  0.043946         add\n",
       "110        7  0.010942         add\n",
       "110        9  0.373813         add\n",
       "176        1  0.081855  aftertaste\n",
       "176        2  0.917502  aftertaste\n",
       "179        1  0.717657         age\n",
       "179        2  0.149527         age\n",
       "179        6  0.132765         age\n",
       "242        1  0.203221     alcohol\n",
       "242        4  0.146261     alcohol\n",
       "242        5  0.650455     alcohol\n",
       "288        2  0.999888      almond\n",
       "294        7  0.999341   alongside\n",
       "336        6  0.998696    american\n",
       "432        3  0.999510      appeal\n",
       "...      ...       ...         ...\n",
       "11163      3  0.049780        wine\n",
       "11163      4  0.024759        wine\n",
       "11163      5  0.083016        wine\n",
       "11163      6  0.159327        wine\n",
       "11163      7  0.067331        wine\n",
       "11163      9  0.009872        wine\n",
       "11163     10  0.000409        wine\n",
       "11169      6  0.997631  winemaking\n",
       "11171      1  0.332647      winery\n",
       "11171      9  0.667188      winery\n",
       "11172      9  0.999144       wines\n",
       "11202      2  0.998665   wonderful\n",
       "11205      1  0.679352        wood\n",
       "11205      2  0.244354        wood\n",
       "11205      3  0.072866        wood\n",
       "11205      6  0.003365        wood\n",
       "11216     10  0.998670       woody\n",
       "11232      6  0.998862       worth\n",
       "11237      5  0.999550        wrap\n",
       "11260      1  0.928367        year\n",
       "11260      9  0.071560        year\n",
       "11268      2  0.999448      yellow\n",
       "11283      1  0.683825       young\n",
       "11283      2  0.140465       young\n",
       "11283      5  0.175582       young\n",
       "11313      2  0.050939       zesty\n",
       "11313      4  0.764505       zesty\n",
       "11313      8  0.184228       zesty\n",
       "11318      5  0.999568         zin\n",
       "11321      6  0.999443   zinfandel\n",
       "\n",
       "[938 rows x 3 columns], R=30, lambda_step=0.01, plot_opts={'xlab': 'PC1', 'ylab': 'PC2'}, topic_order=[3, 7, 6, 10, 2, 1, 9, 4, 5, 8])"
      ]
     },
     "execution_count": 30,
     "metadata": {},
     "output_type": "execute_result"
    }
   ],
   "source": [
    "pyLDAvis.enable_notebook()\n",
    "dash = pyLDAvis.sklearn.prepare(lda, data_vectorized, vectorizer, mds='tsne')\n",
    "dash"
   ]
  },
  {
   "cell_type": "markdown",
   "metadata": {
    "_uuid": "bb464a9c9c42de1d31dc0bcf4e850cea40af468c"
   },
   "source": [
    "## Comment interpréter ce graphique?\n",
    "1. Sujets à gauche tandis que leurs mots-clés respectifs sont à droite.\n",
    "2. Les sujets plus grands sont plus fréquents et plus proches les uns des autres, plus la similitude\n",
    "3. La sélection des mots-clés dépend de leur fréquence et de leur caractère discriminant.\n",
    "\n",
    "** Survolez les rubriques à gauche pour obtenir des informations sur les mots clés à droite. **"
   ]
  }
 ],
 "metadata": {
  "kernelspec": {
   "display_name": "Python 3",
   "language": "python",
   "name": "python3"
  },
  "language_info": {
   "codemirror_mode": {
    "name": "ipython",
    "version": 3
   },
   "file_extension": ".py",
   "mimetype": "text/x-python",
   "name": "python",
   "nbconvert_exporter": "python",
   "pygments_lexer": "ipython3",
   "version": "3.6.5"
  }
 },
 "nbformat": 4,
 "nbformat_minor": 1
}
